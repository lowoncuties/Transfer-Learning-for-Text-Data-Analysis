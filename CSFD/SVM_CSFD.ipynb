{
  "nbformat": 4,
  "nbformat_minor": 0,
  "metadata": {
    "colab": {
      "name": "SVM_CSFD.ipynb",
      "provenance": [],
      "collapsed_sections": []
    },
    "kernelspec": {
      "name": "python3",
      "display_name": "Python 3"
    },
    "language_info": {
      "name": "python"
    }
  },
  "cells": [
    {
      "cell_type": "markdown",
      "source": [
        "# Imports"
      ],
      "metadata": {
        "id": "wJpyTcL7hpdf"
      }
    },
    {
      "cell_type": "code",
      "source": [
        "from __future__ import absolute_import\n",
        "from __future__ import division\n",
        "from __future__ import print_function\n",
        "\n",
        "import numpy as np #numpy\n",
        "import seaborn as sns #seaborn\n",
        "from sklearn.metrics import accuracy_score, f1_score, classification_report # metrics\n",
        "import scipy\n",
        "import pandas as pd\n",
        "import re"
      ],
      "metadata": {
        "id": "LzMgzUqi_8XR"
      },
      "execution_count": null,
      "outputs": []
    },
    {
      "cell_type": "markdown",
      "source": [
        "# Load data\n"
      ],
      "metadata": {
        "id": "vMSulSjdoi5O"
      }
    },
    {
      "cell_type": "code",
      "source": [
        "from sklearn.utils import shuffle\n",
        "\n",
        "dataset = pd.read_csv('train_data_csfd.csv')\n",
        "dataset = shuffle(dataset)\n",
        "dataset.tail()"
      ],
      "metadata": {
        "id": "hHyMmeeQDgUr",
        "colab": {
          "base_uri": "https://localhost:8080/",
          "height": 206
        },
        "outputId": "0f7148ae-b068-4a56-e4fb-7b171121dedd"
      },
      "execution_count": null,
      "outputs": [
        {
          "output_type": "execute_result",
          "data": {
            "text/plain": [
              "                                                    text  label\n",
              "3083   Mrazivá lekce z minimalismu a ze zla, které ne...      1\n",
              "3906   Myslím, že je to jeden z nejhorších filmů, co ...      0\n",
              "19585  Tohleto bylo neskutečné, NESKUTEČNÉ!! Člověk b...      1\n",
              "46533  Náhodou co vím tak mě to celkem bavilo když se...      1\n",
              "36574  Formanuv i Nicholsonuv vrchol. Pravě komunisti...      1"
            ],
            "text/html": [
              "\n",
              "  <div id=\"df-a4e32ea7-43a1-44d1-863a-40dfbd7c40b7\">\n",
              "    <div class=\"colab-df-container\">\n",
              "      <div>\n",
              "<style scoped>\n",
              "    .dataframe tbody tr th:only-of-type {\n",
              "        vertical-align: middle;\n",
              "    }\n",
              "\n",
              "    .dataframe tbody tr th {\n",
              "        vertical-align: top;\n",
              "    }\n",
              "\n",
              "    .dataframe thead th {\n",
              "        text-align: right;\n",
              "    }\n",
              "</style>\n",
              "<table border=\"1\" class=\"dataframe\">\n",
              "  <thead>\n",
              "    <tr style=\"text-align: right;\">\n",
              "      <th></th>\n",
              "      <th>text</th>\n",
              "      <th>label</th>\n",
              "    </tr>\n",
              "  </thead>\n",
              "  <tbody>\n",
              "    <tr>\n",
              "      <th>3083</th>\n",
              "      <td>Mrazivá lekce z minimalismu a ze zla, které ne...</td>\n",
              "      <td>1</td>\n",
              "    </tr>\n",
              "    <tr>\n",
              "      <th>3906</th>\n",
              "      <td>Myslím, že je to jeden z nejhorších filmů, co ...</td>\n",
              "      <td>0</td>\n",
              "    </tr>\n",
              "    <tr>\n",
              "      <th>19585</th>\n",
              "      <td>Tohleto bylo neskutečné, NESKUTEČNÉ!! Člověk b...</td>\n",
              "      <td>1</td>\n",
              "    </tr>\n",
              "    <tr>\n",
              "      <th>46533</th>\n",
              "      <td>Náhodou co vím tak mě to celkem bavilo když se...</td>\n",
              "      <td>1</td>\n",
              "    </tr>\n",
              "    <tr>\n",
              "      <th>36574</th>\n",
              "      <td>Formanuv i Nicholsonuv vrchol. Pravě komunisti...</td>\n",
              "      <td>1</td>\n",
              "    </tr>\n",
              "  </tbody>\n",
              "</table>\n",
              "</div>\n",
              "      <button class=\"colab-df-convert\" onclick=\"convertToInteractive('df-a4e32ea7-43a1-44d1-863a-40dfbd7c40b7')\"\n",
              "              title=\"Convert this dataframe to an interactive table.\"\n",
              "              style=\"display:none;\">\n",
              "        \n",
              "  <svg xmlns=\"http://www.w3.org/2000/svg\" height=\"24px\"viewBox=\"0 0 24 24\"\n",
              "       width=\"24px\">\n",
              "    <path d=\"M0 0h24v24H0V0z\" fill=\"none\"/>\n",
              "    <path d=\"M18.56 5.44l.94 2.06.94-2.06 2.06-.94-2.06-.94-.94-2.06-.94 2.06-2.06.94zm-11 1L8.5 8.5l.94-2.06 2.06-.94-2.06-.94L8.5 2.5l-.94 2.06-2.06.94zm10 10l.94 2.06.94-2.06 2.06-.94-2.06-.94-.94-2.06-.94 2.06-2.06.94z\"/><path d=\"M17.41 7.96l-1.37-1.37c-.4-.4-.92-.59-1.43-.59-.52 0-1.04.2-1.43.59L10.3 9.45l-7.72 7.72c-.78.78-.78 2.05 0 2.83L4 21.41c.39.39.9.59 1.41.59.51 0 1.02-.2 1.41-.59l7.78-7.78 2.81-2.81c.8-.78.8-2.07 0-2.86zM5.41 20L4 18.59l7.72-7.72 1.47 1.35L5.41 20z\"/>\n",
              "  </svg>\n",
              "      </button>\n",
              "      \n",
              "  <style>\n",
              "    .colab-df-container {\n",
              "      display:flex;\n",
              "      flex-wrap:wrap;\n",
              "      gap: 12px;\n",
              "    }\n",
              "\n",
              "    .colab-df-convert {\n",
              "      background-color: #E8F0FE;\n",
              "      border: none;\n",
              "      border-radius: 50%;\n",
              "      cursor: pointer;\n",
              "      display: none;\n",
              "      fill: #1967D2;\n",
              "      height: 32px;\n",
              "      padding: 0 0 0 0;\n",
              "      width: 32px;\n",
              "    }\n",
              "\n",
              "    .colab-df-convert:hover {\n",
              "      background-color: #E2EBFA;\n",
              "      box-shadow: 0px 1px 2px rgba(60, 64, 67, 0.3), 0px 1px 3px 1px rgba(60, 64, 67, 0.15);\n",
              "      fill: #174EA6;\n",
              "    }\n",
              "\n",
              "    [theme=dark] .colab-df-convert {\n",
              "      background-color: #3B4455;\n",
              "      fill: #D2E3FC;\n",
              "    }\n",
              "\n",
              "    [theme=dark] .colab-df-convert:hover {\n",
              "      background-color: #434B5C;\n",
              "      box-shadow: 0px 1px 3px 1px rgba(0, 0, 0, 0.15);\n",
              "      filter: drop-shadow(0px 1px 2px rgba(0, 0, 0, 0.3));\n",
              "      fill: #FFFFFF;\n",
              "    }\n",
              "  </style>\n",
              "\n",
              "      <script>\n",
              "        const buttonEl =\n",
              "          document.querySelector('#df-a4e32ea7-43a1-44d1-863a-40dfbd7c40b7 button.colab-df-convert');\n",
              "        buttonEl.style.display =\n",
              "          google.colab.kernel.accessAllowed ? 'block' : 'none';\n",
              "\n",
              "        async function convertToInteractive(key) {\n",
              "          const element = document.querySelector('#df-a4e32ea7-43a1-44d1-863a-40dfbd7c40b7');\n",
              "          const dataTable =\n",
              "            await google.colab.kernel.invokeFunction('convertToInteractive',\n",
              "                                                     [key], {});\n",
              "          if (!dataTable) return;\n",
              "\n",
              "          const docLinkHtml = 'Like what you see? Visit the ' +\n",
              "            '<a target=\"_blank\" href=https://colab.research.google.com/notebooks/data_table.ipynb>data table notebook</a>'\n",
              "            + ' to learn more about interactive tables.';\n",
              "          element.innerHTML = '';\n",
              "          dataTable['output_type'] = 'display_data';\n",
              "          await google.colab.output.renderOutput(dataTable, element);\n",
              "          const docLink = document.createElement('div');\n",
              "          docLink.innerHTML = docLinkHtml;\n",
              "          element.appendChild(docLink);\n",
              "        }\n",
              "      </script>\n",
              "    </div>\n",
              "  </div>\n",
              "  "
            ]
          },
          "metadata": {},
          "execution_count": 16
        }
      ]
    },
    {
      "cell_type": "code",
      "source": [
        "x_train = list(dataset['text'])\n",
        "# print(x[:5])\n",
        "\n",
        "y_train = list(dataset['label'])\n",
        "# print(y[:5])\n",
        "\n",
        "x_train = x_train[:10000]\n",
        "y_train = y_train[:10000]\n",
        "\n",
        "#x_train = x_train[:20000]\n",
        "#y_train = y_train[:20000]\n",
        "\n",
        "#x_train = x_train[:25000]\n",
        "#y_train = y_train[:25000]"
      ],
      "metadata": {
        "id": "Js7x7c9UpSCL"
      },
      "execution_count": null,
      "outputs": []
    },
    {
      "cell_type": "markdown",
      "source": [
        "- to change number of samples, comment or uncomment this"
      ],
      "metadata": {
        "id": "neNonnlqJtbL"
      }
    },
    {
      "cell_type": "code",
      "source": [
        "test_data = pd.read_csv('test_data_csfd.csv')\n",
        "\n",
        "x_test = list(test_data['text'])\n",
        "y_test = list(test_data['label'])\n",
        "\n",
        "x_test = x_test[:10000]\n",
        "y_test = y_test[:10000]"
      ],
      "metadata": {
        "id": "g8e38RfBpT-b"
      },
      "execution_count": null,
      "outputs": []
    },
    {
      "cell_type": "markdown",
      "source": [
        "# Tokenize data"
      ],
      "metadata": {
        "id": "FhgeoJ2RHEvR"
      }
    },
    {
      "cell_type": "code",
      "source": [
        "from sklearn.feature_extraction.text import CountVectorizer\n",
        "\n",
        "vectorizer = CountVectorizer()\n",
        "\n",
        "vectorizer.fit(x_train + x_test)\n",
        "\n",
        "x_train_vec = vectorizer.transform(x_train) \n",
        "x_test_vec = vectorizer.transform(x_test)"
      ],
      "metadata": {
        "id": "hoYPAkRlArlI"
      },
      "execution_count": null,
      "outputs": []
    },
    {
      "cell_type": "markdown",
      "source": [
        "# Train and predict model"
      ],
      "metadata": {
        "id": "1uWQnPrAHHS5"
      }
    },
    {
      "cell_type": "code",
      "source": [
        "from sklearn import svm\n",
        "\n",
        "svm = svm.SVC(C=1.0, kernel='linear', gamma='auto')\n",
        "\n",
        "prob = svm.fit(x_train_vec, y_train)\n",
        "\n",
        "y_pred_svm = svm.predict(x_test_vec)\n"
      ],
      "metadata": {
        "id": "knr3iPM_Arnp"
      },
      "execution_count": null,
      "outputs": []
    },
    {
      "cell_type": "code",
      "source": [
        "accuracy_score(y_test, y_pred_svm) *100"
      ],
      "metadata": {
        "id": "v3iIFMR5FEeN",
        "colab": {
          "base_uri": "https://localhost:8080/"
        },
        "outputId": "3238011c-4149-45ee-f67d-755f75154609"
      },
      "execution_count": null,
      "outputs": [
        {
          "output_type": "execute_result",
          "data": {
            "text/plain": [
              "86.4"
            ]
          },
          "metadata": {},
          "execution_count": 21
        }
      ]
    },
    {
      "cell_type": "code",
      "source": [
        "accuracy_sc = accuracy_score(y_pred=y_pred_svm.round(),y_true=y_test)*100\n",
        "f1_sc = f1_score(y_pred=y_pred_svm.round(),y_true=y_test)\n",
        "\n",
        "print(\"Accuracy score is {}% \".format(accuracy_sc))\n",
        "print(\"f1-score is {}% \".format(f1_sc))\n",
        "print(classification_report(y_pred=y_pred_svm.round(),y_true=y_test))"
      ],
      "metadata": {
        "id": "8SY1qZwjQUzA",
        "colab": {
          "base_uri": "https://localhost:8080/"
        },
        "outputId": "c91d4a94-bd58-4d76-9759-c8c87d8f6100"
      },
      "execution_count": null,
      "outputs": [
        {
          "output_type": "stream",
          "name": "stdout",
          "text": [
            "Accuracy score is 86.4% \n",
            "f1-score is 0.8611678236014699% \n",
            "              precision    recall  f1-score   support\n",
            "\n",
            "           0       0.85      0.88      0.87      5000\n",
            "           1       0.88      0.84      0.86      5000\n",
            "\n",
            "    accuracy                           0.86     10000\n",
            "   macro avg       0.86      0.86      0.86     10000\n",
            "weighted avg       0.86      0.86      0.86     10000\n",
            "\n"
          ]
        }
      ]
    }
  ]
}