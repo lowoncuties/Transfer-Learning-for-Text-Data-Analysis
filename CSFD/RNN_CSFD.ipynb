{
  "nbformat": 4,
  "nbformat_minor": 0,
  "metadata": {
    "colab": {
      "name": "RNN_CSFD.ipynb",
      "provenance": [],
      "collapsed_sections": [],
      "toc_visible": true
    },
    "kernelspec": {
      "name": "python3",
      "display_name": "Python 3"
    },
    "language_info": {
      "name": "python"
    }
  },
  "cells": [
    {
      "cell_type": "markdown",
      "source": [
        "# Imports"
      ],
      "metadata": {
        "id": "Y9Ddc51AV3Ng"
      }
    },
    {
      "cell_type": "code",
      "metadata": {
        "id": "43AiImZRqXjT"
      },
      "source": [
        "from __future__ import absolute_import\n",
        "from __future__ import division\n",
        "from __future__ import print_function\n",
        "\n",
        "import matplotlib.pyplot as plt # plotting\n",
        "import matplotlib.image as mpimg # images\n",
        "import numpy as np #numpy\n",
        "import seaborn as sns #plotting\n",
        "import tensorflow.compat.v2 as tf #use tensorflow v2 as a main \n",
        "import tensorflow.keras as keras # required for high level applications\n",
        "from sklearn.model_selection import train_test_split # split for validation sets\n",
        "from sklearn.metrics import accuracy_score, f1_score, classification_report # metrics\n",
        "import scipy\n",
        "import pandas as pd\n",
        "import re"
      ],
      "execution_count": null,
      "outputs": []
    },
    {
      "cell_type": "markdown",
      "source": [
        "# Load data"
      ],
      "metadata": {
        "id": "s8RZpKj4V_MU"
      }
    },
    {
      "cell_type": "code",
      "metadata": {
        "colab": {
          "base_uri": "https://localhost:8080/",
          "height": 206
        },
        "id": "8wrGeiWKC5OO",
        "outputId": "fffd30b4-d581-4c88-f1c6-5551269a5987"
      },
      "source": [
        "from sklearn.utils import shuffle\n",
        "\n",
        "train_data = pd.read_csv('train_data_csfd.csv')\n",
        "train_data = shuffle(train_data)\n",
        "train_data.head()"
      ],
      "execution_count": null,
      "outputs": [
        {
          "output_type": "execute_result",
          "data": {
            "text/plain": [
              "                                                    text  label\n",
              "37105  Viděl jsem jen první 2 minuty, když nohy němec...      0\n",
              "37455  Tak tohle je dokonalost sama! Cameron je géniu...      1\n",
              "12422  Výbordelnej seriál, akorát mě udivuje to množs...      1\n",
              "15031                           Jedním slovem vyjímečné.      1\n",
              "45823  Tohle je možná vtip, ale ne moc vtipnej a doce...      0"
            ],
            "text/html": [
              "\n",
              "  <div id=\"df-3c7667cd-fdff-4884-8a57-d8b1a9a26fff\">\n",
              "    <div class=\"colab-df-container\">\n",
              "      <div>\n",
              "<style scoped>\n",
              "    .dataframe tbody tr th:only-of-type {\n",
              "        vertical-align: middle;\n",
              "    }\n",
              "\n",
              "    .dataframe tbody tr th {\n",
              "        vertical-align: top;\n",
              "    }\n",
              "\n",
              "    .dataframe thead th {\n",
              "        text-align: right;\n",
              "    }\n",
              "</style>\n",
              "<table border=\"1\" class=\"dataframe\">\n",
              "  <thead>\n",
              "    <tr style=\"text-align: right;\">\n",
              "      <th></th>\n",
              "      <th>text</th>\n",
              "      <th>label</th>\n",
              "    </tr>\n",
              "  </thead>\n",
              "  <tbody>\n",
              "    <tr>\n",
              "      <th>37105</th>\n",
              "      <td>Viděl jsem jen první 2 minuty, když nohy němec...</td>\n",
              "      <td>0</td>\n",
              "    </tr>\n",
              "    <tr>\n",
              "      <th>37455</th>\n",
              "      <td>Tak tohle je dokonalost sama! Cameron je géniu...</td>\n",
              "      <td>1</td>\n",
              "    </tr>\n",
              "    <tr>\n",
              "      <th>12422</th>\n",
              "      <td>Výbordelnej seriál, akorát mě udivuje to množs...</td>\n",
              "      <td>1</td>\n",
              "    </tr>\n",
              "    <tr>\n",
              "      <th>15031</th>\n",
              "      <td>Jedním slovem vyjímečné.</td>\n",
              "      <td>1</td>\n",
              "    </tr>\n",
              "    <tr>\n",
              "      <th>45823</th>\n",
              "      <td>Tohle je možná vtip, ale ne moc vtipnej a doce...</td>\n",
              "      <td>0</td>\n",
              "    </tr>\n",
              "  </tbody>\n",
              "</table>\n",
              "</div>\n",
              "      <button class=\"colab-df-convert\" onclick=\"convertToInteractive('df-3c7667cd-fdff-4884-8a57-d8b1a9a26fff')\"\n",
              "              title=\"Convert this dataframe to an interactive table.\"\n",
              "              style=\"display:none;\">\n",
              "        \n",
              "  <svg xmlns=\"http://www.w3.org/2000/svg\" height=\"24px\"viewBox=\"0 0 24 24\"\n",
              "       width=\"24px\">\n",
              "    <path d=\"M0 0h24v24H0V0z\" fill=\"none\"/>\n",
              "    <path d=\"M18.56 5.44l.94 2.06.94-2.06 2.06-.94-2.06-.94-.94-2.06-.94 2.06-2.06.94zm-11 1L8.5 8.5l.94-2.06 2.06-.94-2.06-.94L8.5 2.5l-.94 2.06-2.06.94zm10 10l.94 2.06.94-2.06 2.06-.94-2.06-.94-.94-2.06-.94 2.06-2.06.94z\"/><path d=\"M17.41 7.96l-1.37-1.37c-.4-.4-.92-.59-1.43-.59-.52 0-1.04.2-1.43.59L10.3 9.45l-7.72 7.72c-.78.78-.78 2.05 0 2.83L4 21.41c.39.39.9.59 1.41.59.51 0 1.02-.2 1.41-.59l7.78-7.78 2.81-2.81c.8-.78.8-2.07 0-2.86zM5.41 20L4 18.59l7.72-7.72 1.47 1.35L5.41 20z\"/>\n",
              "  </svg>\n",
              "      </button>\n",
              "      \n",
              "  <style>\n",
              "    .colab-df-container {\n",
              "      display:flex;\n",
              "      flex-wrap:wrap;\n",
              "      gap: 12px;\n",
              "    }\n",
              "\n",
              "    .colab-df-convert {\n",
              "      background-color: #E8F0FE;\n",
              "      border: none;\n",
              "      border-radius: 50%;\n",
              "      cursor: pointer;\n",
              "      display: none;\n",
              "      fill: #1967D2;\n",
              "      height: 32px;\n",
              "      padding: 0 0 0 0;\n",
              "      width: 32px;\n",
              "    }\n",
              "\n",
              "    .colab-df-convert:hover {\n",
              "      background-color: #E2EBFA;\n",
              "      box-shadow: 0px 1px 2px rgba(60, 64, 67, 0.3), 0px 1px 3px 1px rgba(60, 64, 67, 0.15);\n",
              "      fill: #174EA6;\n",
              "    }\n",
              "\n",
              "    [theme=dark] .colab-df-convert {\n",
              "      background-color: #3B4455;\n",
              "      fill: #D2E3FC;\n",
              "    }\n",
              "\n",
              "    [theme=dark] .colab-df-convert:hover {\n",
              "      background-color: #434B5C;\n",
              "      box-shadow: 0px 1px 3px 1px rgba(0, 0, 0, 0.15);\n",
              "      filter: drop-shadow(0px 1px 2px rgba(0, 0, 0, 0.3));\n",
              "      fill: #FFFFFF;\n",
              "    }\n",
              "  </style>\n",
              "\n",
              "      <script>\n",
              "        const buttonEl =\n",
              "          document.querySelector('#df-3c7667cd-fdff-4884-8a57-d8b1a9a26fff button.colab-df-convert');\n",
              "        buttonEl.style.display =\n",
              "          google.colab.kernel.accessAllowed ? 'block' : 'none';\n",
              "\n",
              "        async function convertToInteractive(key) {\n",
              "          const element = document.querySelector('#df-3c7667cd-fdff-4884-8a57-d8b1a9a26fff');\n",
              "          const dataTable =\n",
              "            await google.colab.kernel.invokeFunction('convertToInteractive',\n",
              "                                                     [key], {});\n",
              "          if (!dataTable) return;\n",
              "\n",
              "          const docLinkHtml = 'Like what you see? Visit the ' +\n",
              "            '<a target=\"_blank\" href=https://colab.research.google.com/notebooks/data_table.ipynb>data table notebook</a>'\n",
              "            + ' to learn more about interactive tables.';\n",
              "          element.innerHTML = '';\n",
              "          dataTable['output_type'] = 'display_data';\n",
              "          await google.colab.output.renderOutput(dataTable, element);\n",
              "          const docLink = document.createElement('div');\n",
              "          docLink.innerHTML = docLinkHtml;\n",
              "          element.appendChild(docLink);\n",
              "        }\n",
              "      </script>\n",
              "    </div>\n",
              "  </div>\n",
              "  "
            ]
          },
          "metadata": {},
          "execution_count": 46
        }
      ]
    },
    {
      "cell_type": "code",
      "metadata": {
        "id": "eWzdFujjJv8k"
      },
      "source": [
        "x_train = list(train_data['text'])\n",
        "# print(x[:5])\n",
        "\n",
        "y_train = list(train_data['label'])\n",
        "# print(y[:5])\n",
        "\n",
        "#x_train = x_train[:20000]\n",
        "#y_train = y_train[:20000]"
      ],
      "execution_count": null,
      "outputs": []
    },
    {
      "cell_type": "markdown",
      "source": [
        "- uncomment to use other values"
      ],
      "metadata": {
        "id": "XZFhKnICl4YS"
      }
    },
    {
      "cell_type": "code",
      "source": [
        "test_data = pd.read_csv('test_data_csfd.csv')\n",
        "\n",
        "x_test = list(test_data['text'])\n",
        "y_test = list(test_data['label'])"
      ],
      "metadata": {
        "id": "4cuC1ak6cLLA"
      },
      "execution_count": null,
      "outputs": []
    },
    {
      "cell_type": "markdown",
      "source": [
        "# Train model and predict on test dataset"
      ],
      "metadata": {
        "id": "hi5hIM-cWHU4"
      }
    },
    {
      "cell_type": "code",
      "metadata": {
        "id": "OHPU07Ouqna_"
      },
      "source": [
        "from tensorflow import string as tf_string\n",
        "from tensorflow.keras.layers.experimental.preprocessing import TextVectorization\n",
        "from tensorflow.compat.v1.keras.layers import CuDNNGRU, CuDNNLSTM\n",
        "from tensorflow.keras.layers import LSTM, GRU, Bidirectional"
      ],
      "execution_count": null,
      "outputs": []
    },
    {
      "cell_type": "markdown",
      "source": [
        "# 1 - 5 Vectorizer parameters"
      ],
      "metadata": {
        "id": "zHJhqgoSWLs0"
      }
    },
    {
      "cell_type": "code",
      "metadata": {
        "id": "IhwrBoC3qpTn"
      },
      "source": [
        "embedding_dim = 128 # Dimension of embedded representation\n",
        "vocab_size = 30000 # Number of unique tokens in vocabulary\n",
        "sequence_length = 50 # Output dimension after vectorizing \n",
        "\n",
        "vect_layer = TextVectorization(max_tokens=vocab_size, output_mode='int', output_sequence_length=sequence_length)\n",
        "vect_layer.adapt(x_train)"
      ],
      "execution_count": null,
      "outputs": []
    },
    {
      "cell_type": "code",
      "metadata": {
        "id": "INpD6UAIqsM6"
      },
      "source": [
        "x_train, x_val, y_train, y_val = train_test_split(x_train, y_train, test_size=0.10, random_state=69, stratify=y_train)"
      ],
      "execution_count": null,
      "outputs": []
    },
    {
      "cell_type": "markdown",
      "source": [
        "## 1.Experiment"
      ],
      "metadata": {
        "id": "R4hz2pe4Wz9b"
      }
    },
    {
      "cell_type": "code",
      "metadata": {
        "colab": {
          "base_uri": "https://localhost:8080/"
        },
        "outputId": "0c5ca763-574f-4a88-b079-ab4deede6013",
        "id": "UGoh-4VMWz9e"
      },
      "source": [
        "input_layer = keras.layers.Input(shape=(1,), dtype=tf_string)\n",
        "x_v = vect_layer(input_layer)\n",
        "emb = keras.layers.Embedding(vocab_size, embedding_dim)(x_v)\n",
        "x = LSTM(64, activation='relu', return_sequences=True)(emb)\n",
        "x = GRU(64, activation='relu', return_sequences=True)(x)\n",
        "x = keras.layers.Flatten()(x)\n",
        "x = keras.layers.Dense(64, 'relu')(x)\n",
        "x = keras.layers.Dense(32, 'relu')(x)\n",
        "x = keras.layers.Dropout(0.2)(x)\n",
        "output_layer = keras.layers.Dense(1, 'sigmoid')(x)\n",
        "\n",
        "model = keras.Model(input_layer, output_layer)\n",
        "model.summary()\n",
        "optimizer = tf.keras.optimizers.Adam(learning_rate=1e-3)\n",
        "\n",
        "model.compile(optimizer=optimizer, loss=keras.losses.BinaryCrossentropy(), metrics=['accuracy'])"
      ],
      "execution_count": null,
      "outputs": [
        {
          "output_type": "stream",
          "name": "stdout",
          "text": [
            "Model: \"model_2\"\n",
            "_________________________________________________________________\n",
            " Layer (type)                Output Shape              Param #   \n",
            "=================================================================\n",
            " input_3 (InputLayer)        [(None, 1)]               0         \n",
            "                                                                 \n",
            " text_vectorization_1 (TextV  (None, 50)               0         \n",
            " ectorization)                                                   \n",
            "                                                                 \n",
            " embedding_2 (Embedding)     (None, 50, 128)           3840000   \n",
            "                                                                 \n",
            " lstm_2 (LSTM)               (None, 50, 64)            49408     \n",
            "                                                                 \n",
            " gru_2 (GRU)                 (None, 50, 64)            24960     \n",
            "                                                                 \n",
            " flatten_2 (Flatten)         (None, 3200)              0         \n",
            "                                                                 \n",
            " dense_6 (Dense)             (None, 64)                204864    \n",
            "                                                                 \n",
            " dense_7 (Dense)             (None, 32)                2080      \n",
            "                                                                 \n",
            " dropout_2 (Dropout)         (None, 32)                0         \n",
            "                                                                 \n",
            " dense_8 (Dense)             (None, 1)                 33        \n",
            "                                                                 \n",
            "=================================================================\n",
            "Total params: 4,121,345\n",
            "Trainable params: 4,121,345\n",
            "Non-trainable params: 0\n",
            "_________________________________________________________________\n"
          ]
        }
      ]
    },
    {
      "cell_type": "code",
      "metadata": {
        "colab": {
          "base_uri": "https://localhost:8080/"
        },
        "outputId": "3c3be335-79c0-440d-9396-b1314a57a507",
        "id": "TilgqHt-Wz9f"
      },
      "source": [
        "es = keras.callbacks.EarlyStopping(monitor='val_loss', min_delta=0, patience=70, restore_best_weights=True)\n",
        "\n",
        "batch_size = 256\n",
        "epochs = 2\n",
        "history = model.fit(x_train, y_train, validation_data=(x_val, y_val), callbacks=[es], epochs=epochs, batch_size=batch_size)"
      ],
      "execution_count": null,
      "outputs": [
        {
          "output_type": "stream",
          "name": "stdout",
          "text": [
            "Epoch 1/2\n",
            "71/71 [==============================] - 37s 467ms/step - loss: 0.5092 - accuracy: 0.7295 - val_loss: 0.2958 - val_accuracy: 0.8740\n",
            "Epoch 2/2\n",
            "71/71 [==============================] - 28s 390ms/step - loss: 0.1867 - accuracy: 0.9277 - val_loss: 0.2626 - val_accuracy: 0.8920\n"
          ]
        }
      ]
    },
    {
      "cell_type": "code",
      "metadata": {
        "colab": {
          "base_uri": "https://localhost:8080/"
        },
        "outputId": "81e79adc-9708-46e7-bcfe-3288d6b3c2b2",
        "id": "YqF9JUVqWz9g"
      },
      "source": [
        "model.evaluate(x_test,y_test)"
      ],
      "execution_count": null,
      "outputs": [
        {
          "output_type": "stream",
          "name": "stdout",
          "text": [
            "313/313 [==============================] - 7s 21ms/step - loss: 0.2813 - accuracy: 0.8785\n"
          ]
        },
        {
          "output_type": "execute_result",
          "data": {
            "text/plain": [
              "[0.281250536441803, 0.8784999847412109]"
            ]
          },
          "metadata": {},
          "execution_count": 27
        }
      ]
    },
    {
      "cell_type": "code",
      "metadata": {
        "colab": {
          "base_uri": "https://localhost:8080/"
        },
        "outputId": "3e5e740f-86bf-4b8b-e154-b9d1484ff6fd",
        "id": "NcRZybRhWz9g"
      },
      "source": [
        "y_pred=model.predict(x_test)\n",
        "\n",
        "\n",
        "accuracy_sc = accuracy_score(y_pred=y_pred.round(),y_true=y_test)*100\n",
        "f1_sc = f1_score(y_pred=y_pred.round(),y_true=y_test)\n",
        "\n",
        "print(\"Accuracy score is {}% \".format(accuracy_sc))\n",
        "print(\"f1-score is {}% \".format(f1_sc))\n",
        "print(classification_report(y_pred=y_pred.round(),y_true=y_test))"
      ],
      "execution_count": null,
      "outputs": [
        {
          "output_type": "stream",
          "name": "stdout",
          "text": [
            "Accuracy score is 87.85% \n",
            "f1-score is 0.8777050830397584% \n",
            "              precision    recall  f1-score   support\n",
            "\n",
            "           0       0.87      0.89      0.88      5000\n",
            "           1       0.88      0.87      0.88      5000\n",
            "\n",
            "    accuracy                           0.88     10000\n",
            "   macro avg       0.88      0.88      0.88     10000\n",
            "weighted avg       0.88      0.88      0.88     10000\n",
            "\n"
          ]
        }
      ]
    },
    {
      "cell_type": "markdown",
      "source": [
        "## 2.Experiment"
      ],
      "metadata": {
        "id": "nV61QC7_XdmZ"
      }
    },
    {
      "cell_type": "code",
      "metadata": {
        "colab": {
          "base_uri": "https://localhost:8080/"
        },
        "outputId": "c2408ad2-8771-4789-9c94-6c62045e0c12",
        "id": "cxPLg7f-XdnB"
      },
      "source": [
        "input_layer = keras.layers.Input(shape=(1,), dtype=tf_string)\n",
        "x_v = vect_layer(input_layer)\n",
        "emb = keras.layers.Embedding(vocab_size, embedding_dim)(x_v)\n",
        "x = Bidirectional(LSTM(64, activation='relu', return_sequences=True))(emb)\n",
        "x = Bidirectional(GRU(64, activation='relu', return_sequences=True))(x)\n",
        "x = keras.layers.Flatten()(x)\n",
        "x = keras.layers.Dense(64, 'relu')(x)\n",
        "x = keras.layers.Dense(32, 'relu')(x)\n",
        "x = keras.layers.Dropout(0.2)(x)\n",
        "output_layer = keras.layers.Dense(1, 'sigmoid')(x)\n",
        "\n",
        "model = keras.Model(input_layer, output_layer)\n",
        "model.summary()\n",
        "optimizer = tf.keras.optimizers.Adam(learning_rate=1e-3)\n",
        "\n",
        "model.compile(optimizer=optimizer, loss=keras.losses.BinaryCrossentropy(), metrics=['accuracy'])"
      ],
      "execution_count": null,
      "outputs": [
        {
          "output_type": "stream",
          "name": "stdout",
          "text": [
            "Model: \"model_3\"\n",
            "_________________________________________________________________\n",
            " Layer (type)                Output Shape              Param #   \n",
            "=================================================================\n",
            " input_4 (InputLayer)        [(None, 1)]               0         \n",
            "                                                                 \n",
            " text_vectorization_1 (TextV  (None, 50)               0         \n",
            " ectorization)                                                   \n",
            "                                                                 \n",
            " embedding_3 (Embedding)     (None, 50, 128)           3840000   \n",
            "                                                                 \n",
            " bidirectional (Bidirectiona  (None, 50, 128)          98816     \n",
            " l)                                                              \n",
            "                                                                 \n",
            " bidirectional_1 (Bidirectio  (None, 50, 128)          74496     \n",
            " nal)                                                            \n",
            "                                                                 \n",
            " flatten_3 (Flatten)         (None, 6400)              0         \n",
            "                                                                 \n",
            " dense_9 (Dense)             (None, 64)                409664    \n",
            "                                                                 \n",
            " dense_10 (Dense)            (None, 32)                2080      \n",
            "                                                                 \n",
            " dropout_3 (Dropout)         (None, 32)                0         \n",
            "                                                                 \n",
            " dense_11 (Dense)            (None, 1)                 33        \n",
            "                                                                 \n",
            "=================================================================\n",
            "Total params: 4,425,089\n",
            "Trainable params: 4,425,089\n",
            "Non-trainable params: 0\n",
            "_________________________________________________________________\n"
          ]
        }
      ]
    },
    {
      "cell_type": "code",
      "metadata": {
        "colab": {
          "base_uri": "https://localhost:8080/"
        },
        "outputId": "38b8d01f-b153-48fa-cbf9-c8cc6c4cf6b3",
        "id": "wxaLKXUxXdnC"
      },
      "source": [
        "es = keras.callbacks.EarlyStopping(monitor='val_loss', min_delta=0, patience=70, restore_best_weights=True)\n",
        "\n",
        "batch_size = 256\n",
        "epochs = 2\n",
        "history = model.fit(x_train, y_train, validation_data=(x_val, y_val), callbacks=[es], epochs=epochs, batch_size=batch_size)"
      ],
      "execution_count": null,
      "outputs": [
        {
          "output_type": "stream",
          "name": "stdout",
          "text": [
            "Epoch 1/2\n",
            "71/71 [==============================] - 63s 803ms/step - loss: 0.5167 - accuracy: 0.7282 - val_loss: 0.3100 - val_accuracy: 0.8670\n",
            "Epoch 2/2\n",
            "71/71 [==============================] - 71s 999ms/step - loss: 0.1846 - accuracy: 0.9285 - val_loss: 0.2817 - val_accuracy: 0.8845\n"
          ]
        }
      ]
    },
    {
      "cell_type": "code",
      "metadata": {
        "colab": {
          "base_uri": "https://localhost:8080/"
        },
        "outputId": "37b7e78f-fa98-4b63-dad1-614eaaaebaa7",
        "id": "SEKJcjEhXdnC"
      },
      "source": [
        "model.evaluate(x_test,y_test)"
      ],
      "execution_count": null,
      "outputs": [
        {
          "output_type": "stream",
          "name": "stdout",
          "text": [
            "313/313 [==============================] - 10s 33ms/step - loss: 0.3076 - accuracy: 0.8706\n"
          ]
        },
        {
          "output_type": "execute_result",
          "data": {
            "text/plain": [
              "[0.30757012963294983, 0.8705999851226807]"
            ]
          },
          "metadata": {},
          "execution_count": 31
        }
      ]
    },
    {
      "cell_type": "code",
      "metadata": {
        "colab": {
          "base_uri": "https://localhost:8080/"
        },
        "outputId": "d3cb41e0-9894-42a1-8619-9863a598c606",
        "id": "jWtHIS7LXdnD"
      },
      "source": [
        "y_pred=model.predict(x_test)\n",
        "\n",
        "\n",
        "accuracy_sc = accuracy_score(y_pred=y_pred.round(),y_true=y_test)*100\n",
        "f1_sc = f1_score(y_pred=y_pred.round(),y_true=y_test)\n",
        "\n",
        "print(\"Accuracy score is {}% \".format(accuracy_sc))\n",
        "print(\"f1-score is {}% \".format(f1_sc))\n",
        "print(classification_report(y_pred=y_pred.round(),y_true=y_test))"
      ],
      "execution_count": null,
      "outputs": [
        {
          "output_type": "stream",
          "name": "stdout",
          "text": [
            "Accuracy score is 87.06% \n",
            "f1-score is 0.8749033255993813% \n",
            "              precision    recall  f1-score   support\n",
            "\n",
            "           0       0.90      0.84      0.87      5000\n",
            "           1       0.85      0.91      0.87      5000\n",
            "\n",
            "    accuracy                           0.87     10000\n",
            "   macro avg       0.87      0.87      0.87     10000\n",
            "weighted avg       0.87      0.87      0.87     10000\n",
            "\n"
          ]
        }
      ]
    },
    {
      "cell_type": "markdown",
      "source": [
        "## 3.Experiment"
      ],
      "metadata": {
        "id": "U9eulKvTWTK5"
      }
    },
    {
      "cell_type": "code",
      "metadata": {
        "colab": {
          "base_uri": "https://localhost:8080/"
        },
        "id": "xR4eDsZzqv0v",
        "outputId": "d37cd791-a52b-4081-df48-df1d88c5b741"
      },
      "source": [
        "input_layer = keras.layers.Input(shape=(1,), dtype=tf_string)\n",
        "x_v = vect_layer(input_layer)\n",
        "emb = keras.layers.Embedding(vocab_size, embedding_dim)(x_v)\n",
        "x = LSTM(64, activation='relu', return_sequences=True)(emb)\n",
        "x = GRU(64, activation='relu', return_sequences=True)(x)\n",
        "x = keras.layers.Flatten()(x)\n",
        "x = keras.layers.Dense(64, 'relu')(x)\n",
        "x = keras.layers.Dense(32, 'relu')(x)\n",
        "x = keras.layers.Dropout(0.2)(x)\n",
        "output_layer = keras.layers.Dense(1, 'sigmoid')(x)\n",
        "\n",
        "model = keras.Model(input_layer, output_layer)\n",
        "model.summary()\n",
        "optimizer = tf.keras.optimizers.Adam(learning_rate=1e-3)\n",
        "\n",
        "model.compile(optimizer=optimizer, loss=keras.losses.BinaryCrossentropy(), metrics=['accuracy'])"
      ],
      "execution_count": null,
      "outputs": [
        {
          "output_type": "stream",
          "name": "stdout",
          "text": [
            "Model: \"model_3\"\n",
            "_________________________________________________________________\n",
            " Layer (type)                Output Shape              Param #   \n",
            "=================================================================\n",
            " input_4 (InputLayer)        [(None, 1)]               0         \n",
            "                                                                 \n",
            " text_vectorization (TextVec  (None, 50)               0         \n",
            " torization)                                                     \n",
            "                                                                 \n",
            " embedding_3 (Embedding)     (None, 50, 128)           3840000   \n",
            "                                                                 \n",
            " lstm_3 (LSTM)               (None, 50, 64)            49408     \n",
            "                                                                 \n",
            " gru_3 (GRU)                 (None, 50, 64)            24960     \n",
            "                                                                 \n",
            " flatten_3 (Flatten)         (None, 3200)              0         \n",
            "                                                                 \n",
            " dense_9 (Dense)             (None, 64)                204864    \n",
            "                                                                 \n",
            " dense_10 (Dense)            (None, 32)                2080      \n",
            "                                                                 \n",
            " dropout_3 (Dropout)         (None, 32)                0         \n",
            "                                                                 \n",
            " dense_11 (Dense)            (None, 1)                 33        \n",
            "                                                                 \n",
            "=================================================================\n",
            "Total params: 4,121,345\n",
            "Trainable params: 4,121,345\n",
            "Non-trainable params: 0\n",
            "_________________________________________________________________\n"
          ]
        }
      ]
    },
    {
      "cell_type": "code",
      "metadata": {
        "id": "ewXTHS6Lq6s_"
      },
      "source": [
        "es = keras.callbacks.EarlyStopping(monitor='val_loss', min_delta=0, patience=70, restore_best_weights=True)\n",
        "\n",
        "batch_size = 256\n",
        "epochs = 2\n",
        "history = model.fit(x_train, y_train, validation_data=(x_val, y_val), callbacks=[es], epochs=epochs, batch_size=batch_size)"
      ],
      "execution_count": null,
      "outputs": []
    },
    {
      "cell_type": "code",
      "metadata": {
        "colab": {
          "base_uri": "https://localhost:8080/"
        },
        "id": "50WHey1aAM1M",
        "outputId": "c37c9aac-1477-4094-f951-bf33284504bd"
      },
      "source": [
        "model.evaluate(x_test,y_test)"
      ],
      "execution_count": null,
      "outputs": [
        {
          "output_type": "stream",
          "name": "stdout",
          "text": [
            "313/313 [==============================] - 6s 21ms/step - loss: 0.2422 - accuracy: 0.9000\n"
          ]
        },
        {
          "output_type": "execute_result",
          "data": {
            "text/plain": [
              "[0.24216914176940918, 0.8999999761581421]"
            ]
          },
          "metadata": {},
          "execution_count": 17
        }
      ]
    },
    {
      "cell_type": "code",
      "metadata": {
        "colab": {
          "base_uri": "https://localhost:8080/"
        },
        "id": "iD1QPA0Vq8gK",
        "outputId": "c220c120-29ad-4543-838b-247375ec6d7f"
      },
      "source": [
        "y_pred=model.predict(x_test)\n",
        "\n",
        "\n",
        "accuracy_sc = accuracy_score(y_pred=y_pred.round(),y_true=y_test)*100\n",
        "f1_sc = f1_score(y_pred=y_pred.round(),y_true=y_test)\n",
        "\n",
        "print(\"Accuracy score is {}% \".format(accuracy_sc))\n",
        "print(\"f1-score is {}% \".format(f1_sc))\n",
        "print(classification_report(y_pred=y_pred.round(),y_true=y_test))"
      ],
      "execution_count": null,
      "outputs": [
        {
          "output_type": "stream",
          "name": "stdout",
          "text": [
            "Accuracy score is 90.0% \n",
            "f1-score is 0.8996789727126806% \n",
            "              precision    recall  f1-score   support\n",
            "\n",
            "           0       0.90      0.90      0.90      5000\n",
            "           1       0.90      0.90      0.90      5000\n",
            "\n",
            "    accuracy                           0.90     10000\n",
            "   macro avg       0.90      0.90      0.90     10000\n",
            "weighted avg       0.90      0.90      0.90     10000\n",
            "\n"
          ]
        }
      ]
    },
    {
      "cell_type": "markdown",
      "source": [
        "## 4.Experiment"
      ],
      "metadata": {
        "id": "YUK3e8uAYb6c"
      }
    },
    {
      "cell_type": "code",
      "metadata": {
        "colab": {
          "base_uri": "https://localhost:8080/"
        },
        "outputId": "8b253b4f-1b40-4f22-897a-f3fea289ea75",
        "id": "fat-Eg9VYb6q"
      },
      "source": [
        "input_layer = keras.layers.Input(shape=(1,), dtype=tf_string)\n",
        "x_v = vect_layer(input_layer)\n",
        "emb = keras.layers.Embedding(vocab_size, embedding_dim)(x_v)\n",
        "x = Bidirectional(LSTM(64, activation='relu', return_sequences=True))(emb)\n",
        "x = Bidirectional(GRU(64, activation='relu', return_sequences=True))(x)\n",
        "x = keras.layers.Flatten()(x)\n",
        "x = keras.layers.Dense(64, 'relu')(x)\n",
        "x = keras.layers.Dense(32, 'relu')(x)\n",
        "x = keras.layers.Dropout(0.2)(x)\n",
        "output_layer = keras.layers.Dense(1, 'sigmoid')(x)\n",
        "\n",
        "model = keras.Model(input_layer, output_layer)\n",
        "model.summary()\n",
        "optimizer = tf.keras.optimizers.Adam(learning_rate=1e-3)\n",
        "\n",
        "model.compile(optimizer=optimizer, loss=keras.losses.BinaryCrossentropy(), metrics=['accuracy'])"
      ],
      "execution_count": null,
      "outputs": [
        {
          "output_type": "stream",
          "name": "stdout",
          "text": [
            "Model: \"model_4\"\n",
            "_________________________________________________________________\n",
            " Layer (type)                Output Shape              Param #   \n",
            "=================================================================\n",
            " input_5 (InputLayer)        [(None, 1)]               0         \n",
            "                                                                 \n",
            " text_vectorization_2 (TextV  (None, 50)               0         \n",
            " ectorization)                                                   \n",
            "                                                                 \n",
            " embedding_4 (Embedding)     (None, 50, 128)           3840000   \n",
            "                                                                 \n",
            " bidirectional_2 (Bidirectio  (None, 50, 128)          98816     \n",
            " nal)                                                            \n",
            "                                                                 \n",
            " bidirectional_3 (Bidirectio  (None, 50, 128)          74496     \n",
            " nal)                                                            \n",
            "                                                                 \n",
            " flatten_4 (Flatten)         (None, 6400)              0         \n",
            "                                                                 \n",
            " dense_12 (Dense)            (None, 64)                409664    \n",
            "                                                                 \n",
            " dense_13 (Dense)            (None, 32)                2080      \n",
            "                                                                 \n",
            " dropout_4 (Dropout)         (None, 32)                0         \n",
            "                                                                 \n",
            " dense_14 (Dense)            (None, 1)                 33        \n",
            "                                                                 \n",
            "=================================================================\n",
            "Total params: 4,425,089\n",
            "Trainable params: 4,425,089\n",
            "Non-trainable params: 0\n",
            "_________________________________________________________________\n"
          ]
        }
      ]
    },
    {
      "cell_type": "code",
      "metadata": {
        "colab": {
          "base_uri": "https://localhost:8080/"
        },
        "outputId": "7119b739-0be3-4f35-df1f-2103f2e27bc0",
        "id": "u6RW_SYzYb6q"
      },
      "source": [
        "es = keras.callbacks.EarlyStopping(monitor='val_loss', min_delta=0, patience=70, restore_best_weights=True)\n",
        "\n",
        "batch_size = 256\n",
        "epochs = 2\n",
        "history = model.fit(x_train, y_train, validation_data=(x_val, y_val), callbacks=[es], epochs=epochs, batch_size=batch_size)"
      ],
      "execution_count": null,
      "outputs": [
        {
          "output_type": "stream",
          "name": "stdout",
          "text": [
            "Epoch 1/2\n",
            "178/178 [==============================] - 155s 833ms/step - loss: 0.3504 - accuracy: 0.8391 - val_loss: 0.2381 - val_accuracy: 0.9016\n",
            "Epoch 2/2\n",
            "178/178 [==============================] - 132s 741ms/step - loss: 0.1447 - accuracy: 0.9468 - val_loss: 0.2677 - val_accuracy: 0.8937\n"
          ]
        }
      ]
    },
    {
      "cell_type": "code",
      "metadata": {
        "colab": {
          "base_uri": "https://localhost:8080/"
        },
        "id": "-R-kfIvMYb6q",
        "outputId": "6bf423f5-25a8-4ea4-a0fd-db97cec1b337"
      },
      "source": [
        "model.evaluate(x_test,y_test)"
      ],
      "execution_count": null,
      "outputs": [
        {
          "output_type": "stream",
          "name": "stdout",
          "text": [
            "313/313 [==============================] - 10s 33ms/step - loss: 0.2533 - accuracy: 0.8974\n"
          ]
        },
        {
          "output_type": "execute_result",
          "data": {
            "text/plain": [
              "[0.2532559931278229, 0.8974000215530396]"
            ]
          },
          "metadata": {},
          "execution_count": 40
        }
      ]
    },
    {
      "cell_type": "code",
      "metadata": {
        "colab": {
          "base_uri": "https://localhost:8080/"
        },
        "id": "HBbOLDLZYb6q",
        "outputId": "e9cc89e1-2595-4219-a434-6b005b8badbd"
      },
      "source": [
        "y_pred=model.predict(x_test)\n",
        "\n",
        "\n",
        "accuracy_sc = accuracy_score(y_pred=y_pred.round(),y_true=y_test)*100\n",
        "f1_sc = f1_score(y_pred=y_pred.round(),y_true=y_test)\n",
        "\n",
        "print(\"Accuracy score is {}% \".format(accuracy_sc))\n",
        "print(\"f1-score is {}% \".format(f1_sc))\n",
        "print(classification_report(y_pred=y_pred.round(),y_true=y_test))"
      ],
      "execution_count": null,
      "outputs": [
        {
          "output_type": "stream",
          "name": "stdout",
          "text": [
            "Accuracy score is 89.74% \n",
            "f1-score is 0.8963007883565798% \n",
            "              precision    recall  f1-score   support\n",
            "\n",
            "           0       0.89      0.91      0.90      5000\n",
            "           1       0.91      0.89      0.90      5000\n",
            "\n",
            "    accuracy                           0.90     10000\n",
            "   macro avg       0.90      0.90      0.90     10000\n",
            "weighted avg       0.90      0.90      0.90     10000\n",
            "\n"
          ]
        }
      ]
    },
    {
      "cell_type": "markdown",
      "source": [
        "## 5.Experiment"
      ],
      "metadata": {
        "id": "Os7OG-a_zcpc"
      }
    },
    {
      "cell_type": "code",
      "metadata": {
        "colab": {
          "base_uri": "https://localhost:8080/"
        },
        "outputId": "36cee2ed-b8fa-42e8-dc91-a2648c77319f",
        "id": "cy3-xcEPze4Y"
      },
      "source": [
        "input_layer = keras.layers.Input(shape=(1,), dtype=tf_string)\n",
        "x_v = vect_layer(input_layer)\n",
        "emb = keras.layers.Embedding(vocab_size, embedding_dim)(x_v)\n",
        "x = Bidirectional(LSTM(128, activation='relu', return_sequences=True))(emb)\n",
        "x = Bidirectional(LSTM(64, activation='relu', return_sequences=True))(x)\n",
        "x = keras.layers.Dropout(0.4)(x)\n",
        "x = Bidirectional(GRU(64, activation='relu', return_sequences=True))(x)\n",
        "x = keras.layers.Flatten()(x)\n",
        "x = keras.layers.Dense(64, 'relu')(x)\n",
        "x = keras.layers.Dense(32, 'relu')(x)\n",
        "x = keras.layers.Dropout(0.4)(x)\n",
        "output_layer = keras.layers.Dense(1, 'sigmoid')(x)\n",
        "\n",
        "model = keras.Model(input_layer, output_layer)\n",
        "model.summary()\n",
        "optimizer = tf.keras.optimizers.Adam(learning_rate=1e-3)\n",
        "\n",
        "model.compile(optimizer=optimizer, loss=keras.losses.BinaryCrossentropy(), metrics=['accuracy'])"
      ],
      "execution_count": null,
      "outputs": [
        {
          "output_type": "stream",
          "name": "stdout",
          "text": [
            "Model: \"model_5\"\n",
            "_________________________________________________________________\n",
            " Layer (type)                Output Shape              Param #   \n",
            "=================================================================\n",
            " input_6 (InputLayer)        [(None, 1)]               0         \n",
            "                                                                 \n",
            " text_vectorization_2 (TextV  (None, 50)               0         \n",
            " ectorization)                                                   \n",
            "                                                                 \n",
            " embedding_5 (Embedding)     (None, 50, 128)           3840000   \n",
            "                                                                 \n",
            " bidirectional_4 (Bidirectio  (None, 50, 256)          263168    \n",
            " nal)                                                            \n",
            "                                                                 \n",
            " bidirectional_5 (Bidirectio  (None, 50, 128)          164352    \n",
            " nal)                                                            \n",
            "                                                                 \n",
            " dropout_5 (Dropout)         (None, 50, 128)           0         \n",
            "                                                                 \n",
            " bidirectional_6 (Bidirectio  (None, 50, 128)          74496     \n",
            " nal)                                                            \n",
            "                                                                 \n",
            " flatten_5 (Flatten)         (None, 6400)              0         \n",
            "                                                                 \n",
            " dense_15 (Dense)            (None, 64)                409664    \n",
            "                                                                 \n",
            " dense_16 (Dense)            (None, 32)                2080      \n",
            "                                                                 \n",
            " dropout_6 (Dropout)         (None, 32)                0         \n",
            "                                                                 \n",
            " dense_17 (Dense)            (None, 1)                 33        \n",
            "                                                                 \n",
            "=================================================================\n",
            "Total params: 4,753,793\n",
            "Trainable params: 4,753,793\n",
            "Non-trainable params: 0\n",
            "_________________________________________________________________\n"
          ]
        }
      ]
    },
    {
      "cell_type": "code",
      "metadata": {
        "colab": {
          "base_uri": "https://localhost:8080/"
        },
        "outputId": "1db16da2-7ba5-43f6-a5b4-1a7d8151a3a8",
        "id": "mYux1GZCze4Z"
      },
      "source": [
        "es = keras.callbacks.EarlyStopping(monitor='val_loss', min_delta=0, patience=70, restore_best_weights=True)\n",
        "\n",
        "batch_size = 256\n",
        "epochs = 2\n",
        "history = model.fit(x_train, y_train, validation_data=(x_val, y_val), callbacks=[es], epochs=epochs, batch_size=batch_size)"
      ],
      "execution_count": null,
      "outputs": [
        {
          "output_type": "stream",
          "name": "stdout",
          "text": [
            "Epoch 1/2\n",
            "178/178 [==============================] - 281s 2s/step - loss: 0.3736 - accuracy: 0.8227 - val_loss: 0.2471 - val_accuracy: 0.8953\n",
            "Epoch 2/2\n",
            "178/178 [==============================] - 266s 1s/step - loss: 0.1580 - accuracy: 0.9429 - val_loss: 0.2554 - val_accuracy: 0.8943\n"
          ]
        }
      ]
    },
    {
      "cell_type": "code",
      "metadata": {
        "colab": {
          "base_uri": "https://localhost:8080/"
        },
        "outputId": "73c0bf20-1fad-43f4-ef8b-2bd44021b2bb",
        "id": "c0_cwCeDze4Z"
      },
      "source": [
        "model.evaluate(x_test,y_test)"
      ],
      "execution_count": null,
      "outputs": [
        {
          "output_type": "stream",
          "name": "stdout",
          "text": [
            "313/313 [==============================] - 21s 68ms/step - loss: 0.2503 - accuracy: 0.8976\n"
          ]
        },
        {
          "output_type": "execute_result",
          "data": {
            "text/plain": [
              "[0.25027996301651, 0.897599995136261]"
            ]
          },
          "metadata": {},
          "execution_count": 44
        }
      ]
    },
    {
      "cell_type": "code",
      "metadata": {
        "colab": {
          "base_uri": "https://localhost:8080/"
        },
        "outputId": "e4dc809f-5fa1-4fa2-9ab3-cb532d978e6f",
        "id": "TFTkzm_bze4Z"
      },
      "source": [
        "y_pred=model.predict(x_test)\n",
        "\n",
        "accuracy_sc = accuracy_score(y_pred=y_pred.round(),y_true=y_test)*100\n",
        "f1_sc = f1_score(y_pred=y_pred.round(),y_true=y_test)\n",
        "\n",
        "print(\"Accuracy score is {}% \".format(accuracy_sc))\n",
        "print(\"f1-score is {}% \".format(f1_sc))\n",
        "print(classification_report(y_pred=y_pred.round(),y_true=y_test))"
      ],
      "execution_count": null,
      "outputs": [
        {
          "output_type": "stream",
          "name": "stdout",
          "text": [
            "Accuracy score is 89.75999999999999% \n",
            "f1-score is 0.8975180144115293% \n",
            "              precision    recall  f1-score   support\n",
            "\n",
            "           0       0.90      0.90      0.90      5000\n",
            "           1       0.90      0.90      0.90      5000\n",
            "\n",
            "    accuracy                           0.90     10000\n",
            "   macro avg       0.90      0.90      0.90     10000\n",
            "weighted avg       0.90      0.90      0.90     10000\n",
            "\n"
          ]
        }
      ]
    },
    {
      "cell_type": "markdown",
      "source": [
        "# 6 - 8 Vectorizer parameters"
      ],
      "metadata": {
        "id": "TrT2MFD8dL3K"
      }
    },
    {
      "cell_type": "code",
      "metadata": {
        "id": "FMQ-QNFkdkn3"
      },
      "source": [
        "embedding_dim = 128 # Dimension of embedded representation - this is already part of latent space, there is captured some dependecy among words, we are learning this vectors in ANN\n",
        "vocab_size = 100000 # Number of unique tokens in vocabulary\n",
        "sequence_length = 50 # Output dimension after vectorizing - words in vectorited representation are independent\n",
        "\n",
        "vect_layer = TextVectorization(max_tokens=vocab_size, output_mode='int', output_sequence_length=sequence_length)\n",
        "vect_layer.adapt(x_train)"
      ],
      "execution_count": null,
      "outputs": []
    },
    {
      "cell_type": "code",
      "metadata": {
        "id": "g9XVVUyOdkoV"
      },
      "source": [
        "x_train, x_val, y_train, y_val = train_test_split(x_train, y_train, test_size=0.10, random_state=69, stratify=y_train)"
      ],
      "execution_count": null,
      "outputs": []
    },
    {
      "cell_type": "markdown",
      "source": [
        "## 6.Experiment"
      ],
      "metadata": {
        "id": "h4YnzOZrdXli"
      }
    },
    {
      "cell_type": "code",
      "metadata": {
        "colab": {
          "base_uri": "https://localhost:8080/"
        },
        "outputId": "73855566-6fb4-4d41-c2f1-b4237d1571ea",
        "id": "nqzKraE7dXl4"
      },
      "source": [
        "input_layer = keras.layers.Input(shape=(1,), dtype=tf_string)\n",
        "x_v = vect_layer(input_layer)\n",
        "emb = keras.layers.Embedding(vocab_size, embedding_dim)(x_v)\n",
        "x = LSTM(64, activation='relu', return_sequences=True)(emb)\n",
        "x = GRU(64, activation='relu', return_sequences=True)(x)\n",
        "x = keras.layers.Flatten()(x)\n",
        "x = keras.layers.Dense(64, 'relu')(x)\n",
        "x = keras.layers.Dense(32, 'relu')(x)\n",
        "x = keras.layers.Dropout(0.2)(x)\n",
        "output_layer = keras.layers.Dense(1, 'sigmoid')(x)\n",
        "\n",
        "model = keras.Model(input_layer, output_layer)\n",
        "model.summary()\n",
        "optimizer = tf.keras.optimizers.Adam(learning_rate=1e-3)\n",
        "\n",
        "model.compile(optimizer=optimizer, loss=keras.losses.BinaryCrossentropy(), metrics=['accuracy'])"
      ],
      "execution_count": null,
      "outputs": [
        {
          "output_type": "stream",
          "name": "stdout",
          "text": [
            "Model: \"model_6\"\n",
            "_________________________________________________________________\n",
            " Layer (type)                Output Shape              Param #   \n",
            "=================================================================\n",
            " input_7 (InputLayer)        [(None, 1)]               0         \n",
            "                                                                 \n",
            " text_vectorization_3 (TextV  (None, 50)               0         \n",
            " ectorization)                                                   \n",
            "                                                                 \n",
            " embedding_6 (Embedding)     (None, 50, 128)           12800000  \n",
            "                                                                 \n",
            " lstm_7 (LSTM)               (None, 50, 64)            49408     \n",
            "                                                                 \n",
            " gru_6 (GRU)                 (None, 50, 64)            24960     \n",
            "                                                                 \n",
            " flatten_6 (Flatten)         (None, 3200)              0         \n",
            "                                                                 \n",
            " dense_18 (Dense)            (None, 64)                204864    \n",
            "                                                                 \n",
            " dense_19 (Dense)            (None, 32)                2080      \n",
            "                                                                 \n",
            " dropout_7 (Dropout)         (None, 32)                0         \n",
            "                                                                 \n",
            " dense_20 (Dense)            (None, 1)                 33        \n",
            "                                                                 \n",
            "=================================================================\n",
            "Total params: 13,081,345\n",
            "Trainable params: 13,081,345\n",
            "Non-trainable params: 0\n",
            "_________________________________________________________________\n"
          ]
        }
      ]
    },
    {
      "cell_type": "code",
      "metadata": {
        "colab": {
          "base_uri": "https://localhost:8080/"
        },
        "id": "jrEFfewHdXl4",
        "outputId": "aa79a203-44ab-4b67-aca9-ef29d8bd2b8e"
      },
      "source": [
        "es = keras.callbacks.EarlyStopping(monitor='val_loss', min_delta=0, patience=70, restore_best_weights=True)\n",
        "\n",
        "batch_size = 256\n",
        "epochs = 2\n",
        "history = model.fit(x_train, y_train, validation_data=(x_val, y_val), callbacks=[es], epochs=epochs, batch_size=batch_size)"
      ],
      "execution_count": null,
      "outputs": [
        {
          "output_type": "stream",
          "name": "stdout",
          "text": [
            "Epoch 1/2\n",
            "178/178 [==============================] - 86s 468ms/step - loss: 0.3849 - accuracy: 0.8191 - val_loss: 0.2422 - val_accuracy: 0.9036\n",
            "Epoch 2/2\n",
            "178/178 [==============================] - 82s 463ms/step - loss: 0.1293 - accuracy: 0.9530 - val_loss: 0.2422 - val_accuracy: 0.9073\n"
          ]
        }
      ]
    },
    {
      "cell_type": "code",
      "metadata": {
        "colab": {
          "base_uri": "https://localhost:8080/"
        },
        "outputId": "15b995de-3f02-42b3-8185-4746d2cf02f8",
        "id": "QBizs_JqdXl5"
      },
      "source": [
        "model.evaluate(x_test,y_test)"
      ],
      "execution_count": null,
      "outputs": [
        {
          "output_type": "stream",
          "name": "stdout",
          "text": [
            "313/313 [==============================] - 6s 20ms/step - loss: 0.2491 - accuracy: 0.9008\n"
          ]
        },
        {
          "output_type": "execute_result",
          "data": {
            "text/plain": [
              "[0.24905547499656677, 0.9007999897003174]"
            ]
          },
          "metadata": {},
          "execution_count": 53
        }
      ]
    },
    {
      "cell_type": "code",
      "metadata": {
        "colab": {
          "base_uri": "https://localhost:8080/"
        },
        "outputId": "481b627b-7f92-466f-9131-d50982397cb7",
        "id": "mw6y5quTdXl5"
      },
      "source": [
        "y_pred=model.predict(x_test)\n",
        "\n",
        "\n",
        "accuracy_sc = accuracy_score(y_pred=y_pred.round(),y_true=y_test)*100\n",
        "f1_sc = f1_score(y_pred=y_pred.round(),y_true=y_test)\n",
        "\n",
        "print(\"Accuracy score is {}% \".format(accuracy_sc))\n",
        "print(\"f1-score is {}% \".format(f1_sc))\n",
        "print(classification_report(y_pred=y_pred.round(),y_true=y_test))"
      ],
      "execution_count": null,
      "outputs": [
        {
          "output_type": "stream",
          "name": "stdout",
          "text": [
            "Accuracy score is 90.08% \n",
            "f1-score is 0.9004815409309791% \n",
            "              precision    recall  f1-score   support\n",
            "\n",
            "           0       0.90      0.90      0.90      5000\n",
            "           1       0.90      0.90      0.90      5000\n",
            "\n",
            "    accuracy                           0.90     10000\n",
            "   macro avg       0.90      0.90      0.90     10000\n",
            "weighted avg       0.90      0.90      0.90     10000\n",
            "\n"
          ]
        }
      ]
    },
    {
      "cell_type": "markdown",
      "source": [
        "## 7.Experiment"
      ],
      "metadata": {
        "id": "oOmFqBsddXl6"
      }
    },
    {
      "cell_type": "code",
      "metadata": {
        "colab": {
          "base_uri": "https://localhost:8080/"
        },
        "outputId": "6ad06a47-0cef-4c6d-ad9b-80419189760a",
        "id": "ct4UxaC4dXl6"
      },
      "source": [
        "input_layer = keras.layers.Input(shape=(1,), dtype=tf_string)\n",
        "x_v = vect_layer(input_layer)\n",
        "emb = keras.layers.Embedding(vocab_size, embedding_dim)(x_v)\n",
        "x = Bidirectional(LSTM(64, activation='relu', return_sequences=True))(emb)\n",
        "x = Bidirectional(GRU(64, activation='relu', return_sequences=True))(x)\n",
        "x = keras.layers.Flatten()(x)\n",
        "x = keras.layers.Dense(64, 'relu')(x)\n",
        "x = keras.layers.Dense(32, 'relu')(x)\n",
        "x = keras.layers.Dropout(0.2)(x)\n",
        "output_layer = keras.layers.Dense(1, 'sigmoid')(x)\n",
        "\n",
        "model = keras.Model(input_layer, output_layer)\n",
        "model.summary()\n",
        "optimizer = tf.keras.optimizers.Adam(learning_rate=1e-3)\n",
        "\n",
        "model.compile(optimizer=optimizer, loss=keras.losses.BinaryCrossentropy(), metrics=['accuracy'])"
      ],
      "execution_count": null,
      "outputs": [
        {
          "output_type": "stream",
          "name": "stdout",
          "text": [
            "Model: \"model_7\"\n",
            "_________________________________________________________________\n",
            " Layer (type)                Output Shape              Param #   \n",
            "=================================================================\n",
            " input_8 (InputLayer)        [(None, 1)]               0         \n",
            "                                                                 \n",
            " text_vectorization_3 (TextV  (None, 50)               0         \n",
            " ectorization)                                                   \n",
            "                                                                 \n",
            " embedding_7 (Embedding)     (None, 50, 128)           12800000  \n",
            "                                                                 \n",
            " bidirectional_7 (Bidirectio  (None, 50, 128)          98816     \n",
            " nal)                                                            \n",
            "                                                                 \n",
            " bidirectional_8 (Bidirectio  (None, 50, 128)          74496     \n",
            " nal)                                                            \n",
            "                                                                 \n",
            " flatten_7 (Flatten)         (None, 6400)              0         \n",
            "                                                                 \n",
            " dense_21 (Dense)            (None, 64)                409664    \n",
            "                                                                 \n",
            " dense_22 (Dense)            (None, 32)                2080      \n",
            "                                                                 \n",
            " dropout_8 (Dropout)         (None, 32)                0         \n",
            "                                                                 \n",
            " dense_23 (Dense)            (None, 1)                 33        \n",
            "                                                                 \n",
            "=================================================================\n",
            "Total params: 13,385,089\n",
            "Trainable params: 13,385,089\n",
            "Non-trainable params: 0\n",
            "_________________________________________________________________\n"
          ]
        }
      ]
    },
    {
      "cell_type": "code",
      "metadata": {
        "colab": {
          "base_uri": "https://localhost:8080/"
        },
        "outputId": "d9aa4695-77a0-48e0-e077-76643b4b0bfb",
        "id": "IvRnygPrdXl6"
      },
      "source": [
        "es = keras.callbacks.EarlyStopping(monitor='val_loss', min_delta=0, patience=70, restore_best_weights=True)\n",
        "\n",
        "batch_size = 256\n",
        "epochs = 2\n",
        "history = model.fit(x_train, y_train, validation_data=(x_val, y_val), callbacks=[es], epochs=epochs, batch_size=batch_size)"
      ],
      "execution_count": null,
      "outputs": [
        {
          "output_type": "stream",
          "name": "stdout",
          "text": [
            "Epoch 1/2\n",
            "178/178 [==============================] - 157s 840ms/step - loss: 0.3498 - accuracy: 0.8344 - val_loss: 0.2266 - val_accuracy: 0.9077\n",
            "Epoch 2/2\n",
            "178/178 [==============================] - 145s 813ms/step - loss: 0.1141 - accuracy: 0.9587 - val_loss: 0.2677 - val_accuracy: 0.9012\n"
          ]
        }
      ]
    },
    {
      "cell_type": "code",
      "metadata": {
        "colab": {
          "base_uri": "https://localhost:8080/"
        },
        "outputId": "2ed1b3bf-3db1-4f2f-db7f-391346675d4f",
        "id": "7eIslKCbdXl7"
      },
      "source": [
        "model.evaluate(x_test,y_test)"
      ],
      "execution_count": null,
      "outputs": [
        {
          "output_type": "stream",
          "name": "stdout",
          "text": [
            "313/313 [==============================] - 10s 32ms/step - loss: 0.2693 - accuracy: 0.8969\n"
          ]
        },
        {
          "output_type": "execute_result",
          "data": {
            "text/plain": [
              "[0.26925718784332275, 0.8968999981880188]"
            ]
          },
          "metadata": {},
          "execution_count": 57
        }
      ]
    },
    {
      "cell_type": "code",
      "metadata": {
        "colab": {
          "base_uri": "https://localhost:8080/"
        },
        "outputId": "07170644-9279-4aba-b0af-bdf89a474cba",
        "id": "8-QsV3t_dXl7"
      },
      "source": [
        "y_pred=model.predict(x_test)\n",
        "\n",
        "\n",
        "accuracy_sc = accuracy_score(y_pred=y_pred.round(),y_true=y_test)*100\n",
        "f1_sc = f1_score(y_pred=y_pred.round(),y_true=y_test)\n",
        "\n",
        "print(\"Accuracy score is {}% \".format(accuracy_sc))\n",
        "print(\"f1-score is {}% \".format(f1_sc))\n",
        "print(classification_report(y_pred=y_pred.round(),y_true=y_test))"
      ],
      "execution_count": null,
      "outputs": [
        {
          "output_type": "stream",
          "name": "stdout",
          "text": [
            "Accuracy score is 89.69% \n",
            "f1-score is 0.8952129281431039% \n",
            "              precision    recall  f1-score   support\n",
            "\n",
            "           0       0.88      0.91      0.90      5000\n",
            "           1       0.91      0.88      0.90      5000\n",
            "\n",
            "    accuracy                           0.90     10000\n",
            "   macro avg       0.90      0.90      0.90     10000\n",
            "weighted avg       0.90      0.90      0.90     10000\n",
            "\n"
          ]
        }
      ]
    },
    {
      "cell_type": "markdown",
      "source": [
        "## 8.Experiment"
      ],
      "metadata": {
        "id": "9wB0_K3IdXl7"
      }
    },
    {
      "cell_type": "code",
      "metadata": {
        "colab": {
          "base_uri": "https://localhost:8080/"
        },
        "outputId": "092571ad-9459-4966-ca7c-471ad2b15cbc",
        "id": "vV54zy_HdXl8"
      },
      "source": [
        "input_layer = keras.layers.Input(shape=(1,), dtype=tf_string)\n",
        "x_v = vect_layer(input_layer)\n",
        "emb = keras.layers.Embedding(vocab_size, embedding_dim)(x_v)\n",
        "x = Bidirectional(LSTM(128, activation='relu', return_sequences=True))(emb)\n",
        "x = Bidirectional(LSTM(64, activation='relu', return_sequences=True))(x)\n",
        "x = keras.layers.Dropout(0.4)(x)\n",
        "x = Bidirectional(GRU(64, activation='relu', return_sequences=True))(x)\n",
        "x = keras.layers.Flatten()(x)\n",
        "x = keras.layers.Dense(64, 'relu')(x)\n",
        "x = keras.layers.Dense(32, 'relu')(x)\n",
        "x = keras.layers.Dropout(0.4)(x)\n",
        "output_layer = keras.layers.Dense(1, 'sigmoid')(x)\n",
        "\n",
        "model = keras.Model(input_layer, output_layer)\n",
        "model.summary()\n",
        "optimizer = tf.keras.optimizers.Adam(learning_rate=1e-3)\n",
        "\n",
        "model.compile(optimizer=optimizer, loss=keras.losses.BinaryCrossentropy(), metrics=['accuracy'])"
      ],
      "execution_count": null,
      "outputs": [
        {
          "output_type": "stream",
          "name": "stdout",
          "text": [
            "Model: \"model_8\"\n",
            "_________________________________________________________________\n",
            " Layer (type)                Output Shape              Param #   \n",
            "=================================================================\n",
            " input_9 (InputLayer)        [(None, 1)]               0         \n",
            "                                                                 \n",
            " text_vectorization_3 (TextV  (None, 50)               0         \n",
            " ectorization)                                                   \n",
            "                                                                 \n",
            " embedding_8 (Embedding)     (None, 50, 128)           12800000  \n",
            "                                                                 \n",
            " bidirectional_9 (Bidirectio  (None, 50, 256)          263168    \n",
            " nal)                                                            \n",
            "                                                                 \n",
            " bidirectional_10 (Bidirecti  (None, 50, 128)          164352    \n",
            " onal)                                                           \n",
            "                                                                 \n",
            " dropout_9 (Dropout)         (None, 50, 128)           0         \n",
            "                                                                 \n",
            " bidirectional_11 (Bidirecti  (None, 50, 128)          74496     \n",
            " onal)                                                           \n",
            "                                                                 \n",
            " flatten_8 (Flatten)         (None, 6400)              0         \n",
            "                                                                 \n",
            " dense_24 (Dense)            (None, 64)                409664    \n",
            "                                                                 \n",
            " dense_25 (Dense)            (None, 32)                2080      \n",
            "                                                                 \n",
            " dropout_10 (Dropout)        (None, 32)                0         \n",
            "                                                                 \n",
            " dense_26 (Dense)            (None, 1)                 33        \n",
            "                                                                 \n",
            "=================================================================\n",
            "Total params: 13,713,793\n",
            "Trainable params: 13,713,793\n",
            "Non-trainable params: 0\n",
            "_________________________________________________________________\n"
          ]
        }
      ]
    },
    {
      "cell_type": "code",
      "metadata": {
        "colab": {
          "base_uri": "https://localhost:8080/"
        },
        "outputId": "dea75f1e-d827-48cf-e4c8-ca4f872dc3e9",
        "id": "nOenq9xjdXl8"
      },
      "source": [
        "es = keras.callbacks.EarlyStopping(monitor='val_loss', min_delta=0, patience=70, restore_best_weights=True)\n",
        "\n",
        "batch_size = 256\n",
        "epochs = 2\n",
        "history = model.fit(x_train, y_train, validation_data=(x_val, y_val), callbacks=[es], epochs=epochs, batch_size=batch_size)"
      ],
      "execution_count": null,
      "outputs": [
        {
          "output_type": "stream",
          "name": "stdout",
          "text": [
            "Epoch 1/2\n",
            "178/178 [==============================] - 286s 2s/step - loss: 0.3762 - accuracy: 0.8228 - val_loss: 0.2199 - val_accuracy: 0.9119\n",
            "Epoch 2/2\n",
            "178/178 [==============================] - 275s 2s/step - loss: 0.1230 - accuracy: 0.9552 - val_loss: 0.2512 - val_accuracy: 0.9093\n"
          ]
        }
      ]
    },
    {
      "cell_type": "code",
      "metadata": {
        "colab": {
          "base_uri": "https://localhost:8080/"
        },
        "outputId": "b84caca0-be52-42cb-cab3-d52d904a8673",
        "id": "_3Hc_fxxdXl9"
      },
      "source": [
        "model.evaluate(x_test,y_test)"
      ],
      "execution_count": null,
      "outputs": [
        {
          "output_type": "stream",
          "name": "stdout",
          "text": [
            "313/313 [==============================] - 20s 65ms/step - loss: 0.2641 - accuracy: 0.9004\n"
          ]
        },
        {
          "output_type": "execute_result",
          "data": {
            "text/plain": [
              "[0.2640919089317322, 0.9003999829292297]"
            ]
          },
          "metadata": {},
          "execution_count": 61
        }
      ]
    },
    {
      "cell_type": "code",
      "metadata": {
        "colab": {
          "base_uri": "https://localhost:8080/"
        },
        "outputId": "805c15e4-a3de-467c-b141-ff35ebc6eda3",
        "id": "UYbZTAWXdXl9"
      },
      "source": [
        "y_pred=model.predict(x_test)\n",
        "\n",
        "accuracy_sc = accuracy_score(y_pred=y_pred.round(),y_true=y_test)*100\n",
        "f1_sc = f1_score(y_pred=y_pred.round(),y_true=y_test)\n",
        "\n",
        "print(\"Accuracy score is {}% \".format(accuracy_sc))\n",
        "print(\"f1-score is {}% \".format(f1_sc))\n",
        "print(classification_report(y_pred=y_pred.round(),y_true=y_test))"
      ],
      "execution_count": null,
      "outputs": [
        {
          "output_type": "stream",
          "name": "stdout",
          "text": [
            "Accuracy score is 90.03999999999999% \n",
            "f1-score is 0.9020070838252656% \n",
            "              precision    recall  f1-score   support\n",
            "\n",
            "           0       0.91      0.88      0.90      5000\n",
            "           1       0.89      0.92      0.90      5000\n",
            "\n",
            "    accuracy                           0.90     10000\n",
            "   macro avg       0.90      0.90      0.90     10000\n",
            "weighted avg       0.90      0.90      0.90     10000\n",
            "\n"
          ]
        }
      ]
    },
    {
      "cell_type": "markdown",
      "source": [
        "# Save model"
      ],
      "metadata": {
        "id": "8wwW52ehmAB9"
      }
    },
    {
      "cell_type": "code",
      "metadata": {
        "colab": {
          "base_uri": "https://localhost:8080/"
        },
        "id": "Q-urKYDgq-un",
        "outputId": "26c8d91d-e4e6-4e6a-af9f-3691d8b43c23"
      },
      "source": [
        "model.save('CZ_FT_first')"
      ],
      "execution_count": null,
      "outputs": [
        {
          "output_type": "stream",
          "name": "stdout",
          "text": [
            "INFO:tensorflow:Assets written to: FR_LSTM_sixth/assets\n"
          ]
        },
        {
          "output_type": "stream",
          "name": "stderr",
          "text": [
            "WARNING:absl:<keras.layers.recurrent.LSTMCell object at 0x7f36c1b79210> has the same name 'LSTMCell' as a built-in Keras object. Consider renaming <class 'keras.layers.recurrent.LSTMCell'> to avoid naming conflicts when loading with `tf.keras.models.load_model`. If renaming is not possible, pass the object in the `custom_objects` parameter of the load function.\n",
            "WARNING:absl:<keras.layers.recurrent.GRUCell object at 0x7f36c1f49d90> has the same name 'GRUCell' as a built-in Keras object. Consider renaming <class 'keras.layers.recurrent.GRUCell'> to avoid naming conflicts when loading with `tf.keras.models.load_model`. If renaming is not possible, pass the object in the `custom_objects` parameter of the load function.\n"
          ]
        }
      ]
    },
    {
      "cell_type": "code",
      "metadata": {
        "colab": {
          "base_uri": "https://localhost:8080/"
        },
        "id": "_wgbyYDl-JSi",
        "outputId": "046ec7a0-829e-459f-b83e-e78e36ffc9c8"
      },
      "source": [
        "!zip -r /content/CZFTfirst.zip /content/CZ_FT_first/"
      ],
      "execution_count": null,
      "outputs": [
        {
          "output_type": "stream",
          "name": "stdout",
          "text": [
            "  adding: content/FR_LSTM_sixth/ (stored 0%)\n",
            "  adding: content/FR_LSTM_sixth/variables/ (stored 0%)\n",
            "  adding: content/FR_LSTM_sixth/variables/variables.index (deflated 67%)\n",
            "  adding: content/FR_LSTM_sixth/variables/variables.data-00000-of-00001 (deflated 8%)\n",
            "  adding: content/FR_LSTM_sixth/assets/ (stored 0%)\n",
            "  adding: content/FR_LSTM_sixth/keras_metadata.pb (deflated 90%)\n",
            "  adding: content/FR_LSTM_sixth/saved_model.pb (deflated 78%)\n"
          ]
        }
      ]
    }
  ]
}