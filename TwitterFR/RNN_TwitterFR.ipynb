{
  "nbformat": 4,
  "nbformat_minor": 0,
  "metadata": {
    "colab": {
      "name": "LSTM/GRU_FR.ipynb",
      "provenance": [],
      "collapsed_sections": [],
      "toc_visible": true
    },
    "kernelspec": {
      "name": "python3",
      "display_name": "Python 3"
    },
    "language_info": {
      "name": "python"
    },
    "accelerator": "GPU"
  },
  "cells": [
    {
      "cell_type": "markdown",
      "source": [
        "# Imports"
      ],
      "metadata": {
        "id": "QobYekfV7yWh"
      }
    },
    {
      "cell_type": "code",
      "metadata": {
        "id": "43AiImZRqXjT"
      },
      "source": [
        "from __future__ import absolute_import\n",
        "from __future__ import division\n",
        "from __future__ import print_function\n",
        "\n",
        "import matplotlib.pyplot as plt # plotting\n",
        "import matplotlib.image as mpimg # images\n",
        "import numpy as np #numpy\n",
        "import seaborn as sns\n",
        "import tensorflow.compat.v2 as tf #use tensorflow v2 as a main \n",
        "import tensorflow.keras as keras # required for high level applications\n",
        "from sklearn.model_selection import train_test_split # split for validation sets\n",
        "from sklearn.metrics import accuracy_score, f1_score, classification_report\n",
        "import scipy\n",
        "import pandas as pd\n",
        "import re"
      ],
      "execution_count": null,
      "outputs": []
    },
    {
      "cell_type": "code",
      "metadata": {
        "id": "imembF7Xqb_z"
      },
      "source": [
        "def cleanTexts(texts):\n",
        "    cleaned = []\n",
        "    pattern = \"[^a-zA-ZÀ-ÿ0-9]\"\n",
        "    for text in texts:\n",
        "        clrd = re.sub(pattern,\" \",text).lower().strip()\n",
        "        cleaned.append(clrd)\n",
        "    return cleaned"
      ],
      "execution_count": null,
      "outputs": []
    },
    {
      "cell_type": "markdown",
      "source": [
        "# Load data"
      ],
      "metadata": {
        "id": "VqYD2q5yjW2K"
      }
    },
    {
      "cell_type": "code",
      "metadata": {
        "colab": {
          "base_uri": "https://localhost:8080/",
          "height": 206
        },
        "id": "LLZvrwROqfKW",
        "outputId": "5cc210d1-6b2c-4149-db8a-e286dc9ef9d9"
      },
      "source": [
        "from sklearn.utils import shuffle\n",
        "\n",
        "train_data = pd.read_csv('train_data_tweetsFR.csv')\n",
        "train_data = shuffle(train_data)\n",
        "train_data.head()"
      ],
      "execution_count": null,
      "outputs": [
        {
          "output_type": "execute_result",
          "data": {
            "text/plain": [
              "                                                     text  label\n",
              "884011  Avez-vous déjà sorti votre internet pendant qu...      0\n",
              "40240   Jusqu'à 4:39 am en faisant du riz pour mon chi...      0\n",
              "162598  Oui tu as raison. Chaque relation a de la plac...      1\n",
              "599169                 Je pense que j'ai des vertiges ...      0\n",
              "769434  Omg, j'espère que ce n'est pas la grippe. Va b...      0"
            ],
            "text/html": [
              "\n",
              "  <div id=\"df-25c24129-ab21-4a87-a18c-2c5eaaa55095\">\n",
              "    <div class=\"colab-df-container\">\n",
              "      <div>\n",
              "<style scoped>\n",
              "    .dataframe tbody tr th:only-of-type {\n",
              "        vertical-align: middle;\n",
              "    }\n",
              "\n",
              "    .dataframe tbody tr th {\n",
              "        vertical-align: top;\n",
              "    }\n",
              "\n",
              "    .dataframe thead th {\n",
              "        text-align: right;\n",
              "    }\n",
              "</style>\n",
              "<table border=\"1\" class=\"dataframe\">\n",
              "  <thead>\n",
              "    <tr style=\"text-align: right;\">\n",
              "      <th></th>\n",
              "      <th>text</th>\n",
              "      <th>label</th>\n",
              "    </tr>\n",
              "  </thead>\n",
              "  <tbody>\n",
              "    <tr>\n",
              "      <th>884011</th>\n",
              "      <td>Avez-vous déjà sorti votre internet pendant qu...</td>\n",
              "      <td>0</td>\n",
              "    </tr>\n",
              "    <tr>\n",
              "      <th>40240</th>\n",
              "      <td>Jusqu'à 4:39 am en faisant du riz pour mon chi...</td>\n",
              "      <td>0</td>\n",
              "    </tr>\n",
              "    <tr>\n",
              "      <th>162598</th>\n",
              "      <td>Oui tu as raison. Chaque relation a de la plac...</td>\n",
              "      <td>1</td>\n",
              "    </tr>\n",
              "    <tr>\n",
              "      <th>599169</th>\n",
              "      <td>Je pense que j'ai des vertiges ...</td>\n",
              "      <td>0</td>\n",
              "    </tr>\n",
              "    <tr>\n",
              "      <th>769434</th>\n",
              "      <td>Omg, j'espère que ce n'est pas la grippe. Va b...</td>\n",
              "      <td>0</td>\n",
              "    </tr>\n",
              "  </tbody>\n",
              "</table>\n",
              "</div>\n",
              "      <button class=\"colab-df-convert\" onclick=\"convertToInteractive('df-25c24129-ab21-4a87-a18c-2c5eaaa55095')\"\n",
              "              title=\"Convert this dataframe to an interactive table.\"\n",
              "              style=\"display:none;\">\n",
              "        \n",
              "  <svg xmlns=\"http://www.w3.org/2000/svg\" height=\"24px\"viewBox=\"0 0 24 24\"\n",
              "       width=\"24px\">\n",
              "    <path d=\"M0 0h24v24H0V0z\" fill=\"none\"/>\n",
              "    <path d=\"M18.56 5.44l.94 2.06.94-2.06 2.06-.94-2.06-.94-.94-2.06-.94 2.06-2.06.94zm-11 1L8.5 8.5l.94-2.06 2.06-.94-2.06-.94L8.5 2.5l-.94 2.06-2.06.94zm10 10l.94 2.06.94-2.06 2.06-.94-2.06-.94-.94-2.06-.94 2.06-2.06.94z\"/><path d=\"M17.41 7.96l-1.37-1.37c-.4-.4-.92-.59-1.43-.59-.52 0-1.04.2-1.43.59L10.3 9.45l-7.72 7.72c-.78.78-.78 2.05 0 2.83L4 21.41c.39.39.9.59 1.41.59.51 0 1.02-.2 1.41-.59l7.78-7.78 2.81-2.81c.8-.78.8-2.07 0-2.86zM5.41 20L4 18.59l7.72-7.72 1.47 1.35L5.41 20z\"/>\n",
              "  </svg>\n",
              "      </button>\n",
              "      \n",
              "  <style>\n",
              "    .colab-df-container {\n",
              "      display:flex;\n",
              "      flex-wrap:wrap;\n",
              "      gap: 12px;\n",
              "    }\n",
              "\n",
              "    .colab-df-convert {\n",
              "      background-color: #E8F0FE;\n",
              "      border: none;\n",
              "      border-radius: 50%;\n",
              "      cursor: pointer;\n",
              "      display: none;\n",
              "      fill: #1967D2;\n",
              "      height: 32px;\n",
              "      padding: 0 0 0 0;\n",
              "      width: 32px;\n",
              "    }\n",
              "\n",
              "    .colab-df-convert:hover {\n",
              "      background-color: #E2EBFA;\n",
              "      box-shadow: 0px 1px 2px rgba(60, 64, 67, 0.3), 0px 1px 3px 1px rgba(60, 64, 67, 0.15);\n",
              "      fill: #174EA6;\n",
              "    }\n",
              "\n",
              "    [theme=dark] .colab-df-convert {\n",
              "      background-color: #3B4455;\n",
              "      fill: #D2E3FC;\n",
              "    }\n",
              "\n",
              "    [theme=dark] .colab-df-convert:hover {\n",
              "      background-color: #434B5C;\n",
              "      box-shadow: 0px 1px 3px 1px rgba(0, 0, 0, 0.15);\n",
              "      filter: drop-shadow(0px 1px 2px rgba(0, 0, 0, 0.3));\n",
              "      fill: #FFFFFF;\n",
              "    }\n",
              "  </style>\n",
              "\n",
              "      <script>\n",
              "        const buttonEl =\n",
              "          document.querySelector('#df-25c24129-ab21-4a87-a18c-2c5eaaa55095 button.colab-df-convert');\n",
              "        buttonEl.style.display =\n",
              "          google.colab.kernel.accessAllowed ? 'block' : 'none';\n",
              "\n",
              "        async function convertToInteractive(key) {\n",
              "          const element = document.querySelector('#df-25c24129-ab21-4a87-a18c-2c5eaaa55095');\n",
              "          const dataTable =\n",
              "            await google.colab.kernel.invokeFunction('convertToInteractive',\n",
              "                                                     [key], {});\n",
              "          if (!dataTable) return;\n",
              "\n",
              "          const docLinkHtml = 'Like what you see? Visit the ' +\n",
              "            '<a target=\"_blank\" href=https://colab.research.google.com/notebooks/data_table.ipynb>data table notebook</a>'\n",
              "            + ' to learn more about interactive tables.';\n",
              "          element.innerHTML = '';\n",
              "          dataTable['output_type'] = 'display_data';\n",
              "          await google.colab.output.renderOutput(dataTable, element);\n",
              "          const docLink = document.createElement('div');\n",
              "          docLink.innerHTML = docLinkHtml;\n",
              "          element.appendChild(docLink);\n",
              "        }\n",
              "      </script>\n",
              "    </div>\n",
              "  </div>\n",
              "  "
            ]
          },
          "metadata": {},
          "execution_count": 72
        }
      ]
    },
    {
      "cell_type": "code",
      "metadata": {
        "id": "0Nx1CHB2qnQz"
      },
      "source": [
        "x_train = list(train_data['text'])\n",
        "# print(x[:5])\n",
        "\n",
        "y_train = list(train_data['label'])\n",
        "# print(y[:5])\n",
        "\n",
        "#x_train = x_train[:20000]\n",
        "#y_train = y_train[:20000]\n",
        "\n",
        "#x_train = x_train[:500000]\n",
        "#y_train = y_train[:500000]\n",
        "\n",
        "x_train = x_train[:900000]\n",
        "y_train = y_train[:900000]"
      ],
      "execution_count": null,
      "outputs": []
    },
    {
      "cell_type": "code",
      "metadata": {
        "id": "lsDX5wr7tZ36"
      },
      "source": [
        "test_data = pd.read_csv('test_data_tweetsFR.csv')\n",
        "\n",
        "x_test = list(test_data['text'])\n",
        "y_test = list(test_data['label'])"
      ],
      "execution_count": null,
      "outputs": []
    },
    {
      "cell_type": "markdown",
      "source": [
        "# Train model and predict on test dataset"
      ],
      "metadata": {
        "id": "HP_T9vi-j0M0"
      }
    },
    {
      "cell_type": "code",
      "metadata": {
        "id": "OHPU07Ouqna_"
      },
      "source": [
        "from tensorflow import string as tf_string\n",
        "from tensorflow.keras.layers.experimental.preprocessing import TextVectorization\n",
        "from tensorflow.compat.v1.keras.layers import CuDNNGRU, CuDNNLSTM\n",
        "from tensorflow.keras.layers import LSTM, GRU, Bidirectional"
      ],
      "execution_count": null,
      "outputs": []
    },
    {
      "cell_type": "markdown",
      "source": [
        "# 1 - 6 Vectorizer parameters"
      ],
      "metadata": {
        "id": "fdItntIeZ3y7"
      }
    },
    {
      "cell_type": "code",
      "metadata": {
        "id": "IhwrBoC3qpTn"
      },
      "source": [
        "embedding_dim = 128 # Dimension of embedded representation \n",
        "vocab_size = 30000 # Number of unique tokens in vocabulary\n",
        "sequence_length = 30 # Output dimension after vectorizing\n",
        "\n",
        "vect_layer = TextVectorization(max_tokens=vocab_size, output_mode='int', output_sequence_length=sequence_length)\n",
        "vect_layer.adapt(x_train)"
      ],
      "execution_count": null,
      "outputs": []
    },
    {
      "cell_type": "code",
      "metadata": {
        "id": "INpD6UAIqsM6"
      },
      "source": [
        "x_train, x_val, y_train, y_val = train_test_split(x_train, y_train, test_size=0.10, random_state=69, stratify=y_train)"
      ],
      "execution_count": null,
      "outputs": []
    },
    {
      "cell_type": "markdown",
      "source": [
        "## 1.Experiment"
      ],
      "metadata": {
        "id": "iA1cKweakOVW"
      }
    },
    {
      "cell_type": "code",
      "metadata": {
        "colab": {
          "base_uri": "https://localhost:8080/"
        },
        "id": "xR4eDsZzqv0v",
        "outputId": "00fb7d51-9aad-46bb-97c5-878303f34c2e"
      },
      "source": [
        "input_layer = keras.layers.Input(shape=(1,), dtype=tf_string)\n",
        "x_vect = vect_layer(input_layer)\n",
        "emb = keras.layers.Embedding(vocab_size, embedding_dim)(x_vect)\n",
        "x = LSTM(64, activation='relu', return_sequences=True)(emb)\n",
        "x = GRU(64, activation='relu', return_sequences=True)(x)\n",
        "x = keras.layers.Flatten()(x)\n",
        "x = keras.layers.Dense(64, 'relu')(x)\n",
        "x = keras.layers.Dense(32, 'relu')(x)\n",
        "x = keras.layers.Dropout(0.2)(x)\n",
        "output_layer = keras.layers.Dense(1, 'sigmoid')(x)\n",
        "\n",
        "model = keras.Model(input_layer, output_layer)\n",
        "model.summary()\n",
        "optimizer = tf.keras.optimizers.Adam(learning_rate=1e-3)\n",
        "\n",
        "model.compile(optimizer=optimizer, loss=keras.losses.BinaryCrossentropy(), metrics=['accuracy'])"
      ],
      "execution_count": null,
      "outputs": [
        {
          "output_type": "stream",
          "name": "stdout",
          "text": [
            "WARNING:tensorflow:Layer lstm_6 will not use cuDNN kernels since it doesn't meet the criteria. It will use a generic GPU kernel as fallback when running on GPU.\n",
            "WARNING:tensorflow:Layer gru_6 will not use cuDNN kernels since it doesn't meet the criteria. It will use a generic GPU kernel as fallback when running on GPU.\n",
            "Model: \"model_6\"\n",
            "_________________________________________________________________\n",
            " Layer (type)                Output Shape              Param #   \n",
            "=================================================================\n",
            " input_7 (InputLayer)        [(None, 1)]               0         \n",
            "                                                                 \n",
            " text_vectorization (TextVec  (None, 30)               0         \n",
            " torization)                                                     \n",
            "                                                                 \n",
            " embedding_6 (Embedding)     (None, 30, 128)           3840000   \n",
            "                                                                 \n",
            " lstm_6 (LSTM)               (None, 30, 64)            49408     \n",
            "                                                                 \n",
            " gru_6 (GRU)                 (None, 30, 64)            24960     \n",
            "                                                                 \n",
            " flatten_6 (Flatten)         (None, 1920)              0         \n",
            "                                                                 \n",
            " dense_18 (Dense)            (None, 64)                122944    \n",
            "                                                                 \n",
            " dense_19 (Dense)            (None, 32)                2080      \n",
            "                                                                 \n",
            " dropout_8 (Dropout)         (None, 32)                0         \n",
            "                                                                 \n",
            " dense_20 (Dense)            (None, 1)                 33        \n",
            "                                                                 \n",
            "=================================================================\n",
            "Total params: 4,039,425\n",
            "Trainable params: 4,039,425\n",
            "Non-trainable params: 0\n",
            "_________________________________________________________________\n"
          ]
        }
      ]
    },
    {
      "cell_type": "code",
      "metadata": {
        "colab": {
          "base_uri": "https://localhost:8080/"
        },
        "id": "ewXTHS6Lq6s_",
        "outputId": "3c636dfa-ac0b-4e14-eac4-e744c2e4fbaf"
      },
      "source": [
        "es = keras.callbacks.EarlyStopping(monitor='val_loss', min_delta=0, patience=70, restore_best_weights=True)\n",
        "\n",
        "batch_size = 256\n",
        "epochs = 2\n",
        "history = model.fit(x_train, y_train, validation_data=(x_val, y_val), callbacks=[es], epochs=epochs, batch_size=batch_size)"
      ],
      "execution_count": null,
      "outputs": [
        {
          "output_type": "stream",
          "name": "stdout",
          "text": [
            "Epoch 1/2\n",
            "71/71 [==============================] - 26s 319ms/step - loss: 0.6317 - accuracy: 0.6260 - val_loss: 0.5472 - val_accuracy: 0.7165\n",
            "Epoch 2/2\n",
            "71/71 [==============================] - 17s 234ms/step - loss: 0.4395 - accuracy: 0.8038 - val_loss: 0.5302 - val_accuracy: 0.7390\n"
          ]
        }
      ]
    },
    {
      "cell_type": "code",
      "metadata": {
        "colab": {
          "base_uri": "https://localhost:8080/"
        },
        "id": "saAFGV2VxYof",
        "outputId": "cc933189-7220-4ba4-d208-c874905733e2"
      },
      "source": [
        "model.evaluate(x_test,y_test)"
      ],
      "execution_count": null,
      "outputs": [
        {
          "output_type": "stream",
          "name": "stdout",
          "text": [
            "313/313 [==============================] - 6s 18ms/step - loss: 0.5122 - accuracy: 0.7544\n"
          ]
        },
        {
          "output_type": "execute_result",
          "data": {
            "text/plain": [
              "[0.5122210383415222, 0.7544000148773193]"
            ]
          },
          "metadata": {},
          "execution_count": 36
        }
      ]
    },
    {
      "cell_type": "code",
      "metadata": {
        "colab": {
          "base_uri": "https://localhost:8080/"
        },
        "id": "iD1QPA0Vq8gK",
        "outputId": "16cc7904-a864-49ec-ac13-34a53b63fb45"
      },
      "source": [
        "y_pred=model.predict(x_test)\n",
        "\n",
        "accuracy_sc = accuracy_score(y_pred=y_pred.round(),y_true=y_test)*100\n",
        "f1_sc = f1_score(y_pred=y_pred.round(),y_true=y_test)\n",
        "\n",
        "print(\"Accuracy score is {}% \".format(accuracy_sc))\n",
        "print(\"f1-score is {}% \".format(f1_sc))\n",
        "print(classification_report(y_pred=y_pred.round(),y_true=y_test))"
      ],
      "execution_count": null,
      "outputs": [
        {
          "output_type": "stream",
          "name": "stdout",
          "text": [
            "Accuracy score is 75.44% \n",
            "f1-score is 0.7593100744805957% \n",
            "              precision    recall  f1-score   support\n",
            "\n",
            "           0       0.77      0.73      0.75      5000\n",
            "           1       0.74      0.77      0.76      5000\n",
            "\n",
            "    accuracy                           0.75     10000\n",
            "   macro avg       0.75      0.75      0.75     10000\n",
            "weighted avg       0.75      0.75      0.75     10000\n",
            "\n"
          ]
        }
      ]
    },
    {
      "cell_type": "markdown",
      "source": [
        "## 2.Experiment"
      ],
      "metadata": {
        "id": "9VUGGH3maEKE"
      }
    },
    {
      "cell_type": "code",
      "metadata": {
        "colab": {
          "base_uri": "https://localhost:8080/"
        },
        "outputId": "82b446dd-5bde-4df7-f46f-249db2809082",
        "id": "Ho-HEnpgaEKI"
      },
      "source": [
        "input_layer = keras.layers.Input(shape=(1,), dtype=tf_string)\n",
        "x_vect = vect_layer(input_layer)\n",
        "emb = keras.layers.Embedding(vocab_size, embedding_dim)(x_vect)\n",
        "x = Bidirectional(LSTM(64, activation='relu', return_sequences=True))(emb)\n",
        "x = Bidirectional(GRU(64, activation='relu', return_sequences=True))(x)\n",
        "x = keras.layers.Flatten()(x)\n",
        "x = keras.layers.Dense(64, 'relu')(x)\n",
        "x = keras.layers.Dense(32, 'relu')(x)\n",
        "x = keras.layers.Dropout(0.2)(x)\n",
        "output_layer = keras.layers.Dense(1, 'sigmoid')(x)\n",
        "\n",
        "model = keras.Model(input_layer, output_layer)\n",
        "model.summary()\n",
        "optimizer = tf.keras.optimizers.Adam(learning_rate=1e-3)\n",
        "\n",
        "model.compile(optimizer=optimizer, loss=keras.losses.BinaryCrossentropy(), metrics=['accuracy'])"
      ],
      "execution_count": null,
      "outputs": [
        {
          "output_type": "stream",
          "name": "stdout",
          "text": [
            "WARNING:tensorflow:Layer lstm_7 will not use cuDNN kernels since it doesn't meet the criteria. It will use a generic GPU kernel as fallback when running on GPU.\n",
            "WARNING:tensorflow:Layer lstm_7 will not use cuDNN kernels since it doesn't meet the criteria. It will use a generic GPU kernel as fallback when running on GPU.\n",
            "WARNING:tensorflow:Layer lstm_7 will not use cuDNN kernels since it doesn't meet the criteria. It will use a generic GPU kernel as fallback when running on GPU.\n",
            "WARNING:tensorflow:Layer gru_7 will not use cuDNN kernels since it doesn't meet the criteria. It will use a generic GPU kernel as fallback when running on GPU.\n",
            "WARNING:tensorflow:Layer gru_7 will not use cuDNN kernels since it doesn't meet the criteria. It will use a generic GPU kernel as fallback when running on GPU.\n",
            "WARNING:tensorflow:Layer gru_7 will not use cuDNN kernels since it doesn't meet the criteria. It will use a generic GPU kernel as fallback when running on GPU.\n",
            "Model: \"model_7\"\n",
            "_________________________________________________________________\n",
            " Layer (type)                Output Shape              Param #   \n",
            "=================================================================\n",
            " input_8 (InputLayer)        [(None, 1)]               0         \n",
            "                                                                 \n",
            " text_vectorization (TextVec  (None, 30)               0         \n",
            " torization)                                                     \n",
            "                                                                 \n",
            " embedding_7 (Embedding)     (None, 30, 128)           3840000   \n",
            "                                                                 \n",
            " bidirectional_2 (Bidirectio  (None, 30, 128)          98816     \n",
            " nal)                                                            \n",
            "                                                                 \n",
            " bidirectional_3 (Bidirectio  (None, 30, 128)          74496     \n",
            " nal)                                                            \n",
            "                                                                 \n",
            " flatten_7 (Flatten)         (None, 3840)              0         \n",
            "                                                                 \n",
            " dense_21 (Dense)            (None, 64)                245824    \n",
            "                                                                 \n",
            " dense_22 (Dense)            (None, 32)                2080      \n",
            "                                                                 \n",
            " dropout_9 (Dropout)         (None, 32)                0         \n",
            "                                                                 \n",
            " dense_23 (Dense)            (None, 1)                 33        \n",
            "                                                                 \n",
            "=================================================================\n",
            "Total params: 4,261,249\n",
            "Trainable params: 4,261,249\n",
            "Non-trainable params: 0\n",
            "_________________________________________________________________\n"
          ]
        }
      ]
    },
    {
      "cell_type": "code",
      "metadata": {
        "colab": {
          "base_uri": "https://localhost:8080/"
        },
        "outputId": "c7fa6407-25c9-49bb-b84c-79878af7c934",
        "id": "6dDs3uWmaEKM"
      },
      "source": [
        "es = keras.callbacks.EarlyStopping(monitor='val_loss', min_delta=0, patience=70, restore_best_weights=True)\n",
        "\n",
        "batch_size = 256\n",
        "epochs = 2\n",
        "history = model.fit(x_train, y_train, validation_data=(x_val, y_val), callbacks=[es], epochs=epochs, batch_size=batch_size)"
      ],
      "execution_count": null,
      "outputs": [
        {
          "output_type": "stream",
          "name": "stdout",
          "text": [
            "Epoch 1/2\n",
            "71/71 [==============================] - 38s 459ms/step - loss: 0.6321 - accuracy: 0.6322 - val_loss: 0.5480 - val_accuracy: 0.7305\n",
            "Epoch 2/2\n",
            "71/71 [==============================] - 37s 527ms/step - loss: 0.4274 - accuracy: 0.8104 - val_loss: 0.5620 - val_accuracy: 0.7280\n"
          ]
        }
      ]
    },
    {
      "cell_type": "code",
      "metadata": {
        "colab": {
          "base_uri": "https://localhost:8080/"
        },
        "outputId": "78eb1567-02ec-4752-b9ab-27f915dbdc79",
        "id": "xI7CUXyJaEKN"
      },
      "source": [
        "model.evaluate(x_test,y_test)"
      ],
      "execution_count": null,
      "outputs": [
        {
          "output_type": "stream",
          "name": "stdout",
          "text": [
            "313/313 [==============================] - 17s 54ms/step - loss: 0.5230 - accuracy: 0.7456\n"
          ]
        },
        {
          "output_type": "execute_result",
          "data": {
            "text/plain": [
              "[0.522959291934967, 0.7455999851226807]"
            ]
          },
          "metadata": {},
          "execution_count": 40
        }
      ]
    },
    {
      "cell_type": "code",
      "metadata": {
        "colab": {
          "base_uri": "https://localhost:8080/"
        },
        "outputId": "dc4ba13e-2788-4141-cf20-38a7c60496d8",
        "id": "rP7eCBIFaEKO"
      },
      "source": [
        "y_pred=model.predict(x_test)\n",
        "\n",
        "accuracy_sc = accuracy_score(y_pred=y_pred.round(),y_true=y_test)*100\n",
        "f1_sc = f1_score(y_pred=y_pred.round(),y_true=y_test)\n",
        "\n",
        "print(\"Accuracy score is {}% \".format(accuracy_sc))\n",
        "print(\"f1-score is {}% \".format(f1_sc))\n",
        "print(classification_report(y_pred=y_pred.round(),y_true=y_test))"
      ],
      "execution_count": null,
      "outputs": [
        {
          "output_type": "stream",
          "name": "stdout",
          "text": [
            "Accuracy score is 74.56% \n",
            "f1-score is 0.755666538609297% \n",
            "              precision    recall  f1-score   support\n",
            "\n",
            "           0       0.77      0.70      0.73      5000\n",
            "           1       0.73      0.79      0.76      5000\n",
            "\n",
            "    accuracy                           0.75     10000\n",
            "   macro avg       0.75      0.75      0.75     10000\n",
            "weighted avg       0.75      0.75      0.75     10000\n",
            "\n"
          ]
        }
      ]
    },
    {
      "cell_type": "markdown",
      "source": [
        "## 3.Experiment"
      ],
      "metadata": {
        "id": "MVHruC92aM3j"
      }
    },
    {
      "cell_type": "code",
      "metadata": {
        "colab": {
          "base_uri": "https://localhost:8080/"
        },
        "outputId": "00a78e62-7b66-495b-eb8f-72ee94dbdfa9",
        "id": "28dN81r9aM3k"
      },
      "source": [
        "input_layer = keras.layers.Input(shape=(1,), dtype=tf_string)\n",
        "x_vect = vect_layer(input_layer)\n",
        "emb = keras.layers.Embedding(vocab_size, embedding_dim)(x_vect)\n",
        "x = LSTM(64, activation='relu', return_sequences=True)(emb)\n",
        "x = GRU(64, activation='relu', return_sequences=True)(x)\n",
        "x = keras.layers.Flatten()(x)\n",
        "x = keras.layers.Dense(64, 'relu')(x)\n",
        "x = keras.layers.Dense(32, 'relu')(x)\n",
        "x = keras.layers.Dropout(0.2)(x)\n",
        "output_layer = keras.layers.Dense(1, 'sigmoid')(x)\n",
        "\n",
        "model = keras.Model(input_layer, output_layer)\n",
        "model.summary()\n",
        "optimizer = tf.keras.optimizers.Adam(learning_rate=1e-3)\n",
        "\n",
        "model.compile(optimizer=optimizer, loss=keras.losses.BinaryCrossentropy(), metrics=['accuracy'])"
      ],
      "execution_count": null,
      "outputs": [
        {
          "output_type": "stream",
          "name": "stdout",
          "text": [
            "WARNING:tensorflow:Layer lstm_10 will not use cuDNN kernels since it doesn't meet the criteria. It will use a generic GPU kernel as fallback when running on GPU.\n",
            "WARNING:tensorflow:Layer gru_10 will not use cuDNN kernels since it doesn't meet the criteria. It will use a generic GPU kernel as fallback when running on GPU.\n",
            "Model: \"model_10\"\n",
            "_________________________________________________________________\n",
            " Layer (type)                Output Shape              Param #   \n",
            "=================================================================\n",
            " input_11 (InputLayer)       [(None, 1)]               0         \n",
            "                                                                 \n",
            " text_vectorization_1 (TextV  (None, 30)               0         \n",
            " ectorization)                                                   \n",
            "                                                                 \n",
            " embedding_10 (Embedding)    (None, 30, 128)           3840000   \n",
            "                                                                 \n",
            " lstm_10 (LSTM)              (None, 30, 64)            49408     \n",
            "                                                                 \n",
            " gru_10 (GRU)                (None, 30, 64)            24960     \n",
            "                                                                 \n",
            " flatten_10 (Flatten)        (None, 1920)              0         \n",
            "                                                                 \n",
            " dense_30 (Dense)            (None, 64)                122944    \n",
            "                                                                 \n",
            " dense_31 (Dense)            (None, 32)                2080      \n",
            "                                                                 \n",
            " dropout_12 (Dropout)        (None, 32)                0         \n",
            "                                                                 \n",
            " dense_32 (Dense)            (None, 1)                 33        \n",
            "                                                                 \n",
            "=================================================================\n",
            "Total params: 4,039,425\n",
            "Trainable params: 4,039,425\n",
            "Non-trainable params: 0\n",
            "_________________________________________________________________\n"
          ]
        }
      ]
    },
    {
      "cell_type": "code",
      "metadata": {
        "colab": {
          "base_uri": "https://localhost:8080/"
        },
        "outputId": "2f50f80d-a859-45d4-db1b-47872f1b5f42",
        "id": "701TV0IYaM3l"
      },
      "source": [
        "es = keras.callbacks.EarlyStopping(monitor='val_loss', min_delta=0, patience=70, restore_best_weights=True)\n",
        "\n",
        "batch_size = 768\n",
        "epochs = 2\n",
        "history = model.fit(x_train, y_train, validation_data=(x_val, y_val), callbacks=[es], epochs=epochs, batch_size=batch_size)"
      ],
      "execution_count": null,
      "outputs": [
        {
          "output_type": "stream",
          "name": "stdout",
          "text": [
            "Epoch 1/2\n",
            "586/586 [==============================] - 158s 263ms/step - loss: 0.4741 - accuracy: 0.7725 - val_loss: 0.4311 - val_accuracy: 0.7996\n",
            "Epoch 2/2\n",
            "586/586 [==============================] - 145s 248ms/step - loss: 0.4075 - accuracy: 0.8152 - val_loss: 0.4285 - val_accuracy: 0.8032\n"
          ]
        }
      ]
    },
    {
      "cell_type": "code",
      "metadata": {
        "colab": {
          "base_uri": "https://localhost:8080/"
        },
        "outputId": "349c9589-c9c3-4c18-faca-e4dc2805a9e9",
        "id": "hr3-EhB9aM3m"
      },
      "source": [
        "model.evaluate(x_test,y_test)"
      ],
      "execution_count": null,
      "outputs": [
        {
          "output_type": "stream",
          "name": "stdout",
          "text": [
            "313/313 [==============================] - 6s 18ms/step - loss: 0.4161 - accuracy: 0.8091\n"
          ]
        },
        {
          "output_type": "execute_result",
          "data": {
            "text/plain": [
              "[0.41607505083084106, 0.8090999722480774]"
            ]
          },
          "metadata": {},
          "execution_count": 53
        }
      ]
    },
    {
      "cell_type": "code",
      "metadata": {
        "colab": {
          "base_uri": "https://localhost:8080/"
        },
        "outputId": "02355436-fc07-496c-cf09-88305e85cfeb",
        "id": "zHNS7dRbaM3n"
      },
      "source": [
        "y_pred=model.predict(x_test)\n",
        "\n",
        "accuracy_sc = accuracy_score(y_pred=y_pred.round(),y_true=y_test)*100\n",
        "f1_sc = f1_score(y_pred=y_pred.round(),y_true=y_test)\n",
        "\n",
        "print(\"Accuracy score is {}% \".format(accuracy_sc))\n",
        "print(\"f1-score is {}% \".format(f1_sc))\n",
        "print(classification_report(y_pred=y_pred.round(),y_true=y_test))"
      ],
      "execution_count": null,
      "outputs": [
        {
          "output_type": "stream",
          "name": "stdout",
          "text": [
            "Accuracy score is 80.91000000000001% \n",
            "f1-score is 0.8048256824455577% \n",
            "              precision    recall  f1-score   support\n",
            "\n",
            "           0       0.80      0.83      0.81      5000\n",
            "           1       0.82      0.79      0.80      5000\n",
            "\n",
            "    accuracy                           0.81     10000\n",
            "   macro avg       0.81      0.81      0.81     10000\n",
            "weighted avg       0.81      0.81      0.81     10000\n",
            "\n"
          ]
        }
      ]
    },
    {
      "cell_type": "markdown",
      "source": [
        "## 4.Experiment"
      ],
      "metadata": {
        "id": "lUU6zYLxaM3o"
      }
    },
    {
      "cell_type": "code",
      "metadata": {
        "colab": {
          "base_uri": "https://localhost:8080/"
        },
        "outputId": "9c959cd1-baa1-4699-f8a1-5513b29b0dc1",
        "id": "40g_MpsPaM3o"
      },
      "source": [
        "input_layer = keras.layers.Input(shape=(1,), dtype=tf_string)\n",
        "x_vect = vect_layer(input_layer)\n",
        "emb = keras.layers.Embedding(vocab_size, embedding_dim)(x_vect)\n",
        "x = Bidirectional(LSTM(64, activation='relu', return_sequences=True))(emb)\n",
        "x = Bidirectional(GRU(64, activation='relu', return_sequences=True))(x)\n",
        "x = keras.layers.Flatten()(x)\n",
        "x = keras.layers.Dense(64, 'relu')(x)\n",
        "x = keras.layers.Dense(32, 'relu')(x)\n",
        "x = keras.layers.Dropout(0.2)(x)\n",
        "output_layer = keras.layers.Dense(1, 'sigmoid')(x)\n",
        "\n",
        "model = keras.Model(input_layer, output_layer)\n",
        "model.summary()\n",
        "optimizer = tf.keras.optimizers.Adam(learning_rate=1e-3)\n",
        "\n",
        "model.compile(optimizer=optimizer, loss=keras.losses.BinaryCrossentropy(), metrics=['accuracy'])"
      ],
      "execution_count": null,
      "outputs": [
        {
          "output_type": "stream",
          "name": "stdout",
          "text": [
            "WARNING:tensorflow:Layer lstm_11 will not use cuDNN kernels since it doesn't meet the criteria. It will use a generic GPU kernel as fallback when running on GPU.\n",
            "WARNING:tensorflow:Layer lstm_11 will not use cuDNN kernels since it doesn't meet the criteria. It will use a generic GPU kernel as fallback when running on GPU.\n",
            "WARNING:tensorflow:Layer lstm_11 will not use cuDNN kernels since it doesn't meet the criteria. It will use a generic GPU kernel as fallback when running on GPU.\n",
            "WARNING:tensorflow:Layer gru_11 will not use cuDNN kernels since it doesn't meet the criteria. It will use a generic GPU kernel as fallback when running on GPU.\n",
            "WARNING:tensorflow:Layer gru_11 will not use cuDNN kernels since it doesn't meet the criteria. It will use a generic GPU kernel as fallback when running on GPU.\n",
            "WARNING:tensorflow:Layer gru_11 will not use cuDNN kernels since it doesn't meet the criteria. It will use a generic GPU kernel as fallback when running on GPU.\n",
            "Model: \"model_11\"\n",
            "_________________________________________________________________\n",
            " Layer (type)                Output Shape              Param #   \n",
            "=================================================================\n",
            " input_12 (InputLayer)       [(None, 1)]               0         \n",
            "                                                                 \n",
            " text_vectorization_1 (TextV  (None, 30)               0         \n",
            " ectorization)                                                   \n",
            "                                                                 \n",
            " embedding_11 (Embedding)    (None, 30, 128)           3840000   \n",
            "                                                                 \n",
            " bidirectional_4 (Bidirectio  (None, 30, 128)          98816     \n",
            " nal)                                                            \n",
            "                                                                 \n",
            " bidirectional_5 (Bidirectio  (None, 30, 128)          74496     \n",
            " nal)                                                            \n",
            "                                                                 \n",
            " flatten_11 (Flatten)        (None, 3840)              0         \n",
            "                                                                 \n",
            " dense_33 (Dense)            (None, 64)                245824    \n",
            "                                                                 \n",
            " dense_34 (Dense)            (None, 32)                2080      \n",
            "                                                                 \n",
            " dropout_13 (Dropout)        (None, 32)                0         \n",
            "                                                                 \n",
            " dense_35 (Dense)            (None, 1)                 33        \n",
            "                                                                 \n",
            "=================================================================\n",
            "Total params: 4,261,249\n",
            "Trainable params: 4,261,249\n",
            "Non-trainable params: 0\n",
            "_________________________________________________________________\n"
          ]
        }
      ]
    },
    {
      "cell_type": "code",
      "metadata": {
        "colab": {
          "base_uri": "https://localhost:8080/"
        },
        "outputId": "840be6d3-ae21-4232-bd2a-1e101c6ea80c",
        "id": "sj1KY9tdaM3p"
      },
      "source": [
        "es = keras.callbacks.EarlyStopping(monitor='val_loss', min_delta=0, patience=70, restore_best_weights=True)\n",
        "\n",
        "batch_size = 768\n",
        "epochs = 2\n",
        "history = model.fit(x_train, y_train, validation_data=(x_val, y_val), callbacks=[es], epochs=epochs, batch_size=batch_size)"
      ],
      "execution_count": null,
      "outputs": [
        {
          "output_type": "stream",
          "name": "stdout",
          "text": [
            "Epoch 1/2\n",
            "586/586 [==============================] - 286s 478ms/step - loss: 0.4741 - accuracy: 0.7726 - val_loss: 0.4284 - val_accuracy: 0.7991\n",
            "Epoch 2/2\n",
            "586/586 [==============================] - 278s 475ms/step - loss: 0.4038 - accuracy: 0.8173 - val_loss: 0.4239 - val_accuracy: 0.8039\n"
          ]
        }
      ]
    },
    {
      "cell_type": "code",
      "metadata": {
        "colab": {
          "base_uri": "https://localhost:8080/"
        },
        "outputId": "5cceee9e-6000-407b-e9a9-03b8512d2f78",
        "id": "Pm5_y4vlaM3p"
      },
      "source": [
        "model.evaluate(x_test,y_test)"
      ],
      "execution_count": null,
      "outputs": [
        {
          "output_type": "stream",
          "name": "stdout",
          "text": [
            "313/313 [==============================] - 10s 30ms/step - loss: 0.4130 - accuracy: 0.8077\n"
          ]
        },
        {
          "output_type": "execute_result",
          "data": {
            "text/plain": [
              "[0.41295263171195984, 0.807699978351593]"
            ]
          },
          "metadata": {},
          "execution_count": 57
        }
      ]
    },
    {
      "cell_type": "code",
      "metadata": {
        "colab": {
          "base_uri": "https://localhost:8080/"
        },
        "outputId": "3bbf5ee5-aaf2-4c1f-897e-6189763b1f22",
        "id": "ZMVW2l-SaM3q"
      },
      "source": [
        "y_pred=model.predict(x_test)\n",
        "\n",
        "accuracy_sc = accuracy_score(y_pred=y_pred.round(),y_true=y_test)*100\n",
        "f1_sc = f1_score(y_pred=y_pred.round(),y_true=y_test)\n",
        "\n",
        "print(\"Accuracy score is {}% \".format(accuracy_sc))\n",
        "print(\"f1-score is {}% \".format(f1_sc))\n",
        "print(classification_report(y_pred=y_pred.round(),y_true=y_test))"
      ],
      "execution_count": null,
      "outputs": [
        {
          "output_type": "stream",
          "name": "stdout",
          "text": [
            "Accuracy score is 80.77% \n",
            "f1-score is 0.8055415107695418% \n",
            "              precision    recall  f1-score   support\n",
            "\n",
            "           0       0.80      0.82      0.81      5000\n",
            "           1       0.81      0.80      0.81      5000\n",
            "\n",
            "    accuracy                           0.81     10000\n",
            "   macro avg       0.81      0.81      0.81     10000\n",
            "weighted avg       0.81      0.81      0.81     10000\n",
            "\n"
          ]
        }
      ]
    },
    {
      "cell_type": "markdown",
      "source": [
        "## 5.Experiment"
      ],
      "metadata": {
        "id": "6lHOHQtLaNPV"
      }
    },
    {
      "cell_type": "code",
      "metadata": {
        "colab": {
          "base_uri": "https://localhost:8080/"
        },
        "outputId": "804b62a3-c51a-4d0c-bb79-8296a9be610c",
        "id": "s2pUoKRXaNPW"
      },
      "source": [
        "input_layer = keras.layers.Input(shape=(1,), dtype=tf_string)\n",
        "x_vect = vect_layer(input_layer)\n",
        "emb = keras.layers.Embedding(vocab_size, embedding_dim)(x_vect)\n",
        "x = LSTM(64, activation='relu', return_sequences=True)(emb)\n",
        "x = GRU(64, activation='relu', return_sequences=True)(x)\n",
        "x = keras.layers.Flatten()(x)\n",
        "x = keras.layers.Dense(64, 'relu')(x)\n",
        "x = keras.layers.Dense(32, 'relu')(x)\n",
        "x = keras.layers.Dropout(0.2)(x)\n",
        "output_layer = keras.layers.Dense(1, 'sigmoid')(x)\n",
        "\n",
        "model = keras.Model(input_layer, output_layer)\n",
        "model.summary()\n",
        "optimizer = tf.keras.optimizers.Adam(learning_rate=1e-3)\n",
        "\n",
        "model.compile(optimizer=optimizer, loss=keras.losses.BinaryCrossentropy(), metrics=['accuracy'])"
      ],
      "execution_count": null,
      "outputs": [
        {
          "output_type": "stream",
          "name": "stdout",
          "text": [
            "WARNING:tensorflow:Layer lstm_12 will not use cuDNN kernels since it doesn't meet the criteria. It will use a generic GPU kernel as fallback when running on GPU.\n",
            "WARNING:tensorflow:Layer gru_12 will not use cuDNN kernels since it doesn't meet the criteria. It will use a generic GPU kernel as fallback when running on GPU.\n",
            "Model: \"model_12\"\n",
            "_________________________________________________________________\n",
            " Layer (type)                Output Shape              Param #   \n",
            "=================================================================\n",
            " input_13 (InputLayer)       [(None, 1)]               0         \n",
            "                                                                 \n",
            " text_vectorization_2 (TextV  (None, 30)               0         \n",
            " ectorization)                                                   \n",
            "                                                                 \n",
            " embedding_12 (Embedding)    (None, 30, 128)           3840000   \n",
            "                                                                 \n",
            " lstm_12 (LSTM)              (None, 30, 64)            49408     \n",
            "                                                                 \n",
            " gru_12 (GRU)                (None, 30, 64)            24960     \n",
            "                                                                 \n",
            " flatten_12 (Flatten)        (None, 1920)              0         \n",
            "                                                                 \n",
            " dense_36 (Dense)            (None, 64)                122944    \n",
            "                                                                 \n",
            " dense_37 (Dense)            (None, 32)                2080      \n",
            "                                                                 \n",
            " dropout_14 (Dropout)        (None, 32)                0         \n",
            "                                                                 \n",
            " dense_38 (Dense)            (None, 1)                 33        \n",
            "                                                                 \n",
            "=================================================================\n",
            "Total params: 4,039,425\n",
            "Trainable params: 4,039,425\n",
            "Non-trainable params: 0\n",
            "_________________________________________________________________\n"
          ]
        }
      ]
    },
    {
      "cell_type": "code",
      "metadata": {
        "colab": {
          "base_uri": "https://localhost:8080/"
        },
        "outputId": "0eacdd48-b188-40cc-b066-f1ee5c2f26b7",
        "id": "bzpKMpe1aNPY"
      },
      "source": [
        "es = keras.callbacks.EarlyStopping(monitor='val_loss', min_delta=0, patience=70, restore_best_weights=True)\n",
        "\n",
        "batch_size = 768\n",
        "epochs = 2\n",
        "history = model.fit(x_train, y_train, validation_data=(x_val, y_val), callbacks=[es], epochs=epochs, batch_size=batch_size)"
      ],
      "execution_count": null,
      "outputs": [
        {
          "output_type": "stream",
          "name": "stdout",
          "text": [
            "Epoch 1/2\n",
            "1055/1055 [==============================] - 274s 257ms/step - loss: 0.4573 - accuracy: 0.7841 - val_loss: 0.4190 - val_accuracy: 0.8078\n",
            "Epoch 2/2\n",
            "1055/1055 [==============================] - 269s 255ms/step - loss: 0.4033 - accuracy: 0.8170 - val_loss: 0.4131 - val_accuracy: 0.8109\n"
          ]
        }
      ]
    },
    {
      "cell_type": "code",
      "metadata": {
        "colab": {
          "base_uri": "https://localhost:8080/"
        },
        "outputId": "7e6f1359-ed02-4c19-e99f-a6539bb06a44",
        "id": "Zg-ntLEtaNPZ"
      },
      "source": [
        "model.evaluate(x_test,y_test)"
      ],
      "execution_count": null,
      "outputs": [
        {
          "output_type": "stream",
          "name": "stdout",
          "text": [
            "313/313 [==============================] - 6s 18ms/step - loss: 0.4053 - accuracy: 0.8109\n"
          ]
        },
        {
          "output_type": "execute_result",
          "data": {
            "text/plain": [
              "[0.40534713864326477, 0.8108999729156494]"
            ]
          },
          "metadata": {},
          "execution_count": 66
        }
      ]
    },
    {
      "cell_type": "code",
      "metadata": {
        "colab": {
          "base_uri": "https://localhost:8080/"
        },
        "outputId": "7638a338-2cab-4ac5-d1bb-c83b4893beb7",
        "id": "uihKa3idaNPa"
      },
      "source": [
        "y_pred=model.predict(x_test)\n",
        "\n",
        "accuracy_sc = accuracy_score(y_pred=y_pred.round(),y_true=y_test)*100\n",
        "f1_sc = f1_score(y_pred=y_pred.round(),y_true=y_test)\n",
        "\n",
        "print(\"Accuracy score is {}% \".format(accuracy_sc))\n",
        "print(\"f1-score is {}% \".format(f1_sc))\n",
        "print(classification_report(y_pred=y_pred.round(),y_true=y_test))"
      ],
      "execution_count": null,
      "outputs": [
        {
          "output_type": "stream",
          "name": "stdout",
          "text": [
            "Accuracy score is 81.08999999999999% \n",
            "f1-score is 0.8079618157814562% \n",
            "              precision    recall  f1-score   support\n",
            "\n",
            "           0       0.80      0.83      0.81      5000\n",
            "           1       0.82      0.80      0.81      5000\n",
            "\n",
            "    accuracy                           0.81     10000\n",
            "   macro avg       0.81      0.81      0.81     10000\n",
            "weighted avg       0.81      0.81      0.81     10000\n",
            "\n"
          ]
        }
      ]
    },
    {
      "cell_type": "markdown",
      "source": [
        "## 6.Experiment"
      ],
      "metadata": {
        "id": "wBWRic1aaNPb"
      }
    },
    {
      "cell_type": "code",
      "metadata": {
        "colab": {
          "base_uri": "https://localhost:8080/"
        },
        "outputId": "889ba86a-3b12-4270-c4bc-07bcf2c7acbf",
        "id": "_zJJoKNVaNPb"
      },
      "source": [
        "input_layer = keras.layers.Input(shape=(1,), dtype=tf_string)\n",
        "x_vect = vect_layer(input_layer)\n",
        "emb = keras.layers.Embedding(vocab_size, embedding_dim)(x_vect)\n",
        "x = Bidirectional(LSTM(64, activation='relu', return_sequences=True))(emb)\n",
        "x = Bidirectional(GRU(64, activation='relu', return_sequences=True))(x)\n",
        "x = keras.layers.Flatten()(x)\n",
        "x = keras.layers.Dense(64, 'relu')(x)\n",
        "x = keras.layers.Dense(32, 'relu')(x)\n",
        "x = keras.layers.Dropout(0.2)(x)\n",
        "output_layer = keras.layers.Dense(1, 'sigmoid')(x)\n",
        "\n",
        "model = keras.Model(input_layer, output_layer)\n",
        "model.summary()\n",
        "optimizer = tf.keras.optimizers.Adam(learning_rate=1e-3)\n",
        "\n",
        "model.compile(optimizer=optimizer, loss=keras.losses.BinaryCrossentropy(), metrics=['accuracy'])"
      ],
      "execution_count": null,
      "outputs": [
        {
          "output_type": "stream",
          "name": "stdout",
          "text": [
            "WARNING:tensorflow:Layer lstm_13 will not use cuDNN kernels since it doesn't meet the criteria. It will use a generic GPU kernel as fallback when running on GPU.\n",
            "WARNING:tensorflow:Layer lstm_13 will not use cuDNN kernels since it doesn't meet the criteria. It will use a generic GPU kernel as fallback when running on GPU.\n",
            "WARNING:tensorflow:Layer lstm_13 will not use cuDNN kernels since it doesn't meet the criteria. It will use a generic GPU kernel as fallback when running on GPU.\n",
            "WARNING:tensorflow:Layer gru_13 will not use cuDNN kernels since it doesn't meet the criteria. It will use a generic GPU kernel as fallback when running on GPU.\n",
            "WARNING:tensorflow:Layer gru_13 will not use cuDNN kernels since it doesn't meet the criteria. It will use a generic GPU kernel as fallback when running on GPU.\n",
            "WARNING:tensorflow:Layer gru_13 will not use cuDNN kernels since it doesn't meet the criteria. It will use a generic GPU kernel as fallback when running on GPU.\n",
            "Model: \"model_13\"\n",
            "_________________________________________________________________\n",
            " Layer (type)                Output Shape              Param #   \n",
            "=================================================================\n",
            " input_14 (InputLayer)       [(None, 1)]               0         \n",
            "                                                                 \n",
            " text_vectorization_2 (TextV  (None, 30)               0         \n",
            " ectorization)                                                   \n",
            "                                                                 \n",
            " embedding_13 (Embedding)    (None, 30, 128)           3840000   \n",
            "                                                                 \n",
            " bidirectional_6 (Bidirectio  (None, 30, 128)          98816     \n",
            " nal)                                                            \n",
            "                                                                 \n",
            " bidirectional_7 (Bidirectio  (None, 30, 128)          74496     \n",
            " nal)                                                            \n",
            "                                                                 \n",
            " flatten_13 (Flatten)        (None, 3840)              0         \n",
            "                                                                 \n",
            " dense_39 (Dense)            (None, 64)                245824    \n",
            "                                                                 \n",
            " dense_40 (Dense)            (None, 32)                2080      \n",
            "                                                                 \n",
            " dropout_15 (Dropout)        (None, 32)                0         \n",
            "                                                                 \n",
            " dense_41 (Dense)            (None, 1)                 33        \n",
            "                                                                 \n",
            "=================================================================\n",
            "Total params: 4,261,249\n",
            "Trainable params: 4,261,249\n",
            "Non-trainable params: 0\n",
            "_________________________________________________________________\n"
          ]
        }
      ]
    },
    {
      "cell_type": "code",
      "metadata": {
        "colab": {
          "base_uri": "https://localhost:8080/"
        },
        "outputId": "c59407d5-19fc-41e0-bd02-f02337e57a47",
        "id": "UqGNakB8aNPc"
      },
      "source": [
        "es = keras.callbacks.EarlyStopping(monitor='val_loss', min_delta=0, patience=70, restore_best_weights=True)\n",
        "\n",
        "batch_size = 768\n",
        "epochs = 2\n",
        "history = model.fit(x_train, y_train, validation_data=(x_val, y_val), callbacks=[es], epochs=epochs, batch_size=batch_size)"
      ],
      "execution_count": null,
      "outputs": [
        {
          "output_type": "stream",
          "name": "stdout",
          "text": [
            "Epoch 1/2\n",
            "1055/1055 [==============================] - 516s 484ms/step - loss: 0.4520 - accuracy: 0.7871 - val_loss: 0.4159 - val_accuracy: 0.8087\n",
            "Epoch 2/2\n",
            "1055/1055 [==============================] - 510s 483ms/step - loss: 0.3973 - accuracy: 0.8204 - val_loss: 0.4097 - val_accuracy: 0.8127\n"
          ]
        }
      ]
    },
    {
      "cell_type": "code",
      "metadata": {
        "colab": {
          "base_uri": "https://localhost:8080/"
        },
        "outputId": "4cdfbb24-4c61-4525-c5d0-6bee4c64a1c4",
        "id": "P848xmE9aNPe"
      },
      "source": [
        "model.evaluate(x_test,y_test)"
      ],
      "execution_count": null,
      "outputs": [
        {
          "output_type": "stream",
          "name": "stdout",
          "text": [
            "313/313 [==============================] - 10s 30ms/step - loss: 0.4002 - accuracy: 0.8127\n"
          ]
        },
        {
          "output_type": "execute_result",
          "data": {
            "text/plain": [
              "[0.4002379775047302, 0.8126999735832214]"
            ]
          },
          "metadata": {},
          "execution_count": 70
        }
      ]
    },
    {
      "cell_type": "code",
      "metadata": {
        "colab": {
          "base_uri": "https://localhost:8080/"
        },
        "outputId": "48ce9e23-af6d-4c35-89ee-8a9d50afcde2",
        "id": "XUIn_qAJaNPe"
      },
      "source": [
        "y_pred=model.predict(x_test)\n",
        "\n",
        "accuracy_sc = accuracy_score(y_pred=y_pred.round(),y_true=y_test)*100\n",
        "f1_sc = f1_score(y_pred=y_pred.round(),y_true=y_test)\n",
        "\n",
        "print(\"Accuracy score is {}% \".format(accuracy_sc))\n",
        "print(\"f1-score is {}% \".format(f1_sc))\n",
        "print(classification_report(y_pred=y_pred.round(),y_true=y_test))"
      ],
      "execution_count": null,
      "outputs": [
        {
          "output_type": "stream",
          "name": "stdout",
          "text": [
            "Accuracy score is 81.27% \n",
            "f1-score is 0.8153770330211928% \n",
            "              precision    recall  f1-score   support\n",
            "\n",
            "           0       0.82      0.80      0.81      5000\n",
            "           1       0.80      0.83      0.82      5000\n",
            "\n",
            "    accuracy                           0.81     10000\n",
            "   macro avg       0.81      0.81      0.81     10000\n",
            "weighted avg       0.81      0.81      0.81     10000\n",
            "\n"
          ]
        }
      ]
    },
    {
      "cell_type": "markdown",
      "source": [
        "# 7 - 8 Vectorizer parameters"
      ],
      "metadata": {
        "id": "ovPX91fGefP9"
      }
    },
    {
      "cell_type": "code",
      "metadata": {
        "id": "hx7rQJuQefQP"
      },
      "source": [
        "embedding_dim = 128 # Dimension of embedded representation \n",
        "vocab_size = 100000 # Number of unique tokens in vocabulary\n",
        "sequence_length = 30 # Output dimension after vectorizing\n",
        "\n",
        "vect_layer = TextVectorization(max_tokens=vocab_size, output_mode='int', output_sequence_length=sequence_length)\n",
        "vect_layer.adapt(x_train)"
      ],
      "execution_count": null,
      "outputs": []
    },
    {
      "cell_type": "code",
      "metadata": {
        "id": "2ZT6ZFx2efQP"
      },
      "source": [
        "x_train, x_val, y_train, y_val = train_test_split(x_train, y_train, test_size=0.10, random_state=69, stratify=y_train)"
      ],
      "execution_count": null,
      "outputs": []
    },
    {
      "cell_type": "markdown",
      "source": [
        "## 7.Experiment"
      ],
      "metadata": {
        "id": "AjlIjY7wefQP"
      }
    },
    {
      "cell_type": "code",
      "metadata": {
        "colab": {
          "base_uri": "https://localhost:8080/"
        },
        "outputId": "86c51b5a-3c44-4f9f-aa60-1bc5f2611815",
        "id": "RCMYXNWeefQQ"
      },
      "source": [
        "input_layer = keras.layers.Input(shape=(1,), dtype=tf_string)\n",
        "x_vect = vect_layer(input_layer)\n",
        "emb = keras.layers.Embedding(vocab_size, embedding_dim)(x_vect)\n",
        "x = Bidirectional(LSTM(64, activation='relu', return_sequences=True))(emb)\n",
        "x = Bidirectional(LSTM(64, activation='relu', return_sequences=True))(emb)\n",
        "x = keras.layers.Flatten()(x)\n",
        "x = keras.layers.Dense(64, 'relu')(x)\n",
        "x = keras.layers.Dense(32, 'relu')(x)\n",
        "x = keras.layers.Dropout(0.2)(x)\n",
        "output_layer = keras.layers.Dense(1, 'sigmoid')(x)\n",
        "\n",
        "model = keras.Model(input_layer, output_layer)\n",
        "model.summary()\n",
        "optimizer = tf.keras.optimizers.Adam(learning_rate=1e-3)\n",
        "\n",
        "model.compile(optimizer=optimizer, loss=keras.losses.BinaryCrossentropy(), metrics=['accuracy'])"
      ],
      "execution_count": null,
      "outputs": [
        {
          "output_type": "stream",
          "name": "stdout",
          "text": [
            "WARNING:tensorflow:Layer lstm_16 will not use cuDNN kernels since it doesn't meet the criteria. It will use a generic GPU kernel as fallback when running on GPU.\n",
            "WARNING:tensorflow:Layer lstm_16 will not use cuDNN kernels since it doesn't meet the criteria. It will use a generic GPU kernel as fallback when running on GPU.\n",
            "WARNING:tensorflow:Layer lstm_16 will not use cuDNN kernels since it doesn't meet the criteria. It will use a generic GPU kernel as fallback when running on GPU.\n",
            "WARNING:tensorflow:Layer lstm_17 will not use cuDNN kernels since it doesn't meet the criteria. It will use a generic GPU kernel as fallback when running on GPU.\n",
            "WARNING:tensorflow:Layer lstm_17 will not use cuDNN kernels since it doesn't meet the criteria. It will use a generic GPU kernel as fallback when running on GPU.\n",
            "WARNING:tensorflow:Layer lstm_17 will not use cuDNN kernels since it doesn't meet the criteria. It will use a generic GPU kernel as fallback when running on GPU.\n",
            "Model: \"model_15\"\n",
            "_________________________________________________________________\n",
            " Layer (type)                Output Shape              Param #   \n",
            "=================================================================\n",
            " input_16 (InputLayer)       [(None, 1)]               0         \n",
            "                                                                 \n",
            " text_vectorization_3 (TextV  (None, 30)               0         \n",
            " ectorization)                                                   \n",
            "                                                                 \n",
            " embedding_15 (Embedding)    (None, 30, 128)           12800000  \n",
            "                                                                 \n",
            " bidirectional_11 (Bidirecti  (None, 30, 128)          98816     \n",
            " onal)                                                           \n",
            "                                                                 \n",
            " flatten_15 (Flatten)        (None, 3840)              0         \n",
            "                                                                 \n",
            " dense_45 (Dense)            (None, 64)                245824    \n",
            "                                                                 \n",
            " dense_46 (Dense)            (None, 32)                2080      \n",
            "                                                                 \n",
            " dropout_17 (Dropout)        (None, 32)                0         \n",
            "                                                                 \n",
            " dense_47 (Dense)            (None, 1)                 33        \n",
            "                                                                 \n",
            "=================================================================\n",
            "Total params: 13,146,753\n",
            "Trainable params: 13,146,753\n",
            "Non-trainable params: 0\n",
            "_________________________________________________________________\n"
          ]
        }
      ]
    },
    {
      "cell_type": "code",
      "metadata": {
        "colab": {
          "base_uri": "https://localhost:8080/"
        },
        "outputId": "82fb4460-bdfb-4fd3-854e-8b2ab20dfd8d",
        "id": "7J1sCVSWefQQ"
      },
      "source": [
        "es = keras.callbacks.EarlyStopping(monitor='val_loss', min_delta=0, patience=70, restore_best_weights=True)\n",
        "\n",
        "batch_size = 768\n",
        "epochs = 2\n",
        "history = model.fit(x_train, y_train, validation_data=(x_val, y_val), callbacks=[es], epochs=epochs, batch_size=batch_size)"
      ],
      "execution_count": null,
      "outputs": [
        {
          "output_type": "stream",
          "name": "stdout",
          "text": [
            "Epoch 1/2\n",
            "1055/1055 [==============================] - 256s 240ms/step - loss: 0.4525 - accuracy: 0.7866 - val_loss: 0.4211 - val_accuracy: 0.8052\n",
            "Epoch 2/2\n",
            "1055/1055 [==============================] - 249s 236ms/step - loss: 0.3854 - accuracy: 0.8273 - val_loss: 0.4160 - val_accuracy: 0.8095\n"
          ]
        }
      ]
    },
    {
      "cell_type": "code",
      "metadata": {
        "colab": {
          "base_uri": "https://localhost:8080/"
        },
        "outputId": "11ee90c2-c826-472e-c830-b9edbdd2ca1e",
        "id": "yNYd6Y7UefQR"
      },
      "source": [
        "model.evaluate(x_test,y_test)"
      ],
      "execution_count": null,
      "outputs": [
        {
          "output_type": "stream",
          "name": "stdout",
          "text": [
            "313/313 [==============================] - 5s 16ms/step - loss: 0.4064 - accuracy: 0.8119\n"
          ]
        },
        {
          "output_type": "execute_result",
          "data": {
            "text/plain": [
              "[0.40641912817955017, 0.8119000196456909]"
            ]
          },
          "metadata": {},
          "execution_count": 81
        }
      ]
    },
    {
      "cell_type": "code",
      "metadata": {
        "colab": {
          "base_uri": "https://localhost:8080/"
        },
        "outputId": "a9ac26ca-373d-478b-f840-6f188edcae1b",
        "id": "8QBfrykBefQR"
      },
      "source": [
        "y_pred=model.predict(x_test)\n",
        "\n",
        "accuracy_sc = accuracy_score(y_pred=y_pred.round(),y_true=y_test)*100\n",
        "f1_sc = f1_score(y_pred=y_pred.round(),y_true=y_test)\n",
        "\n",
        "print(\"Accuracy score is {}% \".format(accuracy_sc))\n",
        "print(\"f1-score is {}% \".format(f1_sc))\n",
        "print(classification_report(y_pred=y_pred.round(),y_true=y_test))"
      ],
      "execution_count": null,
      "outputs": [
        {
          "output_type": "stream",
          "name": "stdout",
          "text": [
            "Accuracy score is 81.19% \n",
            "f1-score is 0.8105167724388033% \n",
            "              precision    recall  f1-score   support\n",
            "\n",
            "           0       0.81      0.82      0.81      5000\n",
            "           1       0.82      0.80      0.81      5000\n",
            "\n",
            "    accuracy                           0.81     10000\n",
            "   macro avg       0.81      0.81      0.81     10000\n",
            "weighted avg       0.81      0.81      0.81     10000\n",
            "\n"
          ]
        }
      ]
    },
    {
      "cell_type": "markdown",
      "source": [
        "## 8.Experiment"
      ],
      "metadata": {
        "id": "_RueN0lqefQS"
      }
    },
    {
      "cell_type": "code",
      "metadata": {
        "colab": {
          "base_uri": "https://localhost:8080/"
        },
        "outputId": "aeb4e551-9839-46ae-9f84-37dd1b3626fc",
        "id": "Y4GVNBDUefQT"
      },
      "source": [
        "input_layer = keras.layers.Input(shape=(1,), dtype=tf_string)\n",
        "x_v = vect_layer(input_layer)\n",
        "emb = keras.layers.Embedding(vocab_size, embedding_dim)(x_v)\n",
        "x = Bidirectional(LSTM(128, activation='relu', return_sequences=True))(emb)\n",
        "x = Bidirectional(LSTM(64, activation='relu', return_sequences=True))(x)\n",
        "x = keras.layers.Dropout(0.4)(x)\n",
        "x = Bidirectional(GRU(64, activation='relu', return_sequences=True))(x)\n",
        "x = keras.layers.Flatten()(x)\n",
        "x = keras.layers.Dense(64, 'relu')(x)\n",
        "x = keras.layers.Dense(32, 'relu')(x)\n",
        "x = keras.layers.Dropout(0.4)(x)\n",
        "output_layer = keras.layers.Dense(1, 'sigmoid')(x)\n",
        "\n",
        "model = keras.Model(input_layer, output_layer)\n",
        "model.summary()\n",
        "optimizer = tf.keras.optimizers.Adam(learning_rate=1e-3)\n",
        "\n",
        "model.compile(optimizer=optimizer, loss=keras.losses.BinaryCrossentropy(), metrics=['accuracy'])"
      ],
      "execution_count": null,
      "outputs": [
        {
          "output_type": "stream",
          "name": "stdout",
          "text": [
            "WARNING:tensorflow:Layer lstm_18 will not use cuDNN kernels since it doesn't meet the criteria. It will use a generic GPU kernel as fallback when running on GPU.\n",
            "WARNING:tensorflow:Layer lstm_18 will not use cuDNN kernels since it doesn't meet the criteria. It will use a generic GPU kernel as fallback when running on GPU.\n",
            "WARNING:tensorflow:Layer lstm_18 will not use cuDNN kernels since it doesn't meet the criteria. It will use a generic GPU kernel as fallback when running on GPU.\n",
            "WARNING:tensorflow:Layer lstm_19 will not use cuDNN kernels since it doesn't meet the criteria. It will use a generic GPU kernel as fallback when running on GPU.\n",
            "WARNING:tensorflow:Layer lstm_19 will not use cuDNN kernels since it doesn't meet the criteria. It will use a generic GPU kernel as fallback when running on GPU.\n",
            "WARNING:tensorflow:Layer lstm_19 will not use cuDNN kernels since it doesn't meet the criteria. It will use a generic GPU kernel as fallback when running on GPU.\n",
            "WARNING:tensorflow:Layer gru_14 will not use cuDNN kernels since it doesn't meet the criteria. It will use a generic GPU kernel as fallback when running on GPU.\n",
            "WARNING:tensorflow:Layer gru_14 will not use cuDNN kernels since it doesn't meet the criteria. It will use a generic GPU kernel as fallback when running on GPU.\n",
            "WARNING:tensorflow:Layer gru_14 will not use cuDNN kernels since it doesn't meet the criteria. It will use a generic GPU kernel as fallback when running on GPU.\n",
            "Model: \"model_16\"\n",
            "_________________________________________________________________\n",
            " Layer (type)                Output Shape              Param #   \n",
            "=================================================================\n",
            " input_17 (InputLayer)       [(None, 1)]               0         \n",
            "                                                                 \n",
            " text_vectorization_3 (TextV  (None, 30)               0         \n",
            " ectorization)                                                   \n",
            "                                                                 \n",
            " embedding_16 (Embedding)    (None, 30, 128)           12800000  \n",
            "                                                                 \n",
            " bidirectional_12 (Bidirecti  (None, 30, 256)          263168    \n",
            " onal)                                                           \n",
            "                                                                 \n",
            " bidirectional_13 (Bidirecti  (None, 30, 128)          164352    \n",
            " onal)                                                           \n",
            "                                                                 \n",
            " dropout_18 (Dropout)        (None, 30, 128)           0         \n",
            "                                                                 \n",
            " bidirectional_14 (Bidirecti  (None, 30, 128)          74496     \n",
            " onal)                                                           \n",
            "                                                                 \n",
            " flatten_16 (Flatten)        (None, 3840)              0         \n",
            "                                                                 \n",
            " dense_48 (Dense)            (None, 64)                245824    \n",
            "                                                                 \n",
            " dense_49 (Dense)            (None, 32)                2080      \n",
            "                                                                 \n",
            " dropout_19 (Dropout)        (None, 32)                0         \n",
            "                                                                 \n",
            " dense_50 (Dense)            (None, 1)                 33        \n",
            "                                                                 \n",
            "=================================================================\n",
            "Total params: 13,549,953\n",
            "Trainable params: 13,549,953\n",
            "Non-trainable params: 0\n",
            "_________________________________________________________________\n"
          ]
        }
      ]
    },
    {
      "cell_type": "code",
      "metadata": {
        "colab": {
          "base_uri": "https://localhost:8080/"
        },
        "outputId": "d499acac-81c8-49d6-abe7-8eebeba31d72",
        "id": "aZQt57yMefQT"
      },
      "source": [
        "es = keras.callbacks.EarlyStopping(monitor='val_loss', min_delta=0, patience=70, restore_best_weights=True)\n",
        "\n",
        "batch_size = 768\n",
        "epochs = 2\n",
        "history = model.fit(x_train, y_train, validation_data=(x_val, y_val), callbacks=[es], epochs=epochs, batch_size=batch_size)"
      ],
      "execution_count": null,
      "outputs": [
        {
          "output_type": "stream",
          "name": "stdout",
          "text": [
            "Epoch 1/2\n",
            "1055/1055 [==============================] - 721s 676ms/step - loss: 0.4602 - accuracy: 0.7862 - val_loss: 0.4150 - val_accuracy: 0.8098\n",
            "Epoch 2/2\n",
            "1055/1055 [==============================] - 704s 667ms/step - loss: 0.3913 - accuracy: 0.8280 - val_loss: 0.4162 - val_accuracy: 0.8103\n"
          ]
        }
      ]
    },
    {
      "cell_type": "code",
      "metadata": {
        "colab": {
          "base_uri": "https://localhost:8080/"
        },
        "id": "FNbXwLeqefQU",
        "outputId": "afaad5d0-664a-43ea-d960-52c79483152d"
      },
      "source": [
        "model.evaluate(x_test,y_test)"
      ],
      "execution_count": null,
      "outputs": [
        {
          "output_type": "stream",
          "name": "stdout",
          "text": [
            "313/313 [==============================] - 13s 40ms/step - loss: 0.4066 - accuracy: 0.8103\n"
          ]
        },
        {
          "output_type": "execute_result",
          "data": {
            "text/plain": [
              "[0.4066093862056732, 0.8102999925613403]"
            ]
          },
          "metadata": {},
          "execution_count": 85
        }
      ]
    },
    {
      "cell_type": "code",
      "metadata": {
        "colab": {
          "base_uri": "https://localhost:8080/"
        },
        "id": "vwfObgggefQU",
        "outputId": "5247d72d-afa9-4b92-e0fa-10a69bdcfda3"
      },
      "source": [
        "y_pred=model.predict(x_test)\n",
        "\n",
        "accuracy_sc = accuracy_score(y_pred=y_pred.round(),y_true=y_test)*100\n",
        "f1_sc = f1_score(y_pred=y_pred.round(),y_true=y_test)\n",
        "\n",
        "print(\"Accuracy score is {}% \".format(accuracy_sc))\n",
        "print(\"f1-score is {}% \".format(f1_sc))\n",
        "print(classification_report(y_pred=y_pred.round(),y_true=y_test))"
      ],
      "execution_count": null,
      "outputs": [
        {
          "output_type": "stream",
          "name": "stdout",
          "text": [
            "Accuracy score is 81.03% \n",
            "f1-score is 0.8105841238142786% \n",
            "              precision    recall  f1-score   support\n",
            "\n",
            "           0       0.81      0.81      0.81      5000\n",
            "           1       0.81      0.81      0.81      5000\n",
            "\n",
            "    accuracy                           0.81     10000\n",
            "   macro avg       0.81      0.81      0.81     10000\n",
            "weighted avg       0.81      0.81      0.81     10000\n",
            "\n"
          ]
        }
      ]
    },
    {
      "cell_type": "markdown",
      "source": [
        "# Save model"
      ],
      "metadata": {
        "id": "TRk_SMN5kZI2"
      }
    },
    {
      "cell_type": "code",
      "metadata": {
        "colab": {
          "base_uri": "https://localhost:8080/"
        },
        "id": "Q-urKYDgq-un",
        "outputId": "869a3555-7a1e-4eab-fd5e-d1aecfa65da3"
      },
      "source": [
        "model.save('FR_lmst_fifth')"
      ],
      "execution_count": null,
      "outputs": [
        {
          "output_type": "stream",
          "name": "stdout",
          "text": [
            "INFO:tensorflow:Assets written to: FR_lmst_fifth/assets\n"
          ]
        }
      ]
    },
    {
      "cell_type": "code",
      "metadata": {
        "colab": {
          "base_uri": "https://localhost:8080/"
        },
        "id": "_wgbyYDl-JSi",
        "outputId": "2503607f-fd56-4edd-ec44-8dcc5c378d93"
      },
      "source": [
        "!zip -r /content/Frfifth.zip /content/FR_lmst_fifth/"
      ],
      "execution_count": null,
      "outputs": [
        {
          "output_type": "stream",
          "name": "stdout",
          "text": [
            "  adding: content/FR_lmst_fifth/ (stored 0%)\n",
            "  adding: content/FR_lmst_fifth/keras_metadata.pb (deflated 90%)\n",
            "  adding: content/FR_lmst_fifth/assets/ (stored 0%)\n",
            "  adding: content/FR_lmst_fifth/variables/ (stored 0%)\n",
            "  adding: content/FR_lmst_fifth/variables/variables.data-00000-of-00001 (deflated 7%)\n",
            "  adding: content/FR_lmst_fifth/variables/variables.index (deflated 66%)\n",
            "  adding: content/FR_lmst_fifth/saved_model.pb (deflated 79%)\n"
          ]
        }
      ]
    }
  ]
}