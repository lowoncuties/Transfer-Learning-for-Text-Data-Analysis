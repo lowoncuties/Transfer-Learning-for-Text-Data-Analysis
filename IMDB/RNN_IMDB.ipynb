{
  "nbformat": 4,
  "nbformat_minor": 0,
  "metadata": {
    "colab": {
      "name": "LSTM_IMDB.ipynb",
      "provenance": [],
      "collapsed_sections": [],
      "toc_visible": true
    },
    "kernelspec": {
      "name": "python3",
      "display_name": "Python 3"
    },
    "language_info": {
      "name": "python"
    },
    "accelerator": "GPU"
  },
  "cells": [
    {
      "cell_type": "markdown",
      "source": [
        "# Imports and utility functions"
      ],
      "metadata": {
        "id": "RZYMejbexCER"
      }
    },
    {
      "cell_type": "code",
      "metadata": {
        "id": "43AiImZRqXjT"
      },
      "source": [
        "from __future__ import absolute_import\n",
        "from __future__ import division\n",
        "from __future__ import print_function\n",
        "\n",
        "import matplotlib.pyplot as plt # plotting\n",
        "import matplotlib.image as mpimg # images\n",
        "import numpy as np #numpy\n",
        "import seaborn as sns\n",
        "import tensorflow.compat.v2 as tf #use tensorflow v2 as a main \n",
        "import tensorflow.keras as keras # required for high level applications\n",
        "from sklearn.model_selection import train_test_split # split for validation sets\n",
        "from sklearn.metrics import accuracy_score, f1_score, classification_report\n",
        "from sklearn.preprocessing import normalize # normalization of the matrix\n",
        "import scipy\n",
        "import pandas as pd\n",
        "import re\n",
        "\n"
      ],
      "execution_count": null,
      "outputs": []
    },
    {
      "cell_type": "code",
      "metadata": {
        "id": "imembF7Xqb_z"
      },
      "source": [
        "def cleanTexts(texts):\n",
        "    cleaned = []\n",
        "    pattern = \"[^a-zA-Z0-9]\"\n",
        "    for text in texts:\n",
        "        clrd = re.sub(pattern,\" \",text).lower().strip()\n",
        "        cleaned.append(clrd)\n",
        "    return cleaned"
      ],
      "execution_count": null,
      "outputs": []
    },
    {
      "cell_type": "markdown",
      "source": [
        "# Load data"
      ],
      "metadata": {
        "id": "INznOlSjxSUa"
      }
    },
    {
      "cell_type": "code",
      "execution_count": null,
      "metadata": {
        "colab": {
          "base_uri": "https://localhost:8080/",
          "height": 206
        },
        "id": "iv9SP1AoyuJe",
        "outputId": "4c755244-c173-46cc-e61f-fea0e378072a"
      },
      "outputs": [
        {
          "output_type": "execute_result",
          "data": {
            "text/plain": [
              "       Unnamed: 0                                               text  label\n",
              "7719        23629  I have a high tolerance level for crap, so I w...      0\n",
              "9361         8113  In my opinion, the best movie ever. I love whe...      1\n",
              "13984        3936  This episode of Twilight Zone combines a silen...      1\n",
              "2840        21728  This movie is nothing but a religious tract pr...      0\n",
              "11664       11096  John Van Druten's \"Bell, Book and Candle\" is a...      1"
            ],
            "text/html": [
              "\n",
              "  <div id=\"df-ff51404a-f206-4dde-b105-124199e90651\">\n",
              "    <div class=\"colab-df-container\">\n",
              "      <div>\n",
              "<style scoped>\n",
              "    .dataframe tbody tr th:only-of-type {\n",
              "        vertical-align: middle;\n",
              "    }\n",
              "\n",
              "    .dataframe tbody tr th {\n",
              "        vertical-align: top;\n",
              "    }\n",
              "\n",
              "    .dataframe thead th {\n",
              "        text-align: right;\n",
              "    }\n",
              "</style>\n",
              "<table border=\"1\" class=\"dataframe\">\n",
              "  <thead>\n",
              "    <tr style=\"text-align: right;\">\n",
              "      <th></th>\n",
              "      <th>Unnamed: 0</th>\n",
              "      <th>text</th>\n",
              "      <th>label</th>\n",
              "    </tr>\n",
              "  </thead>\n",
              "  <tbody>\n",
              "    <tr>\n",
              "      <th>7719</th>\n",
              "      <td>23629</td>\n",
              "      <td>I have a high tolerance level for crap, so I w...</td>\n",
              "      <td>0</td>\n",
              "    </tr>\n",
              "    <tr>\n",
              "      <th>9361</th>\n",
              "      <td>8113</td>\n",
              "      <td>In my opinion, the best movie ever. I love whe...</td>\n",
              "      <td>1</td>\n",
              "    </tr>\n",
              "    <tr>\n",
              "      <th>13984</th>\n",
              "      <td>3936</td>\n",
              "      <td>This episode of Twilight Zone combines a silen...</td>\n",
              "      <td>1</td>\n",
              "    </tr>\n",
              "    <tr>\n",
              "      <th>2840</th>\n",
              "      <td>21728</td>\n",
              "      <td>This movie is nothing but a religious tract pr...</td>\n",
              "      <td>0</td>\n",
              "    </tr>\n",
              "    <tr>\n",
              "      <th>11664</th>\n",
              "      <td>11096</td>\n",
              "      <td>John Van Druten's \"Bell, Book and Candle\" is a...</td>\n",
              "      <td>1</td>\n",
              "    </tr>\n",
              "  </tbody>\n",
              "</table>\n",
              "</div>\n",
              "      <button class=\"colab-df-convert\" onclick=\"convertToInteractive('df-ff51404a-f206-4dde-b105-124199e90651')\"\n",
              "              title=\"Convert this dataframe to an interactive table.\"\n",
              "              style=\"display:none;\">\n",
              "        \n",
              "  <svg xmlns=\"http://www.w3.org/2000/svg\" height=\"24px\"viewBox=\"0 0 24 24\"\n",
              "       width=\"24px\">\n",
              "    <path d=\"M0 0h24v24H0V0z\" fill=\"none\"/>\n",
              "    <path d=\"M18.56 5.44l.94 2.06.94-2.06 2.06-.94-2.06-.94-.94-2.06-.94 2.06-2.06.94zm-11 1L8.5 8.5l.94-2.06 2.06-.94-2.06-.94L8.5 2.5l-.94 2.06-2.06.94zm10 10l.94 2.06.94-2.06 2.06-.94-2.06-.94-.94-2.06-.94 2.06-2.06.94z\"/><path d=\"M17.41 7.96l-1.37-1.37c-.4-.4-.92-.59-1.43-.59-.52 0-1.04.2-1.43.59L10.3 9.45l-7.72 7.72c-.78.78-.78 2.05 0 2.83L4 21.41c.39.39.9.59 1.41.59.51 0 1.02-.2 1.41-.59l7.78-7.78 2.81-2.81c.8-.78.8-2.07 0-2.86zM5.41 20L4 18.59l7.72-7.72 1.47 1.35L5.41 20z\"/>\n",
              "  </svg>\n",
              "      </button>\n",
              "      \n",
              "  <style>\n",
              "    .colab-df-container {\n",
              "      display:flex;\n",
              "      flex-wrap:wrap;\n",
              "      gap: 12px;\n",
              "    }\n",
              "\n",
              "    .colab-df-convert {\n",
              "      background-color: #E8F0FE;\n",
              "      border: none;\n",
              "      border-radius: 50%;\n",
              "      cursor: pointer;\n",
              "      display: none;\n",
              "      fill: #1967D2;\n",
              "      height: 32px;\n",
              "      padding: 0 0 0 0;\n",
              "      width: 32px;\n",
              "    }\n",
              "\n",
              "    .colab-df-convert:hover {\n",
              "      background-color: #E2EBFA;\n",
              "      box-shadow: 0px 1px 2px rgba(60, 64, 67, 0.3), 0px 1px 3px 1px rgba(60, 64, 67, 0.15);\n",
              "      fill: #174EA6;\n",
              "    }\n",
              "\n",
              "    [theme=dark] .colab-df-convert {\n",
              "      background-color: #3B4455;\n",
              "      fill: #D2E3FC;\n",
              "    }\n",
              "\n",
              "    [theme=dark] .colab-df-convert:hover {\n",
              "      background-color: #434B5C;\n",
              "      box-shadow: 0px 1px 3px 1px rgba(0, 0, 0, 0.15);\n",
              "      filter: drop-shadow(0px 1px 2px rgba(0, 0, 0, 0.3));\n",
              "      fill: #FFFFFF;\n",
              "    }\n",
              "  </style>\n",
              "\n",
              "      <script>\n",
              "        const buttonEl =\n",
              "          document.querySelector('#df-ff51404a-f206-4dde-b105-124199e90651 button.colab-df-convert');\n",
              "        buttonEl.style.display =\n",
              "          google.colab.kernel.accessAllowed ? 'block' : 'none';\n",
              "\n",
              "        async function convertToInteractive(key) {\n",
              "          const element = document.querySelector('#df-ff51404a-f206-4dde-b105-124199e90651');\n",
              "          const dataTable =\n",
              "            await google.colab.kernel.invokeFunction('convertToInteractive',\n",
              "                                                     [key], {});\n",
              "          if (!dataTable) return;\n",
              "\n",
              "          const docLinkHtml = 'Like what you see? Visit the ' +\n",
              "            '<a target=\"_blank\" href=https://colab.research.google.com/notebooks/data_table.ipynb>data table notebook</a>'\n",
              "            + ' to learn more about interactive tables.';\n",
              "          element.innerHTML = '';\n",
              "          dataTable['output_type'] = 'display_data';\n",
              "          await google.colab.output.renderOutput(dataTable, element);\n",
              "          const docLink = document.createElement('div');\n",
              "          docLink.innerHTML = docLinkHtml;\n",
              "          element.appendChild(docLink);\n",
              "        }\n",
              "      </script>\n",
              "    </div>\n",
              "  </div>\n",
              "  "
            ]
          },
          "metadata": {},
          "execution_count": 3
        }
      ],
      "source": [
        "from sklearn.utils import shuffle\n",
        "\n",
        "dataset = pd.read_csv('train_data_imdb.csv')\n",
        "dataset = shuffle(dataset)\n",
        "dataset.tail()"
      ]
    },
    {
      "cell_type": "code",
      "execution_count": null,
      "metadata": {
        "id": "T9xLnaYVy17r"
      },
      "outputs": [],
      "source": [
        "x_train = list(cleanTexts(dataset['text']))\n",
        "# print(x[:5])\n",
        "\n",
        "y_train = list(dataset['label'])\n",
        "# print(y[:5])\n",
        "\n",
        "#x_train = x_train[:10000]\n",
        "#y_train = y_train[:10000]\n",
        "\n",
        "x_train = x_train[:25000]\n",
        "y_train = y_train[:25000]"
      ]
    },
    {
      "cell_type": "code",
      "execution_count": null,
      "metadata": {
        "id": "LsiB621yy1-a"
      },
      "outputs": [],
      "source": [
        "test_data = pd.read_csv('test_data_imdb.csv')\n",
        "\n",
        "x_test = list(cleanTexts(test_data['text']))\n",
        "y_test = list(test_data['label'])\n",
        "\n",
        "x_test = x_test[:10000]\n",
        "y_test = y_test[:10000]"
      ]
    },
    {
      "cell_type": "markdown",
      "source": [
        "# Train model and predict on test dataset"
      ],
      "metadata": {
        "id": "qIOv10URySWh"
      }
    },
    {
      "cell_type": "code",
      "metadata": {
        "id": "OHPU07Ouqna_"
      },
      "source": [
        "from tensorflow import string as tf_string\n",
        "from tensorflow.keras.layers.experimental.preprocessing import TextVectorization\n",
        "from tensorflow.compat.v1.keras.layers import CuDNNGRU, CuDNNLSTM\n",
        "from tensorflow.keras.layers import LSTM, GRU, Bidirectional\n"
      ],
      "execution_count": null,
      "outputs": []
    },
    {
      "cell_type": "markdown",
      "source": [
        "## 1-4 Vectorizer parameters"
      ],
      "metadata": {
        "id": "H4_AGYOf7FPF"
      }
    },
    {
      "cell_type": "code",
      "metadata": {
        "id": "ky6Z7ktq4fJi"
      },
      "source": [
        "embedding_dim = 256 # Dimension of embedded representation - \n",
        "vocab_size = 30000 # Number of unique tokens in vocabulary\n",
        "sequence_length = 256 # Output dimension after vectorizing - \n",
        "\n",
        "\n",
        "vect_layer = TextVectorization(max_tokens=vocab_size, output_mode='int', output_sequence_length=sequence_length)\n",
        "vect_layer.adapt(x_train)"
      ],
      "execution_count": null,
      "outputs": []
    },
    {
      "cell_type": "code",
      "metadata": {
        "id": "CTWY4_F94fJj"
      },
      "source": [
        "x_train, x_val, y_train, y_val = train_test_split(x_train, y_train, test_size=0.10, random_state=69, stratify=y_train)"
      ],
      "execution_count": null,
      "outputs": []
    },
    {
      "cell_type": "markdown",
      "source": [
        "## 1.Experiment"
      ],
      "metadata": {
        "id": "RpwsjiZy4fJW"
      }
    },
    {
      "cell_type": "code",
      "metadata": {
        "colab": {
          "base_uri": "https://localhost:8080/"
        },
        "outputId": "796bf192-1c60-460f-f1ad-b186f0c6cce6",
        "id": "6eKNmiQ94fJk"
      },
      "source": [
        "input_layer = keras.layers.Input(shape=(1,), dtype=tf_string)\n",
        "x_v = vect_layer(input_layer)\n",
        "emb = keras.layers.Embedding(vocab_size, embedding_dim, mask_zero=True)(x_v)\n",
        "x = LSTM(128, activation='relu', return_sequences=True)(emb)\n",
        "x = GRU(128, activation='relu', return_sequences=True)(x)\n",
        "x = keras.layers.Flatten()(x)\n",
        "x = keras.layers.Dense(128, 'relu')(x)\n",
        "x = keras.layers.Dense(64, 'relu')(x)\n",
        "x = keras.layers.Dense(32, 'relu')(x)\n",
        "x = keras.layers.Dropout(0.2)(x)\n",
        "output_layer = keras.layers.Dense(1, 'sigmoid')(x)\n",
        "\n",
        "model = keras.Model(input_layer, output_layer)\n",
        "model.summary()\n",
        "optimizer = tf.keras.optimizers.Adam(learning_rate=1e-3)\n",
        "\n",
        "model.compile(optimizer=optimizer, loss=keras.losses.BinaryCrossentropy(), metrics=['accuracy'])"
      ],
      "execution_count": null,
      "outputs": [
        {
          "output_type": "stream",
          "name": "stdout",
          "text": [
            "WARNING:tensorflow:Layer lstm_3 will not use cuDNN kernels since it doesn't meet the criteria. It will use a generic GPU kernel as fallback when running on GPU.\n",
            "WARNING:tensorflow:Layer gru_2 will not use cuDNN kernels since it doesn't meet the criteria. It will use a generic GPU kernel as fallback when running on GPU.\n",
            "Model: \"model_3\"\n",
            "_________________________________________________________________\n",
            " Layer (type)                Output Shape              Param #   \n",
            "=================================================================\n",
            " input_4 (InputLayer)        [(None, 1)]               0         \n",
            "                                                                 \n",
            " text_vectorization_2 (TextV  (None, 256)              0         \n",
            " ectorization)                                                   \n",
            "                                                                 \n",
            " embedding_3 (Embedding)     (None, 256, 256)          7680000   \n",
            "                                                                 \n",
            " lstm_3 (LSTM)               (None, 256, 128)          197120    \n",
            "                                                                 \n",
            " gru_2 (GRU)                 (None, 256, 128)          99072     \n",
            "                                                                 \n",
            " flatten_3 (Flatten)         (None, 32768)             0         \n",
            "                                                                 \n",
            " dense_12 (Dense)            (None, 128)               4194432   \n",
            "                                                                 \n",
            " dense_13 (Dense)            (None, 64)                8256      \n",
            "                                                                 \n",
            " dense_14 (Dense)            (None, 32)                2080      \n",
            "                                                                 \n",
            " dropout_3 (Dropout)         (None, 32)                0         \n",
            "                                                                 \n",
            " dense_15 (Dense)            (None, 1)                 33        \n",
            "                                                                 \n",
            "=================================================================\n",
            "Total params: 12,180,993\n",
            "Trainable params: 12,180,993\n",
            "Non-trainable params: 0\n",
            "_________________________________________________________________\n"
          ]
        }
      ]
    },
    {
      "cell_type": "code",
      "metadata": {
        "colab": {
          "base_uri": "https://localhost:8080/"
        },
        "outputId": "e36830d0-2780-40e4-b68f-d391076b6fff",
        "id": "xEcZbj4D4fJl"
      },
      "source": [
        "es = keras.callbacks.EarlyStopping(monitor='val_loss', min_delta=0, patience=70, restore_best_weights=True)\n",
        "\n",
        "batch_size = 768\n",
        "epochs = 5\n",
        "history = model.fit(x_train, y_train, validation_data=(x_val, y_val), callbacks=[es], epochs=epochs, batch_size=batch_size)"
      ],
      "execution_count": null,
      "outputs": [
        {
          "output_type": "stream",
          "name": "stdout",
          "text": [
            "Epoch 1/2\n",
            "12/12 [==============================] - 33s 3s/step - loss: 0.1443 - accuracy: 0.9551 - val_loss: 0.4277 - val_accuracy: 0.8400\n",
            "Epoch 2/2\n",
            "12/12 [==============================] - 26s 2s/step - loss: 0.0582 - accuracy: 0.9842 - val_loss: 0.5971 - val_accuracy: 0.8420\n"
          ]
        }
      ]
    },
    {
      "cell_type": "code",
      "metadata": {
        "colab": {
          "base_uri": "https://localhost:8080/"
        },
        "outputId": "e9c6567b-34c0-4645-fa47-b879d1972029",
        "id": "wGMXHgCM4fJl"
      },
      "source": [
        "model.evaluate(x_test,y_test)"
      ],
      "execution_count": null,
      "outputs": [
        {
          "output_type": "stream",
          "name": "stdout",
          "text": [
            "313/313 [==============================] - 39s 125ms/step - loss: 0.7538 - accuracy: 0.8082\n"
          ]
        },
        {
          "output_type": "execute_result",
          "data": {
            "text/plain": [
              "[0.7538464665412903, 0.8082000017166138]"
            ]
          },
          "metadata": {},
          "execution_count": 34
        }
      ]
    },
    {
      "cell_type": "code",
      "metadata": {
        "colab": {
          "base_uri": "https://localhost:8080/"
        },
        "outputId": "685007d4-4e9f-4d71-d408-90771670c182",
        "id": "luqEWGeN4fJl"
      },
      "source": [
        "y_pred=model.predict(x_test)\n",
        "\n",
        "\n",
        "accuracy_sc = accuracy_score(y_pred=y_pred.round(),y_true=y_test)*100\n",
        "f1_sc = f1_score(y_pred=y_pred.round(),y_true=y_test)\n",
        "\n",
        "print(\"Accuracy score is {}% \".format(accuracy_sc))\n",
        "print(\"f1-score is {}% \".format(f1_sc))\n",
        "print(classification_report(y_pred=y_pred.round(),y_true=y_test))"
      ],
      "execution_count": null,
      "outputs": [
        {
          "output_type": "stream",
          "name": "stdout",
          "text": [
            "Accuracy score is 80.82000000000001% \n",
            "f1-score is 0.8125488663017982% \n",
            "              precision    recall  f1-score   support\n",
            "\n",
            "           0       0.82      0.79      0.80      4984\n",
            "           1       0.80      0.83      0.81      5016\n",
            "\n",
            "    accuracy                           0.81     10000\n",
            "   macro avg       0.81      0.81      0.81     10000\n",
            "weighted avg       0.81      0.81      0.81     10000\n",
            "\n"
          ]
        }
      ]
    },
    {
      "cell_type": "markdown",
      "source": [
        "## 2.Experiment"
      ],
      "metadata": {
        "id": "P9vvf5_74fJm"
      }
    },
    {
      "cell_type": "code",
      "metadata": {
        "colab": {
          "base_uri": "https://localhost:8080/"
        },
        "outputId": "c7bbcee5-96d0-4f7d-bcea-79809b150318",
        "id": "LMS7xHqV4fJn"
      },
      "source": [
        "input_layer = keras.layers.Input(shape=(1,), dtype=tf_string)\n",
        "x_v = vect_layer(input_layer)\n",
        "emb = keras.layers.Embedding(vocab_size, embedding_dim, mask_zero=True)(x_v)\n",
        "x = Bidirectional(LSTM(128, activation='relu', return_sequences=True))(emb)\n",
        "x = Bidirectional(GRU(128, activation='relu', return_sequences=True))(x)\n",
        "x = keras.layers.Flatten()(x)\n",
        "x = keras.layers.Dense(128, 'relu')(x)\n",
        "x = keras.layers.Dense(64, 'relu')(x)\n",
        "x = keras.layers.Dense(32, 'relu')(x)\n",
        "x = keras.layers.Dropout(0.2)(x)\n",
        "output_layer = keras.layers.Dense(1, 'sigmoid')(x)\n",
        "\n",
        "model = keras.Model(input_layer, output_layer)\n",
        "model.summary()\n",
        "optimizer = tf.keras.optimizers.Adam(learning_rate=1e-3)\n",
        "\n",
        "model.compile(optimizer=optimizer, loss=keras.losses.BinaryCrossentropy(), metrics=['accuracy'])"
      ],
      "execution_count": null,
      "outputs": [
        {
          "output_type": "stream",
          "name": "stdout",
          "text": [
            "WARNING:tensorflow:Layer lstm_4 will not use cuDNN kernels since it doesn't meet the criteria. It will use a generic GPU kernel as fallback when running on GPU.\n",
            "WARNING:tensorflow:Layer lstm_4 will not use cuDNN kernels since it doesn't meet the criteria. It will use a generic GPU kernel as fallback when running on GPU.\n",
            "WARNING:tensorflow:Layer lstm_4 will not use cuDNN kernels since it doesn't meet the criteria. It will use a generic GPU kernel as fallback when running on GPU.\n",
            "WARNING:tensorflow:Layer gru_3 will not use cuDNN kernels since it doesn't meet the criteria. It will use a generic GPU kernel as fallback when running on GPU.\n",
            "WARNING:tensorflow:Layer gru_3 will not use cuDNN kernels since it doesn't meet the criteria. It will use a generic GPU kernel as fallback when running on GPU.\n",
            "WARNING:tensorflow:Layer gru_3 will not use cuDNN kernels since it doesn't meet the criteria. It will use a generic GPU kernel as fallback when running on GPU.\n",
            "Model: \"model_4\"\n",
            "_________________________________________________________________\n",
            " Layer (type)                Output Shape              Param #   \n",
            "=================================================================\n",
            " input_5 (InputLayer)        [(None, 1)]               0         \n",
            "                                                                 \n",
            " text_vectorization_2 (TextV  (None, 256)              0         \n",
            " ectorization)                                                   \n",
            "                                                                 \n",
            " embedding_4 (Embedding)     (None, 256, 256)          7680000   \n",
            "                                                                 \n",
            " bidirectional_2 (Bidirectio  (None, 256, 256)         394240    \n",
            " nal)                                                            \n",
            "                                                                 \n",
            " bidirectional_3 (Bidirectio  (None, 256, 256)         296448    \n",
            " nal)                                                            \n",
            "                                                                 \n",
            " flatten_4 (Flatten)         (None, 65536)             0         \n",
            "                                                                 \n",
            " dense_16 (Dense)            (None, 128)               8388736   \n",
            "                                                                 \n",
            " dense_17 (Dense)            (None, 64)                8256      \n",
            "                                                                 \n",
            " dense_18 (Dense)            (None, 32)                2080      \n",
            "                                                                 \n",
            " dropout_4 (Dropout)         (None, 32)                0         \n",
            "                                                                 \n",
            " dense_19 (Dense)            (None, 1)                 33        \n",
            "                                                                 \n",
            "=================================================================\n",
            "Total params: 16,769,793\n",
            "Trainable params: 16,769,793\n",
            "Non-trainable params: 0\n",
            "_________________________________________________________________\n"
          ]
        }
      ]
    },
    {
      "cell_type": "code",
      "metadata": {
        "colab": {
          "base_uri": "https://localhost:8080/"
        },
        "outputId": "466b633a-8816-4209-b790-d955a73c1851",
        "id": "31my1RSH4fJo"
      },
      "source": [
        "es = keras.callbacks.EarlyStopping(monitor='val_loss', min_delta=0, patience=70, restore_best_weights=True)\n",
        "\n",
        "batch_size = 768\n",
        "epochs = 5\n",
        "history = model.fit(x_train, y_train, validation_data=(x_val, y_val), callbacks=[es], epochs=epochs, batch_size=batch_size)"
      ],
      "execution_count": null,
      "outputs": [
        {
          "output_type": "stream",
          "name": "stdout",
          "text": [
            "Epoch 1/5\n",
            "12/12 [==============================] - 69s 5s/step - loss: 0.6918 - accuracy: 0.5233 - val_loss: 0.6731 - val_accuracy: 0.6370\n",
            "Epoch 2/5\n",
            "12/12 [==============================] - 51s 4s/step - loss: 0.6114 - accuracy: 0.6832 - val_loss: 0.4629 - val_accuracy: 0.8150\n",
            "Epoch 3/5\n",
            "12/12 [==============================] - 51s 4s/step - loss: 0.3605 - accuracy: 0.8538 - val_loss: 0.3182 - val_accuracy: 0.8710\n",
            "Epoch 4/5\n",
            "12/12 [==============================] - 57s 5s/step - loss: 0.1579 - accuracy: 0.9446 - val_loss: 0.3699 - val_accuracy: 0.8620\n",
            "Epoch 5/5\n",
            "12/12 [==============================] - 54s 5s/step - loss: 0.0667 - accuracy: 0.9823 - val_loss: 0.4773 - val_accuracy: 0.8650\n"
          ]
        }
      ]
    },
    {
      "cell_type": "code",
      "metadata": {
        "colab": {
          "base_uri": "https://localhost:8080/"
        },
        "outputId": "2e59a4d6-2a4e-40a5-a048-81da511ba9a6",
        "id": "5exeasMv4fJp"
      },
      "source": [
        "model.evaluate(x_test,y_test)"
      ],
      "execution_count": null,
      "outputs": [
        {
          "output_type": "stream",
          "name": "stdout",
          "text": [
            "313/313 [==============================] - 78s 249ms/step - loss: 0.5919 - accuracy: 0.8382\n"
          ]
        },
        {
          "output_type": "execute_result",
          "data": {
            "text/plain": [
              "[0.5919193625450134, 0.8381999731063843]"
            ]
          },
          "metadata": {},
          "execution_count": 38
        }
      ]
    },
    {
      "cell_type": "code",
      "metadata": {
        "colab": {
          "base_uri": "https://localhost:8080/"
        },
        "id": "C275MCJ34fJq",
        "outputId": "c749b3de-15a4-4e87-9e11-db2e7d130b34"
      },
      "source": [
        "y_pred=model.predict(x_test)\n",
        "\n",
        "\n",
        "accuracy_sc = accuracy_score(y_pred=y_pred.round(),y_true=y_test)*100\n",
        "f1_sc = f1_score(y_pred=y_pred.round(),y_true=y_test)\n",
        "\n",
        "print(\"Accuracy score is {}% \".format(accuracy_sc))\n",
        "print(\"f1-score is {}% \".format(f1_sc))\n",
        "print(classification_report(y_pred=y_pred.round(),y_true=y_test))"
      ],
      "execution_count": null,
      "outputs": [
        {
          "output_type": "stream",
          "name": "stdout",
          "text": [
            "Accuracy score is 83.82% \n",
            "f1-score is 0.8423001949317739% \n",
            "              precision    recall  f1-score   support\n",
            "\n",
            "           0       0.85      0.81      0.83      4984\n",
            "           1       0.82      0.86      0.84      5016\n",
            "\n",
            "    accuracy                           0.84     10000\n",
            "   macro avg       0.84      0.84      0.84     10000\n",
            "weighted avg       0.84      0.84      0.84     10000\n",
            "\n"
          ]
        }
      ]
    },
    {
      "cell_type": "markdown",
      "source": [
        "## 3.Experiment"
      ],
      "metadata": {
        "id": "vLNhfsS82Jbb"
      }
    },
    {
      "cell_type": "code",
      "metadata": {
        "colab": {
          "base_uri": "https://localhost:8080/"
        },
        "id": "xR4eDsZzqv0v",
        "outputId": "bd077987-670e-44af-ab67-422e0c440972"
      },
      "source": [
        "input_layer = keras.layers.Input(shape=(1,), dtype=tf_string)\n",
        "x_v = vect_layer(input_layer)\n",
        "emb = keras.layers.Embedding(vocab_size, embedding_dim, mask_zero=True)(x_v)\n",
        "x = LSTM(128, activation='relu', return_sequences=True)(emb)\n",
        "x = GRU(128, activation='relu', return_sequences=True)(x)\n",
        "x = keras.layers.Flatten()(x)\n",
        "x = keras.layers.Dense(128, 'relu')(x)\n",
        "x = keras.layers.Dense(64, 'relu')(x)\n",
        "x = keras.layers.Dense(32, 'relu')(x)\n",
        "x = keras.layers.Dropout(0.2)(x)\n",
        "output_layer = keras.layers.Dense(1, 'sigmoid')(x)\n",
        "\n",
        "model = keras.Model(input_layer, output_layer)\n",
        "model.summary()\n",
        "optimizer = tf.keras.optimizers.Adam(learning_rate=1e-3)\n",
        "\n",
        "model.compile(optimizer=optimizer, loss=keras.losses.BinaryCrossentropy(), metrics=['accuracy'])"
      ],
      "execution_count": null,
      "outputs": [
        {
          "output_type": "stream",
          "name": "stdout",
          "text": [
            "WARNING:tensorflow:Layer lstm_1 will not use cuDNN kernels since it doesn't meet the criteria. It will use a generic GPU kernel as fallback when running on GPU.\n",
            "WARNING:tensorflow:Layer gru will not use cuDNN kernels since it doesn't meet the criteria. It will use a generic GPU kernel as fallback when running on GPU.\n",
            "Model: \"model_1\"\n",
            "_________________________________________________________________\n",
            " Layer (type)                Output Shape              Param #   \n",
            "=================================================================\n",
            " input_2 (InputLayer)        [(None, 1)]               0         \n",
            "                                                                 \n",
            " text_vectorization (TextVec  (None, 256)              0         \n",
            " torization)                                                     \n",
            "                                                                 \n",
            " embedding_1 (Embedding)     (None, 256, 256)          7680000   \n",
            "                                                                 \n",
            " lstm_1 (LSTM)               (None, 256, 128)          197120    \n",
            "                                                                 \n",
            " gru (GRU)                   (None, 256, 128)          99072     \n",
            "                                                                 \n",
            " flatten_1 (Flatten)         (None, 32768)             0         \n",
            "                                                                 \n",
            " dense_4 (Dense)             (None, 128)               4194432   \n",
            "                                                                 \n",
            " dense_5 (Dense)             (None, 64)                8256      \n",
            "                                                                 \n",
            " dense_6 (Dense)             (None, 32)                2080      \n",
            "                                                                 \n",
            " dropout_1 (Dropout)         (None, 32)                0         \n",
            "                                                                 \n",
            " dense_7 (Dense)             (None, 1)                 33        \n",
            "                                                                 \n",
            "=================================================================\n",
            "Total params: 12,180,993\n",
            "Trainable params: 12,180,993\n",
            "Non-trainable params: 0\n",
            "_________________________________________________________________\n"
          ]
        }
      ]
    },
    {
      "cell_type": "code",
      "metadata": {
        "colab": {
          "base_uri": "https://localhost:8080/"
        },
        "id": "ewXTHS6Lq6s_",
        "outputId": "20bd56ef-5193-4ea5-9139-6bbf24efb08f"
      },
      "source": [
        "es = keras.callbacks.EarlyStopping(monitor='val_loss', min_delta=0, patience=70, restore_best_weights=True)\n",
        "\n",
        "batch_size = 768\n",
        "epochs = 3\n",
        "history = model.fit(x_train, y_train, validation_data=(x_val, y_val), callbacks=[es], epochs=epochs, batch_size=batch_size)"
      ],
      "execution_count": null,
      "outputs": [
        {
          "output_type": "stream",
          "name": "stdout",
          "text": [
            "Epoch 1/3\n",
            "30/30 [==============================] - 68s 2s/step - loss: 0.5863 - accuracy: 0.6791 - val_loss: 0.3752 - val_accuracy: 0.8392\n",
            "Epoch 2/3\n",
            "30/30 [==============================] - 64s 2s/step - loss: 0.2853 - accuracy: 0.8895 - val_loss: 0.3116 - val_accuracy: 0.8704\n",
            "Epoch 3/3\n",
            "30/30 [==============================] - 63s 2s/step - loss: 0.1505 - accuracy: 0.9518 - val_loss: 0.3551 - val_accuracy: 0.8696\n"
          ]
        }
      ]
    },
    {
      "cell_type": "code",
      "metadata": {
        "colab": {
          "base_uri": "https://localhost:8080/"
        },
        "id": "50WHey1aAM1M",
        "outputId": "caec3e0c-9f1b-457e-bfe5-763fe3415148"
      },
      "source": [
        "model.evaluate(x_test,y_test)"
      ],
      "execution_count": null,
      "outputs": [
        {
          "output_type": "stream",
          "name": "stdout",
          "text": [
            "313/313 [==============================] - 38s 122ms/step - loss: 0.4170 - accuracy: 0.8361\n"
          ]
        },
        {
          "output_type": "execute_result",
          "data": {
            "text/plain": [
              "[0.41699403524398804, 0.8360999822616577]"
            ]
          },
          "metadata": {},
          "execution_count": 15
        }
      ]
    },
    {
      "cell_type": "code",
      "metadata": {
        "colab": {
          "base_uri": "https://localhost:8080/"
        },
        "id": "iD1QPA0Vq8gK",
        "outputId": "e8b53e26-d52b-4030-ea75-38c6326dfc96"
      },
      "source": [
        "y_pred=model.predict(x_test)\n",
        "\n",
        "\n",
        "accuracy_sc = accuracy_score(y_pred=y_pred.round(),y_true=y_test)*100\n",
        "f1_sc = f1_score(y_pred=y_pred.round(),y_true=y_test)\n",
        "\n",
        "print(\"Accuracy score is {}% \".format(accuracy_sc))\n",
        "print(\"f1-score is {}% \".format(f1_sc))\n",
        "print(classification_report(y_pred=y_pred.round(),y_true=y_test))"
      ],
      "execution_count": null,
      "outputs": [
        {
          "output_type": "stream",
          "name": "stdout",
          "text": [
            "Accuracy score is 83.61% \n",
            "f1-score is 0.8386016740521911% \n",
            "              precision    recall  f1-score   support\n",
            "\n",
            "           0       0.84      0.82      0.83      4984\n",
            "           1       0.83      0.85      0.84      5016\n",
            "\n",
            "    accuracy                           0.84     10000\n",
            "   macro avg       0.84      0.84      0.84     10000\n",
            "weighted avg       0.84      0.84      0.84     10000\n",
            "\n"
          ]
        }
      ]
    },
    {
      "cell_type": "markdown",
      "source": [
        "## 4.Experiment"
      ],
      "metadata": {
        "id": "GLO6wgHL2GK1"
      }
    },
    {
      "cell_type": "code",
      "metadata": {
        "colab": {
          "base_uri": "https://localhost:8080/"
        },
        "outputId": "d1467d31-972a-465e-ae71-5ed733085618",
        "id": "UJP1Z42L2IYW"
      },
      "source": [
        "input_layer = keras.layers.Input(shape=(1,), dtype=tf_string)\n",
        "x_v = vect_layer(input_layer)\n",
        "emb = keras.layers.Embedding(vocab_size, embedding_dim, mask_zero=True)(x_v)\n",
        "x = Bidirectional(LSTM(128, activation='relu', return_sequences=True))(emb)\n",
        "x = Bidirectional(GRU(128, activation='relu', return_sequences=True))(x)\n",
        "x = keras.layers.Flatten()(x)\n",
        "x = keras.layers.Dense(128, 'relu')(x)\n",
        "x = keras.layers.Dense(64, 'relu')(x)\n",
        "x = keras.layers.Dense(32, 'relu')(x)\n",
        "x = keras.layers.Dropout(0.2)(x)\n",
        "output_layer = keras.layers.Dense(1, 'sigmoid')(x)\n",
        "\n",
        "model = keras.Model(input_layer, output_layer)\n",
        "model.summary()\n",
        "optimizer = tf.keras.optimizers.Adam(learning_rate=1e-3)\n",
        "\n",
        "model.compile(optimizer=optimizer, loss=keras.losses.BinaryCrossentropy(), metrics=['accuracy'])"
      ],
      "execution_count": null,
      "outputs": [
        {
          "output_type": "stream",
          "name": "stdout",
          "text": [
            "WARNING:tensorflow:Layer lstm_2 will not use cuDNN kernels since it doesn't meet the criteria. It will use a generic GPU kernel as fallback when running on GPU.\n",
            "WARNING:tensorflow:Layer lstm_2 will not use cuDNN kernels since it doesn't meet the criteria. It will use a generic GPU kernel as fallback when running on GPU.\n",
            "WARNING:tensorflow:Layer lstm_2 will not use cuDNN kernels since it doesn't meet the criteria. It will use a generic GPU kernel as fallback when running on GPU.\n",
            "WARNING:tensorflow:Layer gru_1 will not use cuDNN kernels since it doesn't meet the criteria. It will use a generic GPU kernel as fallback when running on GPU.\n",
            "WARNING:tensorflow:Layer gru_1 will not use cuDNN kernels since it doesn't meet the criteria. It will use a generic GPU kernel as fallback when running on GPU.\n",
            "WARNING:tensorflow:Layer gru_1 will not use cuDNN kernels since it doesn't meet the criteria. It will use a generic GPU kernel as fallback when running on GPU.\n",
            "Model: \"model_2\"\n",
            "_________________________________________________________________\n",
            " Layer (type)                Output Shape              Param #   \n",
            "=================================================================\n",
            " input_3 (InputLayer)        [(None, 1)]               0         \n",
            "                                                                 \n",
            " text_vectorization_1 (TextV  (None, 256)              0         \n",
            " ectorization)                                                   \n",
            "                                                                 \n",
            " embedding_2 (Embedding)     (None, 256, 256)          7680000   \n",
            "                                                                 \n",
            " bidirectional (Bidirectiona  (None, 256, 256)         394240    \n",
            " l)                                                              \n",
            "                                                                 \n",
            " bidirectional_1 (Bidirectio  (None, 256, 256)         296448    \n",
            " nal)                                                            \n",
            "                                                                 \n",
            " flatten_2 (Flatten)         (None, 65536)             0         \n",
            "                                                                 \n",
            " dense_8 (Dense)             (None, 128)               8388736   \n",
            "                                                                 \n",
            " dense_9 (Dense)             (None, 64)                8256      \n",
            "                                                                 \n",
            " dense_10 (Dense)            (None, 32)                2080      \n",
            "                                                                 \n",
            " dropout_2 (Dropout)         (None, 32)                0         \n",
            "                                                                 \n",
            " dense_11 (Dense)            (None, 1)                 33        \n",
            "                                                                 \n",
            "=================================================================\n",
            "Total params: 16,769,793\n",
            "Trainable params: 16,769,793\n",
            "Non-trainable params: 0\n",
            "_________________________________________________________________\n"
          ]
        }
      ]
    },
    {
      "cell_type": "code",
      "metadata": {
        "colab": {
          "base_uri": "https://localhost:8080/"
        },
        "outputId": "24d61e3c-443d-4f86-8057-c92ae245a4a7",
        "id": "T5SlwLQs2IYX"
      },
      "source": [
        "es = keras.callbacks.EarlyStopping(monitor='val_loss', min_delta=0, patience=70, restore_best_weights=True)\n",
        "\n",
        "batch_size = 768\n",
        "epochs = 3\n",
        "history = model.fit(x_train, y_train, validation_data=(x_val, y_val), callbacks=[es], epochs=epochs, batch_size=batch_size)"
      ],
      "execution_count": null,
      "outputs": [
        {
          "output_type": "stream",
          "name": "stdout",
          "text": [
            "Epoch 1/3\n",
            "30/30 [==============================] - 142s 5s/step - loss: 0.6533 - accuracy: 0.5999 - val_loss: 0.4491 - val_accuracy: 0.8140\n",
            "Epoch 2/3\n",
            "30/30 [==============================] - 132s 4s/step - loss: 0.3237 - accuracy: 0.8716 - val_loss: 0.2876 - val_accuracy: 0.8832\n",
            "Epoch 3/3\n",
            "30/30 [==============================] - 130s 4s/step - loss: 0.1480 - accuracy: 0.9504 - val_loss: 0.3053 - val_accuracy: 0.8896\n"
          ]
        }
      ]
    },
    {
      "cell_type": "code",
      "metadata": {
        "colab": {
          "base_uri": "https://localhost:8080/"
        },
        "outputId": "5f1f535e-273a-4f8e-b49d-ff29fe448a17",
        "id": "HOtz76pf2IYX"
      },
      "source": [
        "model.evaluate(x_test,y_test)"
      ],
      "execution_count": null,
      "outputs": [
        {
          "output_type": "stream",
          "name": "stdout",
          "text": [
            "313/313 [==============================] - 77s 247ms/step - loss: 0.3640 - accuracy: 0.8564\n"
          ]
        },
        {
          "output_type": "execute_result",
          "data": {
            "text/plain": [
              "[0.3639925420284271, 0.8564000129699707]"
            ]
          },
          "metadata": {},
          "execution_count": 24
        }
      ]
    },
    {
      "cell_type": "code",
      "metadata": {
        "colab": {
          "base_uri": "https://localhost:8080/"
        },
        "outputId": "05ab1a15-d674-404e-e965-0982075651fd",
        "id": "IXjPU84U2IYY"
      },
      "source": [
        "y_pred=model.predict(x_test)\n",
        "\n",
        "\n",
        "accuracy_sc = accuracy_score(y_pred=y_pred.round(),y_true=y_test)*100\n",
        "f1_sc = f1_score(y_pred=y_pred.round(),y_true=y_test)\n",
        "\n",
        "print(\"Accuracy score is {}% \".format(accuracy_sc))\n",
        "print(\"f1-score is {}% \".format(f1_sc))\n",
        "print(classification_report(y_pred=y_pred.round(),y_true=y_test))"
      ],
      "execution_count": null,
      "outputs": [
        {
          "output_type": "stream",
          "name": "stdout",
          "text": [
            "Accuracy score is 85.64% \n",
            "f1-score is 0.8563137882729638% \n",
            "              precision    recall  f1-score   support\n",
            "\n",
            "           0       0.85      0.86      0.86      4984\n",
            "           1       0.86      0.85      0.86      5016\n",
            "\n",
            "    accuracy                           0.86     10000\n",
            "   macro avg       0.86      0.86      0.86     10000\n",
            "weighted avg       0.86      0.86      0.86     10000\n",
            "\n"
          ]
        }
      ]
    },
    {
      "cell_type": "markdown",
      "source": [
        "## 5-6 Vectorizer parameters"
      ],
      "metadata": {
        "id": "A9f8bk_E7TSe"
      }
    },
    {
      "cell_type": "code",
      "metadata": {
        "id": "f3S1qF3B7TSt"
      },
      "source": [
        "embedding_dim = 512 # Dimension of embedded representation \n",
        "vocab_size = 50000 # Number of unique tokens in vocabulary\n",
        "sequence_length = 512 # Output dimension after vectorizing \n",
        "\n",
        "\n",
        "vect_layer = TextVectorization(max_tokens=vocab_size, output_mode='int', output_sequence_length=sequence_length)\n",
        "vect_layer.adapt(x_train)"
      ],
      "execution_count": null,
      "outputs": []
    },
    {
      "cell_type": "code",
      "metadata": {
        "id": "guhuKF537TSt"
      },
      "source": [
        "x_train, x_val, y_train, y_val = train_test_split(x_train, y_train, test_size=0.10, random_state=69, stratify=y_train)"
      ],
      "execution_count": null,
      "outputs": []
    },
    {
      "cell_type": "markdown",
      "source": [
        "## 5.Experiment"
      ],
      "metadata": {
        "id": "9-6jEhNt7gFN"
      }
    },
    {
      "cell_type": "code",
      "metadata": {
        "colab": {
          "base_uri": "https://localhost:8080/"
        },
        "outputId": "8ffe6a70-5bb9-4dba-d78a-1b575a2c58f8",
        "id": "8ViDiqU27gFO"
      },
      "source": [
        "input_layer = keras.layers.Input(shape=(1,), dtype=tf_string)\n",
        "x_v = vect_layer(input_layer)\n",
        "emb = keras.layers.Embedding(vocab_size, embedding_dim, mask_zero=True)(x_v)\n",
        "x = LSTM(256, activation='relu', return_sequences=True)(emb)\n",
        "x = GRU(128, activation='relu', return_sequences=True)(x)\n",
        "x = keras.layers.Flatten()(x)\n",
        "x = keras.layers.Dense(128, 'relu')(x)\n",
        "x = keras.layers.Dense(64, 'relu')(x)\n",
        "x = keras.layers.Dense(32, 'relu')(x)\n",
        "x = keras.layers.Dropout(0.5)(x)\n",
        "output_layer = keras.layers.Dense(1, 'sigmoid')(x)\n",
        "\n",
        "model = keras.Model(input_layer, output_layer)\n",
        "model.summary()\n",
        "optimizer = tf.keras.optimizers.Adam(learning_rate=1e-4)\n",
        "\n",
        "model.compile(optimizer=optimizer, loss=keras.losses.BinaryCrossentropy(), metrics=['accuracy'])"
      ],
      "execution_count": null,
      "outputs": [
        {
          "output_type": "stream",
          "name": "stdout",
          "text": [
            "WARNING:tensorflow:Layer lstm_1 will not use cuDNN kernels since it doesn't meet the criteria. It will use a generic GPU kernel as fallback when running on GPU.\n",
            "WARNING:tensorflow:Layer gru_1 will not use cuDNN kernels since it doesn't meet the criteria. It will use a generic GPU kernel as fallback when running on GPU.\n",
            "Model: \"model_1\"\n",
            "_________________________________________________________________\n",
            " Layer (type)                Output Shape              Param #   \n",
            "=================================================================\n",
            " input_2 (InputLayer)        [(None, 1)]               0         \n",
            "                                                                 \n",
            " text_vectorization (TextVec  (None, 512)              0         \n",
            " torization)                                                     \n",
            "                                                                 \n",
            " embedding_1 (Embedding)     (None, 512, 512)          25600000  \n",
            "                                                                 \n",
            " lstm_1 (LSTM)               (None, 512, 256)          787456    \n",
            "                                                                 \n",
            " gru_1 (GRU)                 (None, 512, 128)          148224    \n",
            "                                                                 \n",
            " flatten (Flatten)           (None, 65536)             0         \n",
            "                                                                 \n",
            " dense_4 (Dense)             (None, 128)               8388736   \n",
            "                                                                 \n",
            " dense_5 (Dense)             (None, 64)                8256      \n",
            "                                                                 \n",
            " dense_6 (Dense)             (None, 32)                2080      \n",
            "                                                                 \n",
            " dropout_1 (Dropout)         (None, 32)                0         \n",
            "                                                                 \n",
            " dense_7 (Dense)             (None, 1)                 33        \n",
            "                                                                 \n",
            "=================================================================\n",
            "Total params: 34,934,785\n",
            "Trainable params: 34,934,785\n",
            "Non-trainable params: 0\n",
            "_________________________________________________________________\n"
          ]
        }
      ]
    },
    {
      "cell_type": "code",
      "metadata": {
        "colab": {
          "base_uri": "https://localhost:8080/"
        },
        "outputId": "ce95bedc-d4a7-4ba3-b130-ef9ccebfce00",
        "id": "akWB4ig_7gFP"
      },
      "source": [
        "es = keras.callbacks.EarlyStopping(monitor='val_loss', min_delta=0, patience=70, restore_best_weights=True)\n",
        "\n",
        "batch_size = 768\n",
        "epochs = 3\n",
        "history = model.fit(x_train, y_train, validation_data=(x_val, y_val), callbacks=[es], epochs=epochs, batch_size=batch_size)"
      ],
      "execution_count": null,
      "outputs": [
        {
          "output_type": "stream",
          "name": "stdout",
          "text": [
            "Epoch 1/3\n",
            "30/30 [==============================] - 88s 3s/step - loss: 0.1914 - accuracy: 0.9414 - val_loss: 0.3724 - val_accuracy: 0.8560\n",
            "Epoch 2/3\n",
            "30/30 [==============================] - 88s 3s/step - loss: 0.1411 - accuracy: 0.9603 - val_loss: 0.3855 - val_accuracy: 0.8600\n",
            "Epoch 3/3\n",
            "30/30 [==============================] - 87s 3s/step - loss: 0.0917 - accuracy: 0.9769 - val_loss: 0.4377 - val_accuracy: 0.8572\n"
          ]
        }
      ]
    },
    {
      "cell_type": "code",
      "metadata": {
        "colab": {
          "base_uri": "https://localhost:8080/"
        },
        "outputId": "1990ae2f-53a8-4875-9902-783639a1f7c1",
        "id": "njBr25UN7gFQ"
      },
      "source": [
        "model.evaluate(x_test,y_test)"
      ],
      "execution_count": null,
      "outputs": [
        {
          "output_type": "stream",
          "name": "stdout",
          "text": [
            "313/313 [==============================] - 71s 226ms/step - loss: 0.5325 - accuracy: 0.8394\n"
          ]
        },
        {
          "output_type": "execute_result",
          "data": {
            "text/plain": [
              "[0.5324867963790894, 0.8393999934196472]"
            ]
          },
          "metadata": {},
          "execution_count": 17
        }
      ]
    },
    {
      "cell_type": "code",
      "metadata": {
        "colab": {
          "base_uri": "https://localhost:8080/"
        },
        "outputId": "2d7d0888-6d9e-4578-fb3a-63ae57c30812",
        "id": "5rPX5eif7gFQ"
      },
      "source": [
        "y_pred=model.predict(x_test)\n",
        "\n",
        "\n",
        "accuracy_sc = accuracy_score(y_pred=y_pred.round(),y_true=y_test)*100\n",
        "f1_sc = f1_score(y_pred=y_pred.round(),y_true=y_test)\n",
        "\n",
        "print(\"Accuracy score is {}% \".format(accuracy_sc))\n",
        "print(\"f1-score is {}% \".format(f1_sc))\n",
        "print(classification_report(y_pred=y_pred.round(),y_true=y_test))"
      ],
      "execution_count": null,
      "outputs": [
        {
          "output_type": "stream",
          "name": "stdout",
          "text": [
            "Accuracy score is 83.94% \n",
            "f1-score is 0.8389167502507522% \n",
            "              precision    recall  f1-score   support\n",
            "\n",
            "           0       0.83      0.85      0.84      4984\n",
            "           1       0.84      0.83      0.84      5016\n",
            "\n",
            "    accuracy                           0.84     10000\n",
            "   macro avg       0.84      0.84      0.84     10000\n",
            "weighted avg       0.84      0.84      0.84     10000\n",
            "\n"
          ]
        }
      ]
    },
    {
      "cell_type": "markdown",
      "source": [
        "## 6.Experiment"
      ],
      "metadata": {
        "id": "xRK5WQuz7gFR"
      }
    },
    {
      "cell_type": "code",
      "metadata": {
        "colab": {
          "base_uri": "https://localhost:8080/"
        },
        "outputId": "3f0717d5-6d2a-4ef4-8ff7-e0fa9b63e7fc",
        "id": "BSpOlyzZ93uk"
      },
      "source": [
        "input_layer = keras.layers.Input(shape=(1,), dtype=tf_string)\n",
        "x_v = vect_layer(input_layer)\n",
        "emb = keras.layers.Embedding(vocab_size, embedding_dim, mask_zero=True)(x_v)\n",
        "x = Bidirectional(LSTM(128, activation='relu', return_sequences=True))(emb)\n",
        "x = Bidirectional(GRU(64, activation='relu', return_sequences=True))(x)\n",
        "x = keras.layers.Flatten()(x)\n",
        "x = keras.layers.Dense(128, 'relu')(x)\n",
        "x = keras.layers.Dense(64, 'relu')(x)\n",
        "x = keras.layers.Dense(32, 'relu')(x)\n",
        "x = keras.layers.Dropout(0.5)(x)\n",
        "output_layer = keras.layers.Dense(1, 'sigmoid')(x)\n",
        "\n",
        "model = keras.Model(input_layer, output_layer)\n",
        "model.summary()\n",
        "optimizer = tf.keras.optimizers.Adam(learning_rate=1e-4)\n",
        "\n",
        "model.compile(optimizer=optimizer, loss=keras.losses.BinaryCrossentropy(), metrics=['accuracy'])"
      ],
      "execution_count": null,
      "outputs": [
        {
          "output_type": "stream",
          "name": "stdout",
          "text": [
            "WARNING:tensorflow:Layer lstm_4 will not use cuDNN kernels since it doesn't meet the criteria. It will use a generic GPU kernel as fallback when running on GPU.\n",
            "WARNING:tensorflow:Layer lstm_4 will not use cuDNN kernels since it doesn't meet the criteria. It will use a generic GPU kernel as fallback when running on GPU.\n",
            "WARNING:tensorflow:Layer lstm_4 will not use cuDNN kernels since it doesn't meet the criteria. It will use a generic GPU kernel as fallback when running on GPU.\n",
            "WARNING:tensorflow:Layer gru_4 will not use cuDNN kernels since it doesn't meet the criteria. It will use a generic GPU kernel as fallback when running on GPU.\n",
            "WARNING:tensorflow:Layer gru_4 will not use cuDNN kernels since it doesn't meet the criteria. It will use a generic GPU kernel as fallback when running on GPU.\n",
            "WARNING:tensorflow:Layer gru_4 will not use cuDNN kernels since it doesn't meet the criteria. It will use a generic GPU kernel as fallback when running on GPU.\n",
            "Model: \"model_4\"\n",
            "_________________________________________________________________\n",
            " Layer (type)                Output Shape              Param #   \n",
            "=================================================================\n",
            " input_5 (InputLayer)        [(None, 1)]               0         \n",
            "                                                                 \n",
            " text_vectorization (TextVec  (None, 512)              0         \n",
            " torization)                                                     \n",
            "                                                                 \n",
            " embedding_4 (Embedding)     (None, 512, 512)          25600000  \n",
            "                                                                 \n",
            " bidirectional_4 (Bidirectio  (None, 512, 256)         656384    \n",
            " nal)                                                            \n",
            "                                                                 \n",
            " bidirectional_5 (Bidirectio  (None, 512, 128)         123648    \n",
            " nal)                                                            \n",
            "                                                                 \n",
            " flatten_3 (Flatten)         (None, 65536)             0         \n",
            "                                                                 \n",
            " dense_16 (Dense)            (None, 128)               8388736   \n",
            "                                                                 \n",
            " dense_17 (Dense)            (None, 64)                8256      \n",
            "                                                                 \n",
            " dense_18 (Dense)            (None, 32)                2080      \n",
            "                                                                 \n",
            " dropout_4 (Dropout)         (None, 32)                0         \n",
            "                                                                 \n",
            " dense_19 (Dense)            (None, 1)                 33        \n",
            "                                                                 \n",
            "=================================================================\n",
            "Total params: 34,779,137\n",
            "Trainable params: 34,779,137\n",
            "Non-trainable params: 0\n",
            "_________________________________________________________________\n"
          ]
        }
      ]
    },
    {
      "cell_type": "code",
      "metadata": {
        "colab": {
          "base_uri": "https://localhost:8080/"
        },
        "outputId": "787ddd2e-5e3c-4a80-fb43-2f70091b8154",
        "id": "5K7RaWp893un"
      },
      "source": [
        "es = keras.callbacks.EarlyStopping(monitor='val_loss', min_delta=0, patience=70, restore_best_weights=True)\n",
        "\n",
        "batch_size = 768\n",
        "epochs = 8\n",
        "history = model.fit(x_train, y_train, validation_data=(x_val, y_val), callbacks=[es], epochs=epochs, batch_size=batch_size)"
      ],
      "execution_count": null,
      "outputs": [
        {
          "output_type": "stream",
          "name": "stdout",
          "text": [
            "Epoch 1/8\n",
            "30/30 [==============================] - 175s 6s/step - loss: 0.6929 - accuracy: 0.5149 - val_loss: 0.6905 - val_accuracy: 0.5540\n",
            "Epoch 2/8\n",
            "30/30 [==============================] - 171s 6s/step - loss: 0.6751 - accuracy: 0.6164 - val_loss: 0.6384 - val_accuracy: 0.6760\n",
            "Epoch 3/8\n",
            "30/30 [==============================] - 169s 6s/step - loss: 0.5573 - accuracy: 0.7522 - val_loss: 0.4344 - val_accuracy: 0.8304\n",
            "Epoch 4/8\n",
            "30/30 [==============================] - 169s 6s/step - loss: 0.3680 - accuracy: 0.8622 - val_loss: 0.3091 - val_accuracy: 0.8736\n",
            "Epoch 5/8\n",
            "30/30 [==============================] - 171s 6s/step - loss: 0.2531 - accuracy: 0.9112 - val_loss: 0.2756 - val_accuracy: 0.8876\n",
            "Epoch 6/8\n",
            "30/30 [==============================] - 168s 6s/step - loss: 0.1895 - accuracy: 0.9386 - val_loss: 0.2602 - val_accuracy: 0.8976\n",
            "Epoch 7/8\n",
            "30/30 [==============================] - 171s 6s/step - loss: 0.1379 - accuracy: 0.9588 - val_loss: 0.2721 - val_accuracy: 0.8996\n",
            "Epoch 8/8\n",
            "30/30 [==============================] - 169s 6s/step - loss: 0.1035 - accuracy: 0.9733 - val_loss: 0.3275 - val_accuracy: 0.8952\n"
          ]
        }
      ]
    },
    {
      "cell_type": "code",
      "metadata": {
        "colab": {
          "base_uri": "https://localhost:8080/"
        },
        "id": "QqFUbhm093uo",
        "outputId": "c77cbd8e-02d2-46a5-81a7-2eeeff0b32c6"
      },
      "source": [
        "model.evaluate(x_test,y_test)"
      ],
      "execution_count": null,
      "outputs": [
        {
          "output_type": "stream",
          "name": "stdout",
          "text": [
            "313/313 [==============================] - 128s 409ms/step - loss: 0.3863 - accuracy: 0.8692\n"
          ]
        },
        {
          "output_type": "execute_result",
          "data": {
            "text/plain": [
              "[0.38628536462783813, 0.8691999912261963]"
            ]
          },
          "metadata": {},
          "execution_count": 25
        }
      ]
    },
    {
      "cell_type": "code",
      "metadata": {
        "colab": {
          "base_uri": "https://localhost:8080/"
        },
        "id": "X5HWk5tF93uo",
        "outputId": "62ab9f23-1896-47ed-bf8c-eeddf5bf2379"
      },
      "source": [
        "y_pred=model.predict(x_test)\n",
        "\n",
        "\n",
        "accuracy_sc = accuracy_score(y_pred=y_pred.round(),y_true=y_test)*100\n",
        "f1_sc = f1_score(y_pred=y_pred.round(),y_true=y_test)\n",
        "\n",
        "print(\"Accuracy score is {}% \".format(accuracy_sc))\n",
        "print(\"f1-score is {}% \".format(f1_sc))\n",
        "print(classification_report(y_pred=y_pred.round(),y_true=y_test))"
      ],
      "execution_count": null,
      "outputs": [
        {
          "output_type": "stream",
          "name": "stdout",
          "text": [
            "Accuracy score is 86.92% \n",
            "f1-score is 0.8738669238187079% \n",
            "              precision    recall  f1-score   support\n",
            "\n",
            "           0       0.90      0.83      0.86      4984\n",
            "           1       0.85      0.90      0.87      5016\n",
            "\n",
            "    accuracy                           0.87     10000\n",
            "   macro avg       0.87      0.87      0.87     10000\n",
            "weighted avg       0.87      0.87      0.87     10000\n",
            "\n"
          ]
        }
      ]
    },
    {
      "cell_type": "code",
      "metadata": {
        "id": "_WloMU3JAXfo"
      },
      "source": [
        ""
      ],
      "execution_count": null,
      "outputs": []
    },
    {
      "cell_type": "markdown",
      "source": [
        "# Save model"
      ],
      "metadata": {
        "id": "iTPu66bc7Xo9"
      }
    },
    {
      "cell_type": "code",
      "metadata": {
        "colab": {
          "base_uri": "https://localhost:8080/"
        },
        "id": "Q-urKYDgq-un",
        "outputId": "26c8d91d-e4e6-4e6a-af9f-3691d8b43c23"
      },
      "source": [
        "model.save('FR_LSTM_sixth')"
      ],
      "execution_count": null,
      "outputs": [
        {
          "output_type": "stream",
          "name": "stdout",
          "text": [
            "INFO:tensorflow:Assets written to: FR_LSTM_sixth/assets\n"
          ]
        },
        {
          "output_type": "stream",
          "name": "stderr",
          "text": [
            "WARNING:absl:<keras.layers.recurrent.LSTMCell object at 0x7f36c1b79210> has the same name 'LSTMCell' as a built-in Keras object. Consider renaming <class 'keras.layers.recurrent.LSTMCell'> to avoid naming conflicts when loading with `tf.keras.models.load_model`. If renaming is not possible, pass the object in the `custom_objects` parameter of the load function.\n",
            "WARNING:absl:<keras.layers.recurrent.GRUCell object at 0x7f36c1f49d90> has the same name 'GRUCell' as a built-in Keras object. Consider renaming <class 'keras.layers.recurrent.GRUCell'> to avoid naming conflicts when loading with `tf.keras.models.load_model`. If renaming is not possible, pass the object in the `custom_objects` parameter of the load function.\n"
          ]
        }
      ]
    },
    {
      "cell_type": "code",
      "metadata": {
        "colab": {
          "base_uri": "https://localhost:8080/"
        },
        "id": "_wgbyYDl-JSi",
        "outputId": "046ec7a0-829e-459f-b83e-e78e36ffc9c8"
      },
      "source": [
        "!zip -r /content/FrLSTMsixth.zip /content/FR_LSTM_sixth/"
      ],
      "execution_count": null,
      "outputs": [
        {
          "output_type": "stream",
          "name": "stdout",
          "text": [
            "  adding: content/FR_LSTM_sixth/ (stored 0%)\n",
            "  adding: content/FR_LSTM_sixth/variables/ (stored 0%)\n",
            "  adding: content/FR_LSTM_sixth/variables/variables.index (deflated 67%)\n",
            "  adding: content/FR_LSTM_sixth/variables/variables.data-00000-of-00001 (deflated 8%)\n",
            "  adding: content/FR_LSTM_sixth/assets/ (stored 0%)\n",
            "  adding: content/FR_LSTM_sixth/keras_metadata.pb (deflated 90%)\n",
            "  adding: content/FR_LSTM_sixth/saved_model.pb (deflated 78%)\n"
          ]
        }
      ]
    }
  ]
}