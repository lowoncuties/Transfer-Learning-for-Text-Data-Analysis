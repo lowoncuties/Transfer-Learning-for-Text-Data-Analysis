{
  "nbformat": 4,
  "nbformat_minor": 0,
  "metadata": {
    "colab": {
      "name": "TweetsSVM-ENG.ipynb",
      "provenance": [],
      "collapsed_sections": [],
      "toc_visible": true
    },
    "kernelspec": {
      "name": "python3",
      "display_name": "Python 3"
    },
    "language_info": {
      "name": "python"
    },
    "accelerator": "GPU"
  },
  "cells": [
    {
      "cell_type": "markdown",
      "source": [
        "# Imports and utility functions"
      ],
      "metadata": {
        "id": "wJpyTcL7hpdf"
      }
    },
    {
      "cell_type": "code",
      "source": [
        "from __future__ import absolute_import\n",
        "from __future__ import division\n",
        "from __future__ import print_function\n",
        "\n",
        "import numpy as np #numpy\n",
        "import seaborn as sns #seaborn\n",
        "from sklearn.model_selection import train_test_split # split for validation sets\n",
        "from sklearn.metrics import accuracy_score, f1_score, classification_report\n",
        "import scipy\n",
        "import pandas as pd\n",
        "import re"
      ],
      "metadata": {
        "id": "Jgdhwkd8HaoR"
      },
      "execution_count": null,
      "outputs": []
    },
    {
      "cell_type": "code",
      "source": [
        "def cleanTexts(texts):\n",
        "    cleaned = []\n",
        "    pattern = \"[^a-zA-Z0-9]\"\n",
        "    for text in texts:\n",
        "        clrd = re.sub(pattern,\" \",text).lower().strip()\n",
        "        cleaned.append(clrd)\n",
        "    return cleaned"
      ],
      "metadata": {
        "id": "tI-FtyPT_-OC"
      },
      "execution_count": null,
      "outputs": []
    },
    {
      "cell_type": "markdown",
      "source": [
        "# Load data\n"
      ],
      "metadata": {
        "id": "vMSulSjdoi5O"
      }
    },
    {
      "cell_type": "code",
      "source": [
        "from sklearn.utils import shuffle\n",
        "\n",
        "dataset = pd.read_csv('train_data_tweetsENG.csv')\n",
        "dataset = shuffle(dataset)\n",
        "dataset.tail()"
      ],
      "metadata": {
        "id": "hHyMmeeQDgUr",
        "colab": {
          "base_uri": "https://localhost:8080/",
          "height": 206
        },
        "outputId": "0de1aba8-d99e-4c8f-9f9b-ded711368a64"
      },
      "execution_count": null,
      "outputs": [
        {
          "output_type": "execute_result",
          "data": {
            "text/plain": [
              "                                                     text  label\n",
              "566760  r @vranac_b @sotirovalex well, my ID was from ...      1\n",
              "138600                      @EstelleDarlings Follow Me!!       1\n",
              "40507   @CHILLSPOTATL lol I work on Sataurdays... tire...      0\n",
              "612469                  Packing now... I dont want to go       0\n",
              "202563  getting a bottle! anas  bowling...then!? with ...      1"
            ],
            "text/html": [
              "\n",
              "  <div id=\"df-d77673a8-98b8-4273-a7a7-19a4265548da\">\n",
              "    <div class=\"colab-df-container\">\n",
              "      <div>\n",
              "<style scoped>\n",
              "    .dataframe tbody tr th:only-of-type {\n",
              "        vertical-align: middle;\n",
              "    }\n",
              "\n",
              "    .dataframe tbody tr th {\n",
              "        vertical-align: top;\n",
              "    }\n",
              "\n",
              "    .dataframe thead th {\n",
              "        text-align: right;\n",
              "    }\n",
              "</style>\n",
              "<table border=\"1\" class=\"dataframe\">\n",
              "  <thead>\n",
              "    <tr style=\"text-align: right;\">\n",
              "      <th></th>\n",
              "      <th>text</th>\n",
              "      <th>label</th>\n",
              "    </tr>\n",
              "  </thead>\n",
              "  <tbody>\n",
              "    <tr>\n",
              "      <th>566760</th>\n",
              "      <td>r @vranac_b @sotirovalex well, my ID was from ...</td>\n",
              "      <td>1</td>\n",
              "    </tr>\n",
              "    <tr>\n",
              "      <th>138600</th>\n",
              "      <td>@EstelleDarlings Follow Me!!</td>\n",
              "      <td>1</td>\n",
              "    </tr>\n",
              "    <tr>\n",
              "      <th>40507</th>\n",
              "      <td>@CHILLSPOTATL lol I work on Sataurdays... tire...</td>\n",
              "      <td>0</td>\n",
              "    </tr>\n",
              "    <tr>\n",
              "      <th>612469</th>\n",
              "      <td>Packing now... I dont want to go</td>\n",
              "      <td>0</td>\n",
              "    </tr>\n",
              "    <tr>\n",
              "      <th>202563</th>\n",
              "      <td>getting a bottle! anas  bowling...then!? with ...</td>\n",
              "      <td>1</td>\n",
              "    </tr>\n",
              "  </tbody>\n",
              "</table>\n",
              "</div>\n",
              "      <button class=\"colab-df-convert\" onclick=\"convertToInteractive('df-d77673a8-98b8-4273-a7a7-19a4265548da')\"\n",
              "              title=\"Convert this dataframe to an interactive table.\"\n",
              "              style=\"display:none;\">\n",
              "        \n",
              "  <svg xmlns=\"http://www.w3.org/2000/svg\" height=\"24px\"viewBox=\"0 0 24 24\"\n",
              "       width=\"24px\">\n",
              "    <path d=\"M0 0h24v24H0V0z\" fill=\"none\"/>\n",
              "    <path d=\"M18.56 5.44l.94 2.06.94-2.06 2.06-.94-2.06-.94-.94-2.06-.94 2.06-2.06.94zm-11 1L8.5 8.5l.94-2.06 2.06-.94-2.06-.94L8.5 2.5l-.94 2.06-2.06.94zm10 10l.94 2.06.94-2.06 2.06-.94-2.06-.94-.94-2.06-.94 2.06-2.06.94z\"/><path d=\"M17.41 7.96l-1.37-1.37c-.4-.4-.92-.59-1.43-.59-.52 0-1.04.2-1.43.59L10.3 9.45l-7.72 7.72c-.78.78-.78 2.05 0 2.83L4 21.41c.39.39.9.59 1.41.59.51 0 1.02-.2 1.41-.59l7.78-7.78 2.81-2.81c.8-.78.8-2.07 0-2.86zM5.41 20L4 18.59l7.72-7.72 1.47 1.35L5.41 20z\"/>\n",
              "  </svg>\n",
              "      </button>\n",
              "      \n",
              "  <style>\n",
              "    .colab-df-container {\n",
              "      display:flex;\n",
              "      flex-wrap:wrap;\n",
              "      gap: 12px;\n",
              "    }\n",
              "\n",
              "    .colab-df-convert {\n",
              "      background-color: #E8F0FE;\n",
              "      border: none;\n",
              "      border-radius: 50%;\n",
              "      cursor: pointer;\n",
              "      display: none;\n",
              "      fill: #1967D2;\n",
              "      height: 32px;\n",
              "      padding: 0 0 0 0;\n",
              "      width: 32px;\n",
              "    }\n",
              "\n",
              "    .colab-df-convert:hover {\n",
              "      background-color: #E2EBFA;\n",
              "      box-shadow: 0px 1px 2px rgba(60, 64, 67, 0.3), 0px 1px 3px 1px rgba(60, 64, 67, 0.15);\n",
              "      fill: #174EA6;\n",
              "    }\n",
              "\n",
              "    [theme=dark] .colab-df-convert {\n",
              "      background-color: #3B4455;\n",
              "      fill: #D2E3FC;\n",
              "    }\n",
              "\n",
              "    [theme=dark] .colab-df-convert:hover {\n",
              "      background-color: #434B5C;\n",
              "      box-shadow: 0px 1px 3px 1px rgba(0, 0, 0, 0.15);\n",
              "      filter: drop-shadow(0px 1px 2px rgba(0, 0, 0, 0.3));\n",
              "      fill: #FFFFFF;\n",
              "    }\n",
              "  </style>\n",
              "\n",
              "      <script>\n",
              "        const buttonEl =\n",
              "          document.querySelector('#df-d77673a8-98b8-4273-a7a7-19a4265548da button.colab-df-convert');\n",
              "        buttonEl.style.display =\n",
              "          google.colab.kernel.accessAllowed ? 'block' : 'none';\n",
              "\n",
              "        async function convertToInteractive(key) {\n",
              "          const element = document.querySelector('#df-d77673a8-98b8-4273-a7a7-19a4265548da');\n",
              "          const dataTable =\n",
              "            await google.colab.kernel.invokeFunction('convertToInteractive',\n",
              "                                                     [key], {});\n",
              "          if (!dataTable) return;\n",
              "\n",
              "          const docLinkHtml = 'Like what you see? Visit the ' +\n",
              "            '<a target=\"_blank\" href=https://colab.research.google.com/notebooks/data_table.ipynb>data table notebook</a>'\n",
              "            + ' to learn more about interactive tables.';\n",
              "          element.innerHTML = '';\n",
              "          dataTable['output_type'] = 'display_data';\n",
              "          await google.colab.output.renderOutput(dataTable, element);\n",
              "          const docLink = document.createElement('div');\n",
              "          docLink.innerHTML = docLinkHtml;\n",
              "          element.appendChild(docLink);\n",
              "        }\n",
              "      </script>\n",
              "    </div>\n",
              "  </div>\n",
              "  "
            ]
          },
          "metadata": {},
          "execution_count": 20
        }
      ]
    },
    {
      "cell_type": "code",
      "source": [
        "x_train = list((dataset['text']))\n",
        "# print(x[:5])\n",
        "\n",
        "y_train = list(dataset['label'])\n",
        "# print(y[:5])\n",
        "\n",
        "x_train = x_train[:10000]\n",
        "y_train = y_train[:10000]\n",
        "\n",
        "#x_train = x_train[:20000]\n",
        "#y_train = y_train[:20000]\n",
        "\n",
        "#x_train = x_train[:25000]\n",
        "#y_train = y_train[:25000]"
      ],
      "metadata": {
        "id": "Js7x7c9UpSCL"
      },
      "execution_count": null,
      "outputs": []
    },
    {
      "cell_type": "markdown",
      "source": [
        "- to change number of samples, comment or uncomment this"
      ],
      "metadata": {
        "id": "neNonnlqJtbL"
      }
    },
    {
      "cell_type": "code",
      "source": [
        "test_data = pd.read_csv('test_data_tweetsENG.csv')\n",
        "\n",
        "x_test = list(test_data['text'])\n",
        "y_test = list(test_data['label'])\n",
        "\n",
        "x_test = x_test[:10000]\n",
        "y_test = y_test[:10000]"
      ],
      "metadata": {
        "id": "g8e38RfBpT-b"
      },
      "execution_count": null,
      "outputs": []
    },
    {
      "cell_type": "markdown",
      "source": [
        "# Tokenize data"
      ],
      "metadata": {
        "id": "ylCg2GJFHoji"
      }
    },
    {
      "cell_type": "code",
      "source": [
        "from sklearn.feature_extraction.text import CountVectorizer\n",
        "\n",
        "vectorizer = CountVectorizer(binary=True, stop_words='english')\n",
        "\n",
        "vectorizer.fit(x_train + x_test)\n",
        "\n",
        "x_train_vec = vectorizer.transform(x_train) \n",
        "x_test_vec = vectorizer.transform(x_test)"
      ],
      "metadata": {
        "id": "hoYPAkRlArlI"
      },
      "execution_count": null,
      "outputs": []
    },
    {
      "cell_type": "markdown",
      "source": [
        "# Train and predict model"
      ],
      "metadata": {
        "id": "0FuOcFhhHshp"
      }
    },
    {
      "cell_type": "code",
      "source": [
        "from sklearn import svm\n",
        "\n",
        "svm = svm.SVC(C=1.0, kernel='linear', degree=3, gamma='auto')\n",
        "\n",
        "prob = svm.fit(x_train_vec, y_train)\n",
        "\n",
        "y_pred_svm = svm.predict(x_test_vec)\n"
      ],
      "metadata": {
        "id": "knr3iPM_Arnp"
      },
      "execution_count": null,
      "outputs": []
    },
    {
      "cell_type": "code",
      "source": [
        "accuracy_score(y_test, y_pred_svm) *100"
      ],
      "metadata": {
        "colab": {
          "base_uri": "https://localhost:8080/"
        },
        "id": "v3iIFMR5FEeN",
        "outputId": "f4cbebff-ced4-47ad-8caf-b3a03272eaf5"
      },
      "execution_count": null,
      "outputs": [
        {
          "output_type": "execute_result",
          "data": {
            "text/plain": [
              "71.22"
            ]
          },
          "metadata": {},
          "execution_count": 32
        }
      ]
    },
    {
      "cell_type": "code",
      "source": [
        "accuracy_sc = accuracy_score(y_pred=y_pred_svm.round(),y_true=y_test)*100\n",
        "f1_sc = f1_score(y_pred=y_pred_svm.round(),y_true=y_test)\n",
        "\n",
        "print(\"Accuracy score is {}% \".format(accuracy_sc))\n",
        "print(\"f1-score is {}% \".format(f1_sc))\n",
        "print(classification_report(y_pred=y_pred_svm.round(),y_true=y_test))"
      ],
      "metadata": {
        "colab": {
          "base_uri": "https://localhost:8080/"
        },
        "id": "8SY1qZwjQUzA",
        "outputId": "6d1ade53-83cd-40d9-9a20-78280884c7b7"
      },
      "execution_count": null,
      "outputs": [
        {
          "output_type": "stream",
          "name": "stdout",
          "text": [
            "Accuracy score is 71.22% \n",
            "f1-score is 0.7130608175473578% \n",
            "              precision    recall  f1-score   support\n",
            "\n",
            "           0       0.71      0.71      0.71      5000\n",
            "           1       0.71      0.72      0.71      5000\n",
            "\n",
            "    accuracy                           0.71     10000\n",
            "   macro avg       0.71      0.71      0.71     10000\n",
            "weighted avg       0.71      0.71      0.71     10000\n",
            "\n"
          ]
        }
      ]
    }
  ]
}